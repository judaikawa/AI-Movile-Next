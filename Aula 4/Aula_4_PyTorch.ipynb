{
  "nbformat": 4,
  "nbformat_minor": 0,
  "metadata": {
    "colab": {
      "name": "Aula 4 - PyTorch",
      "version": "0.3.2",
      "provenance": [],
      "collapsed_sections": []
    },
    "kernelspec": {
      "name": "python3",
      "display_name": "Python 3"
    },
    "accelerator": "GPU"
  },
  "cells": [
    {
      "cell_type": "markdown",
      "metadata": {
        "id": "qGu-XQUFlS9H",
        "colab_type": "text"
      },
      "source": [
        "# O - Sumário\n",
        "\n",
        "- Introdução Conceitual\n",
        "  - Perceptron\n",
        "  - Modelagem com matrizes\n",
        "  - Redes Neurais\n",
        "  - Treinamento\n",
        "  \n",
        "- PyTorch\n",
        "  - Conceitos iniciais\n",
        "    - Tensores\n",
        "    - Operações\n",
        "    - CPU x GPU\n",
        "  - Redes Neurais\n",
        "    - Treinamento"
      ]
    },
    {
      "cell_type": "markdown",
      "metadata": {
        "id": "yfV9H8GPl01n",
        "colab_type": "text"
      },
      "source": [
        "# 1 - Introdução Conceitual\n",
        "**O que é DeepLearning?**\n",
        "É muito comum a confusão entre as expressões **Inteligência Artificial, Machine Learning e Deep Learning**. Na verdade, são sub-áreas de estudo.\n",
        "<br>\n",
        "*Deep Learning Fundamentals: An Introduction for Beginners (Chao Pan)*"
      ]
    },
    {
      "cell_type": "markdown",
      "metadata": {
        "id": "qToK1gMum3ft",
        "colab_type": "text"
      },
      "source": [
        "# 1.1 - Perceptron (Neurônio Artificial)\n",
        "Em 1957 foi desenvolvido o **Perceptron** por Frank Rosenblatt. O Perceptron é uma estrutura que se baseia no **Neurônio**, e por isso também é conhecido como **Neurônio Artificial**.\n",
        "<br>\n",
        "Os componentes do Perceptron são:\n",
        "- Input: Valores das features dos dados\n",
        "- Pesos\n",
        "- Ativação\n",
        "- Função"
      ]
    },
    {
      "cell_type": "markdown",
      "metadata": {
        "id": "FR4gjxbWnv67",
        "colab_type": "text"
      },
      "source": [
        "# 1.2 - Modelagem com Matrizes"
      ]
    },
    {
      "cell_type": "code",
      "metadata": {
        "id": "Z2Zhuly0oIub",
        "colab_type": "code",
        "colab": {}
      },
      "source": [
        "import numpy as np\n",
        "import pandas as pd"
      ],
      "execution_count": 0,
      "outputs": []
    },
    {
      "cell_type": "code",
      "metadata": {
        "id": "a98RQsk1oRNN",
        "colab_type": "code",
        "colab": {
          "base_uri": "https://localhost:8080/",
          "height": 85
        },
        "outputId": "352f6a28-e3a0-4614-a50e-921bb0486bd9"
      },
      "source": [
        "w = np.matrix([\n",
        "    [5],\n",
        "    [-10],\n",
        "    [0],\n",
        "    [0]\n",
        "]) \n",
        "print(w) # Pesos"
      ],
      "execution_count": 2,
      "outputs": [
        {
          "output_type": "stream",
          "text": [
            "[[  5]\n",
            " [-10]\n",
            " [  0]\n",
            " [  0]]\n"
          ],
          "name": "stdout"
        }
      ]
    },
    {
      "cell_type": "markdown",
      "metadata": {
        "id": "mQzkYDKCogQI",
        "colab_type": "text"
      },
      "source": [
        "# Função de Ativação do tipo *Sigmoid*\n",
        "Nós usamos uma função do tipo sigmoid pois esperar um resultado booleano, como em uma regressão logística."
      ]
    },
    {
      "cell_type": "code",
      "metadata": {
        "id": "Te8PpE68oakO",
        "colab_type": "code",
        "colab": {}
      },
      "source": [
        "def activation_function(atctivation):\n",
        "  return 1/(1+np.exp(-atctivation))"
      ],
      "execution_count": 0,
      "outputs": []
    },
    {
      "cell_type": "code",
      "metadata": {
        "id": "D1bn5ud2p3Hq",
        "colab_type": "code",
        "colab": {}
      },
      "source": [
        "v_activation_function = np.vectorize(activation_function)"
      ],
      "execution_count": 0,
      "outputs": []
    },
    {
      "cell_type": "code",
      "metadata": {
        "id": "f4OTn7NlqCMJ",
        "colab_type": "code",
        "colab": {}
      },
      "source": [
        "def perceptron(x,w):\n",
        "  a = np.matmul(x,w)\n",
        "  return v_activation_function(a)"
      ],
      "execution_count": 0,
      "outputs": []
    },
    {
      "cell_type": "markdown",
      "metadata": {
        "id": "Z8HsB_Vjqi4j",
        "colab_type": "text"
      },
      "source": [
        "# Step 3: Calculate New Input"
      ]
    },
    {
      "cell_type": "code",
      "metadata": {
        "id": "GcqDOnXerLKy",
        "colab_type": "code",
        "colab": {
          "base_uri": "https://localhost:8080/",
          "height": 204
        },
        "outputId": "033f659b-4ae1-47d1-baf4-eeb739e23974"
      },
      "source": [
        "df = pd.read_csv('https://bit.ly/dbc-matrix-example')\n",
        "df"
      ],
      "execution_count": 6,
      "outputs": [
        {
          "output_type": "execute_result",
          "data": {
            "text/html": [
              "<div>\n",
              "<style scoped>\n",
              "    .dataframe tbody tr th:only-of-type {\n",
              "        vertical-align: middle;\n",
              "    }\n",
              "\n",
              "    .dataframe tbody tr th {\n",
              "        vertical-align: top;\n",
              "    }\n",
              "\n",
              "    .dataframe thead th {\n",
              "        text-align: right;\n",
              "    }\n",
              "</style>\n",
              "<table border=\"1\" class=\"dataframe\">\n",
              "  <thead>\n",
              "    <tr style=\"text-align: right;\">\n",
              "      <th></th>\n",
              "      <th>ft1</th>\n",
              "      <th>ft2</th>\n",
              "      <th>ft3</th>\n",
              "      <th>tg</th>\n",
              "    </tr>\n",
              "  </thead>\n",
              "  <tbody>\n",
              "    <tr>\n",
              "      <th>0</th>\n",
              "      <td>1</td>\n",
              "      <td>2</td>\n",
              "      <td>1</td>\n",
              "      <td>0</td>\n",
              "    </tr>\n",
              "    <tr>\n",
              "      <th>1</th>\n",
              "      <td>1</td>\n",
              "      <td>3</td>\n",
              "      <td>4</td>\n",
              "      <td>0</td>\n",
              "    </tr>\n",
              "    <tr>\n",
              "      <th>2</th>\n",
              "      <td>0</td>\n",
              "      <td>2</td>\n",
              "      <td>3</td>\n",
              "      <td>1</td>\n",
              "    </tr>\n",
              "    <tr>\n",
              "      <th>3</th>\n",
              "      <td>0</td>\n",
              "      <td>2</td>\n",
              "      <td>3</td>\n",
              "      <td>1</td>\n",
              "    </tr>\n",
              "    <tr>\n",
              "      <th>4</th>\n",
              "      <td>0</td>\n",
              "      <td>4</td>\n",
              "      <td>4</td>\n",
              "      <td>1</td>\n",
              "    </tr>\n",
              "  </tbody>\n",
              "</table>\n",
              "</div>"
            ],
            "text/plain": [
              "   ft1  ft2  ft3  tg\n",
              "0    1    2    1   0\n",
              "1    1    3    4   0\n",
              "2    0    2    3   1\n",
              "3    0    2    3   1\n",
              "4    0    4    4   1"
            ]
          },
          "metadata": {
            "tags": []
          },
          "execution_count": 6
        }
      ]
    },
    {
      "cell_type": "markdown",
      "metadata": {
        "id": "BgtbhbVerVrS",
        "colab_type": "text"
      },
      "source": [
        "Vamos incicialmente incluir a coluna de 1's (bias) que vimos na modelagem do perceptron"
      ]
    },
    {
      "cell_type": "code",
      "metadata": {
        "id": "1BT8Misyr7WZ",
        "colab_type": "code",
        "colab": {
          "base_uri": "https://localhost:8080/",
          "height": 204
        },
        "outputId": "08898d15-97a5-47d5-be5a-9441e9cc0074"
      },
      "source": [
        "df[\"ft0\"] = 1\n",
        "df"
      ],
      "execution_count": 7,
      "outputs": [
        {
          "output_type": "execute_result",
          "data": {
            "text/html": [
              "<div>\n",
              "<style scoped>\n",
              "    .dataframe tbody tr th:only-of-type {\n",
              "        vertical-align: middle;\n",
              "    }\n",
              "\n",
              "    .dataframe tbody tr th {\n",
              "        vertical-align: top;\n",
              "    }\n",
              "\n",
              "    .dataframe thead th {\n",
              "        text-align: right;\n",
              "    }\n",
              "</style>\n",
              "<table border=\"1\" class=\"dataframe\">\n",
              "  <thead>\n",
              "    <tr style=\"text-align: right;\">\n",
              "      <th></th>\n",
              "      <th>ft1</th>\n",
              "      <th>ft2</th>\n",
              "      <th>ft3</th>\n",
              "      <th>tg</th>\n",
              "      <th>ft0</th>\n",
              "    </tr>\n",
              "  </thead>\n",
              "  <tbody>\n",
              "    <tr>\n",
              "      <th>0</th>\n",
              "      <td>1</td>\n",
              "      <td>2</td>\n",
              "      <td>1</td>\n",
              "      <td>0</td>\n",
              "      <td>1</td>\n",
              "    </tr>\n",
              "    <tr>\n",
              "      <th>1</th>\n",
              "      <td>1</td>\n",
              "      <td>3</td>\n",
              "      <td>4</td>\n",
              "      <td>0</td>\n",
              "      <td>1</td>\n",
              "    </tr>\n",
              "    <tr>\n",
              "      <th>2</th>\n",
              "      <td>0</td>\n",
              "      <td>2</td>\n",
              "      <td>3</td>\n",
              "      <td>1</td>\n",
              "      <td>1</td>\n",
              "    </tr>\n",
              "    <tr>\n",
              "      <th>3</th>\n",
              "      <td>0</td>\n",
              "      <td>2</td>\n",
              "      <td>3</td>\n",
              "      <td>1</td>\n",
              "      <td>1</td>\n",
              "    </tr>\n",
              "    <tr>\n",
              "      <th>4</th>\n",
              "      <td>0</td>\n",
              "      <td>4</td>\n",
              "      <td>4</td>\n",
              "      <td>1</td>\n",
              "      <td>1</td>\n",
              "    </tr>\n",
              "  </tbody>\n",
              "</table>\n",
              "</div>"
            ],
            "text/plain": [
              "   ft1  ft2  ft3  tg  ft0\n",
              "0    1    2    1   0    1\n",
              "1    1    3    4   0    1\n",
              "2    0    2    3   1    1\n",
              "3    0    2    3   1    1\n",
              "4    0    4    4   1    1"
            ]
          },
          "metadata": {
            "tags": []
          },
          "execution_count": 7
        }
      ]
    },
    {
      "cell_type": "markdown",
      "metadata": {
        "id": "vkfn0NH_sApf",
        "colab_type": "text"
      },
      "source": [
        "Agora devemos transformar o DataFrame em matriz"
      ]
    },
    {
      "cell_type": "code",
      "metadata": {
        "id": "FZO6kA1YsC3z",
        "colab_type": "code",
        "colab": {
          "base_uri": "https://localhost:8080/",
          "height": 102
        },
        "outputId": "f00aaeee-a020-4d78-f27e-c5ffe3e35f74"
      },
      "source": [
        "columns = [\"ft0\",\"ft1\",\"ft2\",\"ft3\"]\n",
        "x = df[columns].values\n",
        "x"
      ],
      "execution_count": 8,
      "outputs": [
        {
          "output_type": "execute_result",
          "data": {
            "text/plain": [
              "array([[1, 1, 2, 1],\n",
              "       [1, 1, 3, 4],\n",
              "       [1, 0, 2, 3],\n",
              "       [1, 0, 2, 3],\n",
              "       [1, 0, 4, 4]])"
            ]
          },
          "metadata": {
            "tags": []
          },
          "execution_count": 8
        }
      ]
    },
    {
      "cell_type": "markdown",
      "metadata": {
        "id": "369vJYVQsP8k",
        "colab_type": "text"
      },
      "source": [
        "Vamos, por fim, aplicar os dados ao Perceptron e compara-los com os dados reais"
      ]
    },
    {
      "cell_type": "code",
      "metadata": {
        "id": "UYe6mlpxsV8O",
        "colab_type": "code",
        "colab": {
          "base_uri": "https://localhost:8080/",
          "height": 102
        },
        "outputId": "16f2dedb-8b99-4084-d7f1-bef4f10826aa"
      },
      "source": [
        "w = np.matrix([\n",
        "    [24],\n",
        "    [-49],\n",
        "    [0],\n",
        "    [0]\n",
        "]) \n",
        "# Coeficiente Regressão Logística\n",
        "# 24, -49, 0, 0\n",
        "\n",
        "# predicao/predict\n",
        "y_hat = perceptron(x,w)\n",
        "print(y_hat)"
      ],
      "execution_count": 9,
      "outputs": [
        {
          "output_type": "stream",
          "text": [
            "[[1.38879439e-11]\n",
            " [1.38879439e-11]\n",
            " [1.00000000e+00]\n",
            " [1.00000000e+00]\n",
            " [1.00000000e+00]]\n"
          ],
          "name": "stdout"
        }
      ]
    },
    {
      "cell_type": "code",
      "metadata": {
        "id": "kBg8-tGStFu5",
        "colab_type": "code",
        "colab": {
          "base_uri": "https://localhost:8080/",
          "height": 34
        },
        "outputId": "f65206e9-1a2a-48f0-e23f-48964b0de676"
      },
      "source": [
        "# alvo/target\n",
        "y = df[\"tg\"].values\n",
        "print(y)"
      ],
      "execution_count": 10,
      "outputs": [
        {
          "output_type": "stream",
          "text": [
            "[0 0 1 1 1]\n"
          ],
          "name": "stdout"
        }
      ]
    },
    {
      "cell_type": "markdown",
      "metadata": {
        "id": "0Q1rBrG3t0om",
        "colab_type": "text"
      },
      "source": [
        "# Step Function\n",
        "função de ativação **step function** (função que retorna 1 se o valor de entrada é maior que 0, e 0 casos contrário)\n",
        "<br>\n",
        "Teste com:\n",
        "- x = [1,0,1,0] o resultado é 1\n",
        "- x = [0,1,0,1] o resultado é 0"
      ]
    },
    {
      "cell_type": "code",
      "metadata": {
        "id": "FmC36HZluM1e",
        "colab_type": "code",
        "colab": {}
      },
      "source": [
        "x = np.matrix([\n",
        "    [1,0,1,0],\n",
        "    [0,1,0,1]\n",
        "])\n",
        "\n",
        "w = np.matrix([\n",
        "    [0],\n",
        "    [-10],\n",
        "    [2],\n",
        "    [1]\n",
        "])"
      ],
      "execution_count": 0,
      "outputs": []
    },
    {
      "cell_type": "code",
      "metadata": {
        "id": "vlhDD1xousDY",
        "colab_type": "code",
        "colab": {
          "base_uri": "https://localhost:8080/",
          "height": 51
        },
        "outputId": "a9f186bf-3d04-4467-8e85-bce45504b59b"
      },
      "source": [
        "def activation_function(atctivation):\n",
        "  if atctivation > 0:\n",
        "    return 1\n",
        "  else:\n",
        "    return 0\n",
        "v_activation_function = np.vectorize(activation_function)\n",
        "\n",
        "perceptron(x,w)"
      ],
      "execution_count": 12,
      "outputs": [
        {
          "output_type": "execute_result",
          "data": {
            "text/plain": [
              "matrix([[1],\n",
              "        [0]])"
            ]
          },
          "metadata": {
            "tags": []
          },
          "execution_count": 12
        }
      ]
    },
    {
      "cell_type": "code",
      "metadata": {
        "id": "MEukeIpCvWQL",
        "colab_type": "code",
        "colab": {
          "base_uri": "https://localhost:8080/",
          "height": 51
        },
        "outputId": "e41c0ed9-fd0f-46fd-b593-050dfeb95f82"
      },
      "source": [
        "# alvo/target\n",
        "y = np.matrix([\n",
        "    [1],\n",
        "    [0]\n",
        "])\n",
        "print(y)"
      ],
      "execution_count": 13,
      "outputs": [
        {
          "output_type": "stream",
          "text": [
            "[[1]\n",
            " [0]]\n"
          ],
          "name": "stdout"
        }
      ]
    },
    {
      "cell_type": "markdown",
      "metadata": {
        "id": "b2o-4a-AxzQt",
        "colab_type": "text"
      },
      "source": [
        "# MLP (MultiLayer Perceptron)"
      ]
    },
    {
      "cell_type": "code",
      "metadata": {
        "id": "Ad_rTTfay-uI",
        "colab_type": "code",
        "colab": {}
      },
      "source": [
        "w1 = np.matrix([\n",
        "    [0.5, -0.5],\n",
        "    [-1,1],\n",
        "    [1,-1]\n",
        "])\n",
        "\n",
        "w2 = np.matrix([\n",
        "    [1],\n",
        "    [1]\n",
        "])"
      ],
      "execution_count": 0,
      "outputs": []
    },
    {
      "cell_type": "code",
      "metadata": {
        "id": "EJCtM2YyzJfu",
        "colab_type": "code",
        "colab": {}
      },
      "source": [
        "# step function\n",
        "def activation_function(x):\n",
        "  if x>0:\n",
        "    return 1\n",
        "  return 0\n",
        "\n",
        "v_act = np.vectorize(activation_function)"
      ],
      "execution_count": 0,
      "outputs": []
    },
    {
      "cell_type": "code",
      "metadata": {
        "id": "cmROcvbGzVUl",
        "colab_type": "code",
        "colab": {}
      },
      "source": [
        "def nural_network(x,w1,w2):\n",
        "  sigma1 = np.matmul(x,w1)\n",
        "  o1 = v_act(sigma1) # primeira camada\n",
        "  sigma2 = np.matmul(o1,w2)\n",
        "  o2 = v_act(sigma2) # segunda camada\n",
        "  return o2"
      ],
      "execution_count": 0,
      "outputs": []
    },
    {
      "cell_type": "code",
      "metadata": {
        "id": "h8Ue-6qvzqVS",
        "colab_type": "code",
        "colab": {}
      },
      "source": [
        "# inputs\n",
        "df = pd.DataFrame([\n",
        "    [0,1,1],\n",
        "    [0,0,0],\n",
        "    [1,0,1],\n",
        "    [1,1,0]\n",
        "], columns=[\"x0\",\"x1\",\"x2\"])"
      ],
      "execution_count": 0,
      "outputs": []
    },
    {
      "cell_type": "markdown",
      "metadata": {
        "id": "zJrKJTu51GPO",
        "colab_type": "text"
      },
      "source": [
        "Faça uma rede neural como a da imagem abaixo e com função de ativação **sigmoid**"
      ]
    },
    {
      "cell_type": "code",
      "metadata": {
        "id": "hoXtEYMj0j2C",
        "colab_type": "code",
        "colab": {}
      },
      "source": [
        "w1 = np.matrix([\n",
        "    [-0.5, -0.5],\n",
        "    [-1,1],\n",
        "    [1,-1],\n",
        "    [1,1]\n",
        "])\n",
        "\n",
        "w2 = np.matrix([\n",
        "    [1,2],\n",
        "    [2,1]\n",
        "])\n",
        "\n",
        "w3 = np.matrix([\n",
        "    [1],\n",
        "    [1]\n",
        "])"
      ],
      "execution_count": 0,
      "outputs": []
    },
    {
      "cell_type": "code",
      "metadata": {
        "id": "PfNiXqWB1Vfr",
        "colab_type": "code",
        "colab": {}
      },
      "source": [
        "# sigmoid\n",
        "def activation_function(atctivation):\n",
        "  return 1/(1+np.exp(-atctivation))\n",
        "\n",
        "v_act = np.vectorize(activation_function)"
      ],
      "execution_count": 0,
      "outputs": []
    },
    {
      "cell_type": "code",
      "metadata": {
        "id": "VfvrkyQ30_Ps",
        "colab_type": "code",
        "colab": {}
      },
      "source": [
        "def nural_network(x,w1,w2,w3):\n",
        "  sigma1 = np.matmul(x,w1)\n",
        "  o1 = v_act(sigma1) # primeira camada\n",
        "  sigma2 = np.matmul(o1,w2)\n",
        "  o2 = v_act(sigma2) # segunda camada\n",
        "  sigma3 = np.matmul(o2,w3)\n",
        "  o3 = v_act(sigma3) # terceira camada\n",
        "  return o3"
      ],
      "execution_count": 0,
      "outputs": []
    },
    {
      "cell_type": "code",
      "metadata": {
        "id": "TDLbrkeG1kyX",
        "colab_type": "code",
        "colab": {
          "base_uri": "https://localhost:8080/",
          "height": 68
        },
        "outputId": "09beda51-113e-47b0-9b5c-90f4a72f3de7"
      },
      "source": [
        "x = np.matrix([\n",
        "    [1,1,0,0],\n",
        "    [1,0,1,0],\n",
        "    [1,0,0,1]\n",
        "])\n",
        "\n",
        "nural_network(x,w1,w2,w3)"
      ],
      "execution_count": 22,
      "outputs": [
        {
          "output_type": "execute_result",
          "data": {
            "text/plain": [
              "matrix([[0.82274304],\n",
              "        [0.82274304],\n",
              "        [0.84970755]])"
            ]
          },
          "metadata": {
            "tags": []
          },
          "execution_count": 22
        }
      ]
    },
    {
      "cell_type": "markdown",
      "metadata": {
        "id": "M_C3Bi746PDK",
        "colab_type": "text"
      },
      "source": [
        "# Learning Rate"
      ]
    },
    {
      "cell_type": "markdown",
      "metadata": {
        "id": "6G4SAMYx9AXd",
        "colab_type": "text"
      },
      "source": [
        "# PyTorch (1.1)"
      ]
    },
    {
      "cell_type": "markdown",
      "metadata": {
        "id": "sSlD9kKy9Ddh",
        "colab_type": "text"
      },
      "source": [
        "## 2.1 - Conceitos Iniciais\n",
        "**PyTorch** utiliza tensores para realizar os cálculos das redes neurais\n",
        "### 2.1.1. - Tensores\n",
        "**Tensores** podem se comportar como arrays/matrizes, mas podem ter mais dimensões e se aproveitam de GPUs para acelerar seu processamento. (multidimensional array)"
      ]
    },
    {
      "cell_type": "markdown",
      "metadata": {
        "id": "cAIubuja-Vob",
        "colab_type": "text"
      },
      "source": [
        "Maneiras de criar tensores:\n",
        "- Tensor vazio"
      ]
    },
    {
      "cell_type": "code",
      "metadata": {
        "id": "nspaDfGA6CAb",
        "colab_type": "code",
        "colab": {
          "base_uri": "https://localhost:8080/",
          "height": 34
        },
        "outputId": "f046cc44-424e-424a-b9de-de70b4421cbc"
      },
      "source": [
        "import torch\n",
        "\n",
        "empty_tensor = torch.empty\n",
        "empty_tensor"
      ],
      "execution_count": 23,
      "outputs": [
        {
          "output_type": "execute_result",
          "data": {
            "text/plain": [
              "<function _VariableFunctions.empty>"
            ]
          },
          "metadata": {
            "tags": []
          },
          "execution_count": 23
        }
      ]
    },
    {
      "cell_type": "markdown",
      "metadata": {
        "id": "6z5tZrKd-iOs",
        "colab_type": "text"
      },
      "source": [
        "- Tensor randômico"
      ]
    },
    {
      "cell_type": "code",
      "metadata": {
        "id": "KRQZKcYa-pXT",
        "colab_type": "code",
        "colab": {
          "base_uri": "https://localhost:8080/",
          "height": 102
        },
        "outputId": "559fc782-7f3e-43c5-f3ff-53e7df535596"
      },
      "source": [
        "random_tensor = torch.rand(5,3)\n",
        "random_tensor"
      ],
      "execution_count": 24,
      "outputs": [
        {
          "output_type": "execute_result",
          "data": {
            "text/plain": [
              "tensor([[0.8887, 0.8948, 0.6751],\n",
              "        [0.4963, 0.2848, 0.7442],\n",
              "        [0.5059, 0.8216, 0.9694],\n",
              "        [0.8390, 0.3772, 0.5189],\n",
              "        [0.9641, 0.8361, 0.5982]])"
            ]
          },
          "metadata": {
            "tags": []
          },
          "execution_count": 24
        }
      ]
    },
    {
      "cell_type": "markdown",
      "metadata": {
        "id": "wHQvtjhZ-tr6",
        "colab_type": "text"
      },
      "source": [
        "- Tensor zero"
      ]
    },
    {
      "cell_type": "code",
      "metadata": {
        "id": "m5t-P5Lv-e93",
        "colab_type": "code",
        "colab": {
          "base_uri": "https://localhost:8080/",
          "height": 102
        },
        "outputId": "3f01491b-f441-4704-c828-802f066ea1a7"
      },
      "source": [
        "zeros_tensor = torch.zeros(5,3)\n",
        "zeros_tensor"
      ],
      "execution_count": 25,
      "outputs": [
        {
          "output_type": "execute_result",
          "data": {
            "text/plain": [
              "tensor([[0., 0., 0.],\n",
              "        [0., 0., 0.],\n",
              "        [0., 0., 0.],\n",
              "        [0., 0., 0.],\n",
              "        [0., 0., 0.]])"
            ]
          },
          "metadata": {
            "tags": []
          },
          "execution_count": 25
        }
      ]
    },
    {
      "cell_type": "markdown",
      "metadata": {
        "id": "xziLclEC-v1N",
        "colab_type": "text"
      },
      "source": [
        "- Tensor baseado em array/matriz"
      ]
    },
    {
      "cell_type": "code",
      "metadata": {
        "id": "AcxrD4We-xeD",
        "colab_type": "code",
        "colab": {
          "base_uri": "https://localhost:8080/",
          "height": 68
        },
        "outputId": "77e19e2e-09ec-40f3-deff-215de407f653"
      },
      "source": [
        "data_tensor = torch.tensor([\n",
        "    [1,2,3],\n",
        "    [4,5,6],\n",
        "    [7,8,9]\n",
        "])\n",
        "data_tensor"
      ],
      "execution_count": 26,
      "outputs": [
        {
          "output_type": "execute_result",
          "data": {
            "text/plain": [
              "tensor([[1, 2, 3],\n",
              "        [4, 5, 6],\n",
              "        [7, 8, 9]])"
            ]
          },
          "metadata": {
            "tags": []
          },
          "execution_count": 26
        }
      ]
    },
    {
      "cell_type": "markdown",
      "metadata": {
        "id": "2aOEUEro_BZz",
        "colab_type": "text"
      },
      "source": [
        "Quando criamos"
      ]
    },
    {
      "cell_type": "code",
      "metadata": {
        "id": "DFe9tEhd-6mK",
        "colab_type": "code",
        "colab": {
          "base_uri": "https://localhost:8080/",
          "height": 68
        },
        "outputId": "20e7e89f-72b3-4f17-83da-42474ce7f7c6"
      },
      "source": [
        "data_tensor_float = torch.tensor([\n",
        "    [1,2,3],\n",
        "    [4,5,6],\n",
        "    [7,8,9]\n",
        "], dtype=torch.float)\n",
        "data_tensor_float"
      ],
      "execution_count": 27,
      "outputs": [
        {
          "output_type": "execute_result",
          "data": {
            "text/plain": [
              "tensor([[1., 2., 3.],\n",
              "        [4., 5., 6.],\n",
              "        [7., 8., 9.]])"
            ]
          },
          "metadata": {
            "tags": []
          },
          "execution_count": 27
        }
      ]
    },
    {
      "cell_type": "markdown",
      "metadata": {
        "id": "-KiEzZfS_EC1",
        "colab_type": "text"
      },
      "source": [
        "### 2.2.2 - Operações\n",
        "Existem várias maneiras de escrever operações entre tensores"
      ]
    },
    {
      "cell_type": "code",
      "metadata": {
        "id": "ZtUSua49_J4N",
        "colab_type": "code",
        "colab": {}
      },
      "source": [
        "# Retorna um erro (diferente tipos)\n",
        "#empty_tensor + data_tensor_float"
      ],
      "execution_count": 0,
      "outputs": []
    },
    {
      "cell_type": "markdown",
      "metadata": {
        "id": "To6RjRrX_Zus",
        "colab_type": "text"
      },
      "source": [
        "Além das validações de tamanhos entre tensores para aplicar as operações, há também uma validação de tipo entre tensores. Em certos casos, é necessário realizar a conversão de tipos."
      ]
    },
    {
      "cell_type": "code",
      "metadata": {
        "id": "sf7q0f7r_Ypr",
        "colab_type": "code",
        "colab": {}
      },
      "source": [
        ""
      ],
      "execution_count": 0,
      "outputs": []
    },
    {
      "cell_type": "code",
      "metadata": {
        "id": "BEyJGAq6_mPy",
        "colab_type": "code",
        "colab": {
          "base_uri": "https://localhost:8080/",
          "height": 68
        },
        "outputId": "8b2444f4-cd92-473d-de2c-edc02d848192"
      },
      "source": [
        "torch.matmul(data_tensor, data_tensor)"
      ],
      "execution_count": 28,
      "outputs": [
        {
          "output_type": "execute_result",
          "data": {
            "text/plain": [
              "tensor([[ 30,  36,  42],\n",
              "        [ 66,  81,  96],\n",
              "        [102, 126, 150]])"
            ]
          },
          "metadata": {
            "tags": []
          },
          "execution_count": 28
        }
      ]
    },
    {
      "cell_type": "code",
      "metadata": {
        "id": "2-ygqNSG_-nv",
        "colab_type": "code",
        "colab": {
          "base_uri": "https://localhost:8080/",
          "height": 68
        },
        "outputId": "3249a609-4e6f-4cdb-ee3f-26b6daff9e6f"
      },
      "source": [
        "data_tensor.matmul(data_tensor)"
      ],
      "execution_count": 29,
      "outputs": [
        {
          "output_type": "execute_result",
          "data": {
            "text/plain": [
              "tensor([[ 30,  36,  42],\n",
              "        [ 66,  81,  96],\n",
              "        [102, 126, 150]])"
            ]
          },
          "metadata": {
            "tags": []
          },
          "execution_count": 29
        }
      ]
    },
    {
      "cell_type": "markdown",
      "metadata": {
        "id": "I4LsqD2Q_z9v",
        "colab_type": "text"
      },
      "source": [
        "### 2.2.3 - CPU x GPU (CUDA)\n",
        "Vimos na introdução que o diferencial do tensor é a possibilidade de realizar operações na GPU.\n",
        "<br>\n",
        "<br>\n",
        "Para isso, devemos registrar de alguma maneira que o tensor esta na GPU"
      ]
    },
    {
      "cell_type": "code",
      "metadata": {
        "id": "7psuz7ue_3T3",
        "colab_type": "code",
        "colab": {
          "base_uri": "https://localhost:8080/",
          "height": 34
        },
        "outputId": "a04f6ddf-a057-45a2-a495-06726d596a1a"
      },
      "source": [
        "torch.cuda.is_available()\n",
        "# Runtime -> Change runtime -> Hardware Accelarator -> GPU"
      ],
      "execution_count": 30,
      "outputs": [
        {
          "output_type": "execute_result",
          "data": {
            "text/plain": [
              "True"
            ]
          },
          "metadata": {
            "tags": []
          },
          "execution_count": 30
        }
      ]
    },
    {
      "cell_type": "code",
      "metadata": {
        "id": "JknGr6IgAJCD",
        "colab_type": "code",
        "colab": {}
      },
      "source": [
        "cuda_tensor = torch.tensor([\n",
        "    [1,2,3],\n",
        "    [4,5,6],\n",
        "    [7,8,9]\n",
        "], device=\"cuda\", dtype=torch.float)"
      ],
      "execution_count": 0,
      "outputs": []
    },
    {
      "cell_type": "code",
      "metadata": {
        "id": "g4KVSiPjBUjs",
        "colab_type": "code",
        "colab": {
          "base_uri": "https://localhost:8080/",
          "height": 68
        },
        "outputId": "d06bc35f-182c-4dc7-e432-c55ba8626c09"
      },
      "source": [
        "cuda_tensor"
      ],
      "execution_count": 34,
      "outputs": [
        {
          "output_type": "execute_result",
          "data": {
            "text/plain": [
              "tensor([[1., 2., 3.],\n",
              "        [4., 5., 6.],\n",
              "        [7., 8., 9.]], device='cuda:0')"
            ]
          },
          "metadata": {
            "tags": []
          },
          "execution_count": 34
        }
      ]
    },
    {
      "cell_type": "markdown",
      "metadata": {
        "id": "WviEwX9vChmT",
        "colab_type": "text"
      },
      "source": [
        "Vamos ver o que acontece quando realizamos operações de tensores em devices diferentes"
      ]
    },
    {
      "cell_type": "code",
      "metadata": {
        "id": "oNX-fe8dClzM",
        "colab_type": "code",
        "colab": {}
      },
      "source": [
        "# torch.matmul(cuda_tensor, data_tensor_float)"
      ],
      "execution_count": 0,
      "outputs": []
    },
    {
      "cell_type": "markdown",
      "metadata": {
        "id": "z2_mbJMXCxHi",
        "colab_type": "text"
      },
      "source": [
        "A operação não consegue ser realizada\n",
        "<br>\n",
        "**É importante em nosssos projetos manternos em mente que os tensores devem estar todos no mesmo device durante as operações**\n",
        "<br>\n",
        "PAra isso, em certos casos, iremos precisar transferir os tensores de devices"
      ]
    },
    {
      "cell_type": "code",
      "metadata": {
        "id": "H-XS9rloC861",
        "colab_type": "code",
        "colab": {
          "base_uri": "https://localhost:8080/",
          "height": 68
        },
        "outputId": "43db41f2-f231-464a-d2c9-8e89a5159dc8"
      },
      "source": [
        "cuda_data_tensor_float = data_tensor_float.to(\"cuda\")\n",
        "torch.matmul(cuda_tensor, cuda_data_tensor_float)"
      ],
      "execution_count": 37,
      "outputs": [
        {
          "output_type": "execute_result",
          "data": {
            "text/plain": [
              "tensor([[ 30.,  36.,  42.],\n",
              "        [ 66.,  81.,  96.],\n",
              "        [102., 126., 150.]], device='cuda:0')"
            ]
          },
          "metadata": {
            "tags": []
          },
          "execution_count": 37
        }
      ]
    },
    {
      "cell_type": "markdown",
      "metadata": {
        "id": "xRUs4UVNDLZs",
        "colab_type": "text"
      },
      "source": [
        "# Rede Neural\n",
        "Os tensores e operações são a base para a criação das Rendes Neurais, entretando o PyTorch abstrai grande parte da complexidade de programar essas operações.\n",
        "<br>\n",
        "<br>\n",
        "Vamos ver abaixo qual a maneira mais ismples de definir com o PyTorch uma MLP"
      ]
    },
    {
      "cell_type": "code",
      "metadata": {
        "id": "I10c7pG_al8L",
        "colab_type": "code",
        "colab": {}
      },
      "source": [
        "from torch import nn"
      ],
      "execution_count": 0,
      "outputs": []
    },
    {
      "cell_type": "code",
      "metadata": {
        "id": "HnONlUUFeQcq",
        "colab_type": "code",
        "colab": {
          "base_uri": "https://localhost:8080/",
          "height": 34
        },
        "outputId": "863d3c6b-ce9e-4a29-e872-b726d877084c"
      },
      "source": [
        "nn.Linear(6,4)"
      ],
      "execution_count": 71,
      "outputs": [
        {
          "output_type": "execute_result",
          "data": {
            "text/plain": [
              "Linear(in_features=6, out_features=4, bias=True)"
            ]
          },
          "metadata": {
            "tags": []
          },
          "execution_count": 71
        }
      ]
    },
    {
      "cell_type": "code",
      "metadata": {
        "id": "s-cT8E_LctSP",
        "colab_type": "code",
        "colab": {
          "base_uri": "https://localhost:8080/",
          "height": 119
        },
        "outputId": "35d45a9d-1555-4896-ee02-3a214b044992"
      },
      "source": [
        "first_mlp = nn.Sequential(\n",
        "    nn.Linear(6,4), # entrada e saída de neuronios\n",
        "    nn.Sigmoid(), # ativação\n",
        "    nn.Linear(4,1), # entrada e saída de neuronios\n",
        "    nn.Sigmoid() # ativação\n",
        ")\n",
        "first_mlp"
      ],
      "execution_count": 42,
      "outputs": [
        {
          "output_type": "execute_result",
          "data": {
            "text/plain": [
              "Sequential(\n",
              "  (0): Linear(in_features=6, out_features=4, bias=True)\n",
              "  (1): Sigmoid()\n",
              "  (2): Linear(in_features=4, out_features=1, bias=True)\n",
              "  (3): Sigmoid()\n",
              ")"
            ]
          },
          "metadata": {
            "tags": []
          },
          "execution_count": 42
        }
      ]
    },
    {
      "cell_type": "code",
      "metadata": {
        "id": "2Ou5vg3jdPX0",
        "colab_type": "code",
        "colab": {
          "base_uri": "https://localhost:8080/",
          "height": 204
        },
        "outputId": "8b05a1fe-76ca-43e3-83f7-c6cef3f5f4e1"
      },
      "source": [
        "df = pd.read_csv('http://bit.ly/dbc-dataset-deep')\n",
        "df.head()"
      ],
      "execution_count": 44,
      "outputs": [
        {
          "output_type": "execute_result",
          "data": {
            "text/html": [
              "<div>\n",
              "<style scoped>\n",
              "    .dataframe tbody tr th:only-of-type {\n",
              "        vertical-align: middle;\n",
              "    }\n",
              "\n",
              "    .dataframe tbody tr th {\n",
              "        vertical-align: top;\n",
              "    }\n",
              "\n",
              "    .dataframe thead th {\n",
              "        text-align: right;\n",
              "    }\n",
              "</style>\n",
              "<table border=\"1\" class=\"dataframe\">\n",
              "  <thead>\n",
              "    <tr style=\"text-align: right;\">\n",
              "      <th></th>\n",
              "      <th>rooms</th>\n",
              "      <th>size</th>\n",
              "      <th>security</th>\n",
              "      <th>distance</th>\n",
              "      <th>age</th>\n",
              "      <th>prices</th>\n",
              "      <th>sold</th>\n",
              "    </tr>\n",
              "  </thead>\n",
              "  <tbody>\n",
              "    <tr>\n",
              "      <th>0</th>\n",
              "      <td>0.037996</td>\n",
              "      <td>-0.560459</td>\n",
              "      <td>-1.028421</td>\n",
              "      <td>0.930462</td>\n",
              "      <td>0.673584</td>\n",
              "      <td>-0.935622</td>\n",
              "      <td>1</td>\n",
              "    </tr>\n",
              "    <tr>\n",
              "      <th>1</th>\n",
              "      <td>0.826064</td>\n",
              "      <td>0.231114</td>\n",
              "      <td>1.554438</td>\n",
              "      <td>-1.064012</td>\n",
              "      <td>-1.632073</td>\n",
              "      <td>1.439086</td>\n",
              "      <td>0</td>\n",
              "    </tr>\n",
              "    <tr>\n",
              "      <th>2</th>\n",
              "      <td>-0.750071</td>\n",
              "      <td>-0.409999</td>\n",
              "      <td>0.259490</td>\n",
              "      <td>-0.210653</td>\n",
              "      <td>-1.306517</td>\n",
              "      <td>-0.476055</td>\n",
              "      <td>1</td>\n",
              "    </tr>\n",
              "    <tr>\n",
              "      <th>3</th>\n",
              "      <td>0.037996</td>\n",
              "      <td>-0.548556</td>\n",
              "      <td>-0.518156</td>\n",
              "      <td>0.600963</td>\n",
              "      <td>0.906119</td>\n",
              "      <td>-0.986552</td>\n",
              "      <td>1</td>\n",
              "    </tr>\n",
              "    <tr>\n",
              "      <th>4</th>\n",
              "      <td>0.826064</td>\n",
              "      <td>1.278603</td>\n",
              "      <td>1.030066</td>\n",
              "      <td>-1.333329</td>\n",
              "      <td>-1.701700</td>\n",
              "      <td>0.739330</td>\n",
              "      <td>1</td>\n",
              "    </tr>\n",
              "  </tbody>\n",
              "</table>\n",
              "</div>"
            ],
            "text/plain": [
              "      rooms      size  security  distance       age    prices  sold\n",
              "0  0.037996 -0.560459 -1.028421  0.930462  0.673584 -0.935622     1\n",
              "1  0.826064  0.231114  1.554438 -1.064012 -1.632073  1.439086     0\n",
              "2 -0.750071 -0.409999  0.259490 -0.210653 -1.306517 -0.476055     1\n",
              "3  0.037996 -0.548556 -0.518156  0.600963  0.906119 -0.986552     1\n",
              "4  0.826064  1.278603  1.030066 -1.333329 -1.701700  0.739330     1"
            ]
          },
          "metadata": {
            "tags": []
          },
          "execution_count": 44
        }
      ]
    },
    {
      "cell_type": "code",
      "metadata": {
        "id": "aER1Y0bAdsiU",
        "colab_type": "code",
        "colab": {
          "base_uri": "https://localhost:8080/",
          "height": 34
        },
        "outputId": "3c504475-7cc7-4ace-c497-ccd2c2b0b848"
      },
      "source": [
        "df.shape"
      ],
      "execution_count": 46,
      "outputs": [
        {
          "output_type": "execute_result",
          "data": {
            "text/plain": [
              "(1120, 7)"
            ]
          },
          "metadata": {
            "tags": []
          },
          "execution_count": 46
        }
      ]
    },
    {
      "cell_type": "markdown",
      "metadata": {
        "id": "S4uoyKMMdjCl",
        "colab_type": "text"
      },
      "source": [
        "A coluna **sold** é nossa variável alvo. Então devemos separar os atributos do dataset"
      ]
    },
    {
      "cell_type": "code",
      "metadata": {
        "id": "pklFGtdVdibe",
        "colab_type": "code",
        "colab": {}
      },
      "source": [
        "x = df.drop(columns=\"sold\")\n",
        "y = df[[\"sold\"]]"
      ],
      "execution_count": 0,
      "outputs": []
    },
    {
      "cell_type": "markdown",
      "metadata": {
        "id": "R5jmYMisd0e0",
        "colab_type": "text"
      },
      "source": [
        "Iremos aplicar agora os dados de x para ver a predição do modelo"
      ]
    },
    {
      "cell_type": "code",
      "metadata": {
        "id": "-DbkxSj3dq1k",
        "colab_type": "code",
        "colab": {}
      },
      "source": [
        "x_tensor = torch.tensor(x.values, dtype=torch.float)\n",
        "y_tensor = torch.tensor(y.values, dtype=torch.float)"
      ],
      "execution_count": 0,
      "outputs": []
    },
    {
      "cell_type": "code",
      "metadata": {
        "id": "eEC0MUK4d9dR",
        "colab_type": "code",
        "colab": {
          "base_uri": "https://localhost:8080/",
          "height": 136
        },
        "outputId": "0f45e838-43ad-4710-8ffe-d0af48933d70"
      },
      "source": [
        "# predição\n",
        "predict = first_mlp(x_tensor)\n",
        "predict"
      ],
      "execution_count": 52,
      "outputs": [
        {
          "output_type": "execute_result",
          "data": {
            "text/plain": [
              "tensor([[0.5053],\n",
              "        [0.5372],\n",
              "        [0.5209],\n",
              "        ...,\n",
              "        [0.5009],\n",
              "        [0.5476],\n",
              "        [0.5279]], grad_fn=<SigmoidBackward>)"
            ]
          },
          "metadata": {
            "tags": []
          },
          "execution_count": 52
        }
      ]
    },
    {
      "cell_type": "code",
      "metadata": {
        "id": "H5Vr2q1fehm9",
        "colab_type": "code",
        "colab": {
          "base_uri": "https://localhost:8080/",
          "height": 585
        },
        "outputId": "440494b4-2e42-4918-decb-3628e499faaa"
      },
      "source": [
        "#! pip install torchviz\n",
        "from torchviz import make_dot\n",
        "make_dot(predict.mean(), params=dict(first_mlp.named_parameters()))"
      ],
      "execution_count": 55,
      "outputs": [
        {
          "output_type": "execute_result",
          "data": {
            "text/plain": [
              "<graphviz.dot.Digraph at 0x7fe1505eb0b8>"
            ],
            "image/svg+xml": "<?xml version=\"1.0\" encoding=\"UTF-8\" standalone=\"no\"?>\n<!DOCTYPE svg PUBLIC \"-//W3C//DTD SVG 1.1//EN\"\n \"http://www.w3.org/Graphics/SVG/1.1/DTD/svg11.dtd\">\n<!-- Generated by graphviz version 2.40.1 (20161225.0304)\n -->\n<!-- Title: %3 Pages: 1 -->\n<svg width=\"277pt\" height=\"423pt\"\n viewBox=\"0.00 0.00 276.50 423.00\" xmlns=\"http://www.w3.org/2000/svg\" xmlns:xlink=\"http://www.w3.org/1999/xlink\">\n<g id=\"graph0\" class=\"graph\" transform=\"scale(1 1) rotate(0) translate(4 419)\">\n<title>%3</title>\n<polygon fill=\"#ffffff\" stroke=\"transparent\" points=\"-4,4 -4,-419 272.5,-419 272.5,4 -4,4\"/>\n<!-- 140605692754968 -->\n<g id=\"node1\" class=\"node\">\n<title>140605692754968</title>\n<polygon fill=\"#caff70\" stroke=\"#000000\" points=\"174,-21 76,-21 76,0 174,0 174,-21\"/>\n<text text-anchor=\"middle\" x=\"125\" y=\"-7.4\" font-family=\"Times,serif\" font-size=\"12.00\" fill=\"#000000\">MeanBackward0</text>\n</g>\n<!-- 140605692755416 -->\n<g id=\"node2\" class=\"node\">\n<title>140605692755416</title>\n<polygon fill=\"#d3d3d3\" stroke=\"#000000\" points=\"177.5,-78 72.5,-78 72.5,-57 177.5,-57 177.5,-78\"/>\n<text text-anchor=\"middle\" x=\"125\" y=\"-64.4\" font-family=\"Times,serif\" font-size=\"12.00\" fill=\"#000000\">SigmoidBackward</text>\n</g>\n<!-- 140605692755416&#45;&gt;140605692754968 -->\n<g id=\"edge1\" class=\"edge\">\n<title>140605692755416&#45;&gt;140605692754968</title>\n<path fill=\"none\" stroke=\"#000000\" d=\"M125,-56.7787C125,-49.6134 125,-39.9517 125,-31.3097\"/>\n<polygon fill=\"#000000\" stroke=\"#000000\" points=\"128.5001,-31.1732 125,-21.1732 121.5001,-31.1732 128.5001,-31.1732\"/>\n</g>\n<!-- 140607530643752 -->\n<g id=\"node3\" class=\"node\">\n<title>140607530643752</title>\n<polygon fill=\"#d3d3d3\" stroke=\"#000000\" points=\"177,-135 73,-135 73,-114 177,-114 177,-135\"/>\n<text text-anchor=\"middle\" x=\"125\" y=\"-121.4\" font-family=\"Times,serif\" font-size=\"12.00\" fill=\"#000000\">AddmmBackward</text>\n</g>\n<!-- 140607530643752&#45;&gt;140605692755416 -->\n<g id=\"edge2\" class=\"edge\">\n<title>140607530643752&#45;&gt;140605692755416</title>\n<path fill=\"none\" stroke=\"#000000\" d=\"M125,-113.7787C125,-106.6134 125,-96.9517 125,-88.3097\"/>\n<polygon fill=\"#000000\" stroke=\"#000000\" points=\"128.5001,-88.1732 125,-78.1732 121.5001,-88.1732 128.5001,-88.1732\"/>\n</g>\n<!-- 140605554657880 -->\n<g id=\"node4\" class=\"node\">\n<title>140605554657880</title>\n<polygon fill=\"#add8e6\" stroke=\"#000000\" points=\"54,-205 0,-205 0,-171 54,-171 54,-205\"/>\n<text text-anchor=\"middle\" x=\"27\" y=\"-191.4\" font-family=\"Times,serif\" font-size=\"12.00\" fill=\"#000000\">2.bias</text>\n<text text-anchor=\"middle\" x=\"27\" y=\"-178.4\" font-family=\"Times,serif\" font-size=\"12.00\" fill=\"#000000\"> (1)</text>\n</g>\n<!-- 140605554657880&#45;&gt;140607530643752 -->\n<g id=\"edge3\" class=\"edge\">\n<title>140605554657880&#45;&gt;140607530643752</title>\n<path fill=\"none\" stroke=\"#000000\" d=\"M53.2622,-170.9832C67.68,-161.641 85.4726,-150.1122 99.7309,-140.8734\"/>\n<polygon fill=\"#000000\" stroke=\"#000000\" points=\"102.0303,-143.554 108.5193,-135.1788 98.2238,-137.6794 102.0303,-143.554\"/>\n</g>\n<!-- 140605554657656 -->\n<g id=\"node5\" class=\"node\">\n<title>140605554657656</title>\n<polygon fill=\"#d3d3d3\" stroke=\"#000000\" points=\"177.5,-198.5 72.5,-198.5 72.5,-177.5 177.5,-177.5 177.5,-198.5\"/>\n<text text-anchor=\"middle\" x=\"125\" y=\"-184.9\" font-family=\"Times,serif\" font-size=\"12.00\" fill=\"#000000\">SigmoidBackward</text>\n</g>\n<!-- 140605554657656&#45;&gt;140607530643752 -->\n<g id=\"edge4\" class=\"edge\">\n<title>140605554657656&#45;&gt;140607530643752</title>\n<path fill=\"none\" stroke=\"#000000\" d=\"M125,-177.2281C125,-168.5091 125,-155.9699 125,-145.3068\"/>\n<polygon fill=\"#000000\" stroke=\"#000000\" points=\"128.5001,-145.1128 125,-135.1128 121.5001,-145.1129 128.5001,-145.1128\"/>\n</g>\n<!-- 140605554656312 -->\n<g id=\"node6\" class=\"node\">\n<title>140605554656312</title>\n<polygon fill=\"#d3d3d3\" stroke=\"#000000\" points=\"177,-268.5 73,-268.5 73,-247.5 177,-247.5 177,-268.5\"/>\n<text text-anchor=\"middle\" x=\"125\" y=\"-254.9\" font-family=\"Times,serif\" font-size=\"12.00\" fill=\"#000000\">AddmmBackward</text>\n</g>\n<!-- 140605554656312&#45;&gt;140605554657656 -->\n<g id=\"edge5\" class=\"edge\">\n<title>140605554656312&#45;&gt;140605554657656</title>\n<path fill=\"none\" stroke=\"#000000\" d=\"M125,-247.3685C125,-237.1925 125,-221.5606 125,-208.8912\"/>\n<polygon fill=\"#000000\" stroke=\"#000000\" points=\"128.5001,-208.7315 125,-198.7315 121.5001,-208.7316 128.5001,-208.7315\"/>\n</g>\n<!-- 140607530227640 -->\n<g id=\"node7\" class=\"node\">\n<title>140607530227640</title>\n<polygon fill=\"#add8e6\" stroke=\"#000000\" points=\"111,-345 57,-345 57,-311 111,-311 111,-345\"/>\n<text text-anchor=\"middle\" x=\"84\" y=\"-331.4\" font-family=\"Times,serif\" font-size=\"12.00\" fill=\"#000000\">0.bias</text>\n<text text-anchor=\"middle\" x=\"84\" y=\"-318.4\" font-family=\"Times,serif\" font-size=\"12.00\" fill=\"#000000\"> (4)</text>\n</g>\n<!-- 140607530227640&#45;&gt;140605554656312 -->\n<g id=\"edge6\" class=\"edge\">\n<title>140607530227640&#45;&gt;140605554656312</title>\n<path fill=\"none\" stroke=\"#000000\" d=\"M94.1348,-310.6966C100.0172,-300.6535 107.4448,-287.9722 113.5395,-277.5667\"/>\n<polygon fill=\"#000000\" stroke=\"#000000\" points=\"116.6454,-279.189 118.6794,-268.7913 110.6052,-275.6512 116.6454,-279.189\"/>\n</g>\n<!-- 140607530228648 -->\n<g id=\"node8\" class=\"node\">\n<title>140607530228648</title>\n<polygon fill=\"#d3d3d3\" stroke=\"#000000\" points=\"202.5,-338.5 129.5,-338.5 129.5,-317.5 202.5,-317.5 202.5,-338.5\"/>\n<text text-anchor=\"middle\" x=\"166\" y=\"-324.9\" font-family=\"Times,serif\" font-size=\"12.00\" fill=\"#000000\">TBackward</text>\n</g>\n<!-- 140607530228648&#45;&gt;140605554656312 -->\n<g id=\"edge7\" class=\"edge\">\n<title>140607530228648&#45;&gt;140605554656312</title>\n<path fill=\"none\" stroke=\"#000000\" d=\"M159.773,-317.3685C153.5719,-306.7814 143.9119,-290.2886 136.3456,-277.3705\"/>\n<polygon fill=\"#000000\" stroke=\"#000000\" points=\"139.3598,-275.5915 131.2856,-268.7315 133.3196,-279.1293 139.3598,-275.5915\"/>\n</g>\n<!-- 140605554709728 -->\n<g id=\"node9\" class=\"node\">\n<title>140605554709728</title>\n<polygon fill=\"#add8e6\" stroke=\"#000000\" points=\"195,-415 137,-415 137,-381 195,-381 195,-415\"/>\n<text text-anchor=\"middle\" x=\"166\" y=\"-401.4\" font-family=\"Times,serif\" font-size=\"12.00\" fill=\"#000000\">0.weight</text>\n<text text-anchor=\"middle\" x=\"166\" y=\"-388.4\" font-family=\"Times,serif\" font-size=\"12.00\" fill=\"#000000\"> (4, 6)</text>\n</g>\n<!-- 140605554709728&#45;&gt;140607530228648 -->\n<g id=\"edge8\" class=\"edge\">\n<title>140605554709728&#45;&gt;140607530228648</title>\n<path fill=\"none\" stroke=\"#000000\" d=\"M166,-380.6966C166,-371.0634 166,-359.003 166,-348.8518\"/>\n<polygon fill=\"#000000\" stroke=\"#000000\" points=\"169.5001,-348.7912 166,-338.7913 162.5001,-348.7913 169.5001,-348.7912\"/>\n</g>\n<!-- 140605554657096 -->\n<g id=\"node10\" class=\"node\">\n<title>140605554657096</title>\n<polygon fill=\"#d3d3d3\" stroke=\"#000000\" points=\"268.5,-198.5 195.5,-198.5 195.5,-177.5 268.5,-177.5 268.5,-198.5\"/>\n<text text-anchor=\"middle\" x=\"232\" y=\"-184.9\" font-family=\"Times,serif\" font-size=\"12.00\" fill=\"#000000\">TBackward</text>\n</g>\n<!-- 140605554657096&#45;&gt;140607530643752 -->\n<g id=\"edge9\" class=\"edge\">\n<title>140605554657096&#45;&gt;140607530643752</title>\n<path fill=\"none\" stroke=\"#000000\" d=\"M213.8489,-177.2281C196.7601,-167.0866 170.9618,-151.7764 151.5599,-140.2622\"/>\n<polygon fill=\"#000000\" stroke=\"#000000\" points=\"153.2689,-137.2065 142.883,-135.1128 149.6964,-143.2263 153.2689,-137.2065\"/>\n</g>\n<!-- 140607530226408 -->\n<g id=\"node11\" class=\"node\">\n<title>140607530226408</title>\n<polygon fill=\"#add8e6\" stroke=\"#000000\" points=\"261,-275 203,-275 203,-241 261,-241 261,-275\"/>\n<text text-anchor=\"middle\" x=\"232\" y=\"-261.4\" font-family=\"Times,serif\" font-size=\"12.00\" fill=\"#000000\">2.weight</text>\n<text text-anchor=\"middle\" x=\"232\" y=\"-248.4\" font-family=\"Times,serif\" font-size=\"12.00\" fill=\"#000000\"> (1, 4)</text>\n</g>\n<!-- 140607530226408&#45;&gt;140605554657096 -->\n<g id=\"edge10\" class=\"edge\">\n<title>140607530226408&#45;&gt;140605554657096</title>\n<path fill=\"none\" stroke=\"#000000\" d=\"M232,-240.6966C232,-231.0634 232,-219.003 232,-208.8518\"/>\n<polygon fill=\"#000000\" stroke=\"#000000\" points=\"235.5001,-208.7912 232,-198.7913 228.5001,-208.7913 235.5001,-208.7912\"/>\n</g>\n</g>\n</svg>\n"
          },
          "metadata": {
            "tags": []
          },
          "execution_count": 55
        }
      ]
    },
    {
      "cell_type": "markdown",
      "metadata": {
        "id": "cvU2yKmAf6BY",
        "colab_type": "text"
      },
      "source": [
        "## 2.2.1 - Treinamento"
      ]
    },
    {
      "cell_type": "code",
      "metadata": {
        "id": "DQKBmo0Ufl1U",
        "colab_type": "code",
        "colab": {}
      },
      "source": [
        "optm = torch.optim.RMSprop(first_mlp.parameters(), lr=0.001) # learning rate"
      ],
      "execution_count": 0,
      "outputs": []
    },
    {
      "cell_type": "markdown",
      "metadata": {
        "id": "JvVgS0_sgdSI",
        "colab_type": "text"
      },
      "source": [
        "Em seguida iremos definir qual a função será considerada como métrica de loss/erro. \n",
        "<br>\n",
        "Nesse caso usaremos a **Binary Cross-Entropy** também conhecida como *log loss*\n",
        "<br>\n",
        "<br>\n",
        "Entropia é a medida da incerteza de uma distribuição (grau de desordem). A função entropia cruzada interpreta o sinal de treinaento e as saídas da rede como probabilidades e o algoritmo minimiza a diferença entre estas probabilidades"
      ]
    },
    {
      "cell_type": "code",
      "metadata": {
        "id": "54GtqWWrgrVt",
        "colab_type": "code",
        "colab": {}
      },
      "source": [
        "bce_loss = nn.BCELoss()"
      ],
      "execution_count": 0,
      "outputs": []
    },
    {
      "cell_type": "markdown",
      "metadata": {
        "id": "vb5LV646hU9G",
        "colab_type": "text"
      },
      "source": [
        "Agora podemos definir o fluxo de treinamento\n",
        "Obs: Para o resultado do modelo é comum utilizarmos a nomenclatura y_hat"
      ]
    },
    {
      "cell_type": "code",
      "metadata": {
        "id": "IFc6TBIzhcOD",
        "colab_type": "code",
        "colab": {
          "base_uri": "https://localhost:8080/",
          "height": 34
        },
        "outputId": "f70ef814-d631-482d-9b6b-ba51e0a90a21"
      },
      "source": [
        "# obter o resultado do modelo\n",
        "y_hat = first_mlp(x_tensor)\n",
        "\n",
        "# Calcular o erro entre o resultado do modelo e o resultado real\n",
        "loss = bce_loss(y_hat, y_tensor)\n",
        "print(loss.item())\n",
        "\n",
        "# Calcular a direção que os parâmetros devem andar\n",
        "optm.zero_grad() # zerar para realizar o backprop.\n",
        "loss.backward()\n",
        "\n",
        "# Atualizar os parâmetros\n",
        "optm.step()"
      ],
      "execution_count": 67,
      "outputs": [
        {
          "output_type": "stream",
          "text": [
            "0.6798738837242126\n"
          ],
          "name": "stdout"
        }
      ]
    },
    {
      "cell_type": "markdown",
      "metadata": {
        "id": "WaQII-yAiO28",
        "colab_type": "text"
      },
      "source": [
        "Cada vez que executamos essa célula, o erro tende a diminuir. Então, podemos fazer um *for*, que irá ajustar"
      ]
    },
    {
      "cell_type": "markdown",
      "metadata": {
        "id": "qvtlvS37kOob",
        "colab_type": "text"
      },
      "source": [
        "## Exercício\n",
        "Faça o processo de treinamento de uma Rede Neural MLP\n",
        "<br>\n",
        "A MLP deve ter 6 neurônios na camada de entrada, 4, 3 e 2 neurônios nas camadas ocultas (hidden layer) e 1 output. Utilize a Sigmoid como a ativação em todas as camadas.\n",
        "<br>\n",
        "Treine com os mesmos dados do exemplo anterior. Repita o treinamento por 20 vezes (épocas) e mostre o erro com um print a cada repetiçao"
      ]
    },
    {
      "cell_type": "code",
      "metadata": {
        "id": "s9DfJwqIiUXp",
        "colab_type": "code",
        "colab": {
          "base_uri": "https://localhost:8080/",
          "height": 187
        },
        "outputId": "fe77e16d-0355-4719-e3ab-ea8a816362df"
      },
      "source": [
        "mlp = nn.Sequential(\n",
        "    nn.Linear(6,4), # entrada e saída de neuronios\n",
        "    nn.Sigmoid(), # ativação\n",
        "    nn.Linear(4,3), # entrada e saída de neuronios\n",
        "    nn.Sigmoid(), # ativação\n",
        "    nn.Linear(3,2), # entrada e saída de neuronios\n",
        "    nn.Sigmoid(), # ativação\n",
        "    nn.Linear(2,1), # entrada e saída de neuronios\n",
        "    nn.Sigmoid() # ativação\n",
        ")\n",
        "mlp"
      ],
      "execution_count": 92,
      "outputs": [
        {
          "output_type": "execute_result",
          "data": {
            "text/plain": [
              "Sequential(\n",
              "  (0): Linear(in_features=6, out_features=4, bias=True)\n",
              "  (1): Sigmoid()\n",
              "  (2): Linear(in_features=4, out_features=3, bias=True)\n",
              "  (3): Sigmoid()\n",
              "  (4): Linear(in_features=3, out_features=2, bias=True)\n",
              "  (5): Sigmoid()\n",
              "  (6): Linear(in_features=2, out_features=1, bias=True)\n",
              "  (7): Sigmoid()\n",
              ")"
            ]
          },
          "metadata": {
            "tags": []
          },
          "execution_count": 92
        }
      ]
    },
    {
      "cell_type": "code",
      "metadata": {
        "id": "EjiJ0M6SlBY9",
        "colab_type": "code",
        "colab": {
          "base_uri": "https://localhost:8080/",
          "height": 357
        },
        "outputId": "0917a33a-a54b-4c3c-a7ba-c8eb86535068"
      },
      "source": [
        "optm = torch.optim.RMSprop(mlp.parameters(), lr=0.01)\n",
        "\n",
        "epochs = 20\n",
        "for i in range(epochs):\n",
        "  y_hat = mlp(x_tensor)\n",
        "  loss = bce_loss(y_hat, y_tensor)\n",
        "  print(loss.item())\n",
        "  optm.zero_grad() # zerar para realizar o backprop.\n",
        "  loss.backward()\n",
        "  optm.step()"
      ],
      "execution_count": 93,
      "outputs": [
        {
          "output_type": "stream",
          "text": [
            "0.740048348903656\n",
            "0.7116854190826416\n",
            "0.7013381123542786\n",
            "0.6965513229370117\n",
            "0.6941251754760742\n",
            "0.6927487850189209\n",
            "0.6918179392814636\n",
            "0.6910398602485657\n",
            "0.6902562975883484\n",
            "0.689376711845398\n",
            "0.6883318424224854\n",
            "0.6870681643486023\n",
            "0.6855476498603821\n",
            "0.6837474703788757\n",
            "0.681657612323761\n",
            "0.6792777180671692\n",
            "0.6766133904457092\n",
            "0.6736723184585571\n",
            "0.6704633831977844\n",
            "0.6669936180114746\n"
          ],
          "name": "stdout"
        }
      ]
    },
    {
      "cell_type": "code",
      "metadata": {
        "id": "pblpq4WjnEaG",
        "colab_type": "code",
        "colab": {}
      },
      "source": [
        "from torch.utils.data import DataLoader, TensorDataset"
      ],
      "execution_count": 0,
      "outputs": []
    },
    {
      "cell_type": "code",
      "metadata": {
        "id": "uodnvmUnnR0z",
        "colab_type": "code",
        "colab": {}
      },
      "source": [
        "training_dataset = TensorDataset(x_tensor, y_tensor)"
      ],
      "execution_count": 0,
      "outputs": []
    },
    {
      "cell_type": "code",
      "metadata": {
        "id": "7rIHoHNTnZEQ",
        "colab_type": "code",
        "colab": {}
      },
      "source": [
        "data_loader = DataLoader(training_dataset, batch_size=100)"
      ],
      "execution_count": 0,
      "outputs": []
    },
    {
      "cell_type": "code",
      "metadata": {
        "id": "qeZHS_QpngbU",
        "colab_type": "code",
        "colab": {
          "base_uri": "https://localhost:8080/",
          "height": 34
        },
        "outputId": "e243b269-f93f-40cd-9bcd-507d4283a887"
      },
      "source": [
        "len(y_tensor)"
      ],
      "execution_count": 90,
      "outputs": [
        {
          "output_type": "execute_result",
          "data": {
            "text/plain": [
              "1120"
            ]
          },
          "metadata": {
            "tags": []
          },
          "execution_count": 90
        }
      ]
    },
    {
      "cell_type": "code",
      "metadata": {
        "id": "JiGRq2d_n8GL",
        "colab_type": "code",
        "colab": {
          "base_uri": "https://localhost:8080/",
          "height": 425
        },
        "outputId": "4ad3f8dd-8c4e-4075-a175-a9847279ba1f"
      },
      "source": [
        "# ele vai iterar de 100 em 100 e no último loop pega o resquício (11*100+20)\n",
        "for batch_i, batch in enumerate(data_loader):\n",
        "  batch_x = batch[0] # features\n",
        "  batch_y = batch[1] # alvos\n",
        "  \n",
        "  print(batch_i) # epoca\n",
        "  print(batch_x.shape) # i observações e j features"
      ],
      "execution_count": 94,
      "outputs": [
        {
          "output_type": "stream",
          "text": [
            "0\n",
            "torch.Size([100, 1])\n",
            "1\n",
            "torch.Size([100, 1])\n",
            "2\n",
            "torch.Size([100, 1])\n",
            "3\n",
            "torch.Size([100, 1])\n",
            "4\n",
            "torch.Size([100, 1])\n",
            "5\n",
            "torch.Size([100, 1])\n",
            "6\n",
            "torch.Size([100, 1])\n",
            "7\n",
            "torch.Size([100, 1])\n",
            "8\n",
            "torch.Size([100, 1])\n",
            "9\n",
            "torch.Size([100, 1])\n",
            "10\n",
            "torch.Size([100, 1])\n",
            "11\n",
            "torch.Size([20, 1])\n"
          ],
          "name": "stdout"
        }
      ]
    },
    {
      "cell_type": "markdown",
      "metadata": {
        "id": "HFfWF0fUm8Jn",
        "colab_type": "text"
      },
      "source": [
        "## Exercício\n",
        "Faça o processo de treinamento de uma Rede Neural MLP \n",
        "<br>\n",
        "A MLP deve ter 6 neurônios na camada de entrada, 4, 5 e 4 neurônios nas camadas ocultas (hidden layer) e 1 output. Utilize a Sigmoid como a ativação em todas as camadas. \n",
        "<br>\n",
        "Faça o processo de treinamento com 200 épocas e o tamanho do batch 124. De 20 em 20 épocas, exiba o erro médio da última época excutada."
      ]
    },
    {
      "cell_type": "code",
      "metadata": {
        "id": "2Dh1rA9lpmeS",
        "colab_type": "code",
        "colab": {
          "base_uri": "https://localhost:8080/",
          "height": 85
        },
        "outputId": "75b23cb1-07f0-47f1-953f-23bdff41ccfb"
      },
      "source": [
        "mlp_three_layers_sigmoid = nn.Sequential(\n",
        "    nn.Linear(6,4), # entrada e saída de neuronios\n",
        "    nn.Sigmoid(), # ativação\n",
        "    nn.Linear(4,5), # entrada e saída de neuronios\n",
        "    nn.Sigmoid(), # ativação\n",
        "    nn.Linear(5,4), # entrada e saída de neuronios\n",
        "    nn.Sigmoid(), # ativação\n",
        "    nn.Linear(4,1), # entrada e saída de neuronios\n",
        "    nn.Sigmoid() # ativação\n",
        ")\n",
        "\n",
        "\n",
        "data_loader = DataLoader(training_dataset, batch_size=124)\n",
        "optm = torch.optim.RMSprop(mlp_three_layers_sigmoid.parameters(), lr=0.01)\n",
        "epochs = 200\n",
        "\n",
        "losses = []\n",
        "mean_loss = []\n",
        "\n",
        "for i in range(epochs):\n",
        "  mean_loss.append(np.mean(losses))\n",
        "  losses = []\n",
        "  for batch in data_loader:\n",
        "    batch_x = batch[0] # features\n",
        "    batch_y = batch[1] # alvos\n",
        "    y_hat = mlp_three_layers_sigmoid(batch_x)\n",
        "    loss = bce_loss(y_hat, batch_y)\n",
        "    losses.append(loss.item())\n",
        "    optm.zero_grad() # zerar para realizar o backprop.\n",
        "    loss.backward()\n",
        "    optm.step()"
      ],
      "execution_count": 127,
      "outputs": [
        {
          "output_type": "stream",
          "text": [
            "/usr/local/lib/python3.6/dist-packages/numpy/core/fromnumeric.py:3118: RuntimeWarning: Mean of empty slice.\n",
            "  out=out, **kwargs)\n",
            "/usr/local/lib/python3.6/dist-packages/numpy/core/_methods.py:85: RuntimeWarning: invalid value encountered in double_scalars\n",
            "  ret = ret.dtype.type(ret / rcount)\n"
          ],
          "name": "stderr"
        }
      ]
    },
    {
      "cell_type": "code",
      "metadata": {
        "id": "BgGWGR4fvdZg",
        "colab_type": "code",
        "colab": {
          "base_uri": "https://localhost:8080/",
          "height": 286
        },
        "outputId": "af660134-b5f5-45e2-ecbd-4a4cb23eaf12"
      },
      "source": [
        "from matplotlib import pyplot as plt\n",
        "\n",
        "plt.plot(range(len(mean_loss)),mean_loss)"
      ],
      "execution_count": 128,
      "outputs": [
        {
          "output_type": "execute_result",
          "data": {
            "text/plain": [
              "[<matplotlib.lines.Line2D at 0x7fe140397ac8>]"
            ]
          },
          "metadata": {
            "tags": []
          },
          "execution_count": 128
        },
        {
          "output_type": "display_data",
          "data": {
            "image/png": "[encoded data removed]",
            "text/plain": [
              "<Figure size 432x288 with 1 Axes>"
            ]
          },
          "metadata": {
            "tags": []
          }
        }
      ]
    },
    {
      "cell_type": "markdown",
      "metadata": {
        "id": "hOxUsvwZv3oC",
        "colab_type": "text"
      },
      "source": [
        "## Exercício\n",
        "Vamos agora aplicar nosso conhecimento a um dataset que ainda não exploramos. O PyTroch facilita o acesso a esse dataser por ser um dataset muito utilizado em testes de algortimos de machine learning.\n",
        "<br>\n",
        "Vamos, a partir de uma imagem de um dígito escrito a mão, descobrir qual é o dígito!"
      ]
    },
    {
      "cell_type": "code",
      "metadata": {
        "id": "JuaJtij4wGA-",
        "colab_type": "code",
        "colab": {
          "base_uri": "https://localhost:8080/",
          "height": 275
        },
        "outputId": "cc3ebca1-68d7-453d-fea3-182b1e3a4aac"
      },
      "source": [
        "from torchvision import datasets, transforms\n",
        "from torchvision.transforms.functional import normalize\n",
        "\n",
        "transform = transforms.Compose([transforms.ToTensor()])\n",
        "trainset = datasets.MNIST(\n",
        "    './mnist',\n",
        "    download=True,\n",
        "    train=True,\n",
        "    transform=transform\n",
        ")\n",
        "test = datasets.MNIST(\n",
        "    './mnist',\n",
        "    download=True,\n",
        "    train=False,\n",
        "    transform=transform\n",
        ")"
      ],
      "execution_count": 129,
      "outputs": [
        {
          "output_type": "stream",
          "text": [
            "  0%|          | 0/9912422 [00:00<?, ?it/s]"
          ],
          "name": "stderr"
        },
        {
          "output_type": "stream",
          "text": [
            "Downloading http://yann.lecun.com/exdb/mnist/train-images-idx3-ubyte.gz to ./mnist/MNIST/raw/train-images-idx3-ubyte.gz\n"
          ],
          "name": "stdout"
        },
        {
          "output_type": "stream",
          "text": [
            "9920512it [00:00, 21229323.13it/s]                            \n"
          ],
          "name": "stderr"
        },
        {
          "output_type": "stream",
          "text": [
            "Extracting ./mnist/MNIST/raw/train-images-idx3-ubyte.gz\n"
          ],
          "name": "stdout"
        },
        {
          "output_type": "stream",
          "text": [
            "32768it [00:00, 314405.61it/s]                           \n",
            "0it [00:00, ?it/s]"
          ],
          "name": "stderr"
        },
        {
          "output_type": "stream",
          "text": [
            "Downloading http://yann.lecun.com/exdb/mnist/train-labels-idx1-ubyte.gz to ./mnist/MNIST/raw/train-labels-idx1-ubyte.gz\n",
            "Extracting ./mnist/MNIST/raw/train-labels-idx1-ubyte.gz\n",
            "Downloading http://yann.lecun.com/exdb/mnist/t10k-images-idx3-ubyte.gz to ./mnist/MNIST/raw/t10k-images-idx3-ubyte.gz\n"
          ],
          "name": "stdout"
        },
        {
          "output_type": "stream",
          "text": [
            "1654784it [00:00, 5335929.15it/s]                           \n",
            "8192it [00:00, 131080.00it/s]\n"
          ],
          "name": "stderr"
        },
        {
          "output_type": "stream",
          "text": [
            "Extracting ./mnist/MNIST/raw/t10k-images-idx3-ubyte.gz\n",
            "Downloading http://yann.lecun.com/exdb/mnist/t10k-labels-idx1-ubyte.gz to ./mnist/MNIST/raw/t10k-labels-idx1-ubyte.gz\n",
            "Extracting ./mnist/MNIST/raw/t10k-labels-idx1-ubyte.gz\n",
            "Processing...\n",
            "Done!\n"
          ],
          "name": "stdout"
        }
      ]
    },
    {
      "cell_type": "markdown",
      "metadata": {
        "id": "vXV6mV2mylB0",
        "colab_type": "text"
      },
      "source": [
        "Vamos ver como podemos visualizar a imagem do dígito"
      ]
    },
    {
      "cell_type": "code",
      "metadata": {
        "id": "Im7NGT-AyoMZ",
        "colab_type": "code",
        "colab": {}
      },
      "source": [
        "x = trainset.data\n",
        "y = trainset.targets"
      ],
      "execution_count": 0,
      "outputs": []
    },
    {
      "cell_type": "code",
      "metadata": {
        "id": "MncuPNVlyr1C",
        "colab_type": "code",
        "colab": {
          "base_uri": "https://localhost:8080/",
          "height": 286
        },
        "outputId": "e54a87b0-1e3c-4b13-8f04-1540d3797688"
      },
      "source": [
        "from matplotlib import pyplot as plt\n",
        "plt.imshow(x[0].data.numpy(), cmap=\"Greys\")\n",
        "print(y[0].item())"
      ],
      "execution_count": 131,
      "outputs": [
        {
          "output_type": "stream",
          "text": [
            "5\n"
          ],
          "name": "stdout"
        },
        {
          "output_type": "display_data",
          "data": {
            "image/png": "[encoded data removed]",
            "text/plain": [
              "<Figure size 432x288 with 1 Axes>"
            ]
          },
          "metadata": {
            "tags": []
          }
        }
      ]
    },
    {
      "cell_type": "markdown",
      "metadata": {
        "id": "HuXCZ5zvz6OL",
        "colab_type": "text"
      },
      "source": [
        "Para facilitar a visualização das imagens, vamos fazer uma função que nos auxilia"
      ]
    },
    {
      "cell_type": "code",
      "metadata": {
        "id": "TtIyvwYNz5tD",
        "colab_type": "code",
        "colab": {}
      },
      "source": [
        "def plt_digit(value_tensor, title=''):\n",
        "  plt.imshow(value_tensor.data.numpy(), cmap=\"Greys\")\n",
        "  plt.title(title.item())"
      ],
      "execution_count": 0,
      "outputs": []
    },
    {
      "cell_type": "code",
      "metadata": {
        "id": "nHCjHYwa0K22",
        "colab_type": "code",
        "colab": {
          "base_uri": "https://localhost:8080/",
          "height": 281
        },
        "outputId": "9496f0e2-87df-4204-9ad1-741b8f6aa4ac"
      },
      "source": [
        "plt_digit(x[1],y[1])"
      ],
      "execution_count": 133,
      "outputs": [
        {
          "output_type": "display_data",
          "data": {
            "image/png": "[encoded data removed]",
            "text/plain": [
              "<Figure size 432x288 with 1 Axes>"
            ]
          },
          "metadata": {
            "tags": []
          }
        }
      ]
    },
    {
      "cell_type": "markdown",
      "metadata": {
        "id": "r2Eo92rl0XRp",
        "colab_type": "text"
      },
      "source": [
        "Vamos formatar os dados de acordo com a necessidade"
      ]
    },
    {
      "cell_type": "code",
      "metadata": {
        "id": "peIz8ZRd0dQO",
        "colab_type": "code",
        "colab": {
          "base_uri": "https://localhost:8080/",
          "height": 34
        },
        "outputId": "fe7f8ab7-acdc-4977-cd8e-f9f75e62f0f9"
      },
      "source": [
        "x.shape"
      ],
      "execution_count": 134,
      "outputs": [
        {
          "output_type": "execute_result",
          "data": {
            "text/plain": [
              "torch.Size([60000, 28, 28])"
            ]
          },
          "metadata": {
            "tags": []
          },
          "execution_count": 134
        }
      ]
    },
    {
      "cell_type": "code",
      "metadata": {
        "id": "X3-cjxzk0fUR",
        "colab_type": "code",
        "colab": {
          "base_uri": "https://localhost:8080/",
          "height": 34
        },
        "outputId": "99480dc0-dfec-427e-810e-bc5a51313038"
      },
      "source": [
        "reshaped_x = x.view(-1,28*28)\n",
        "print(reshaped_x.shape)"
      ],
      "execution_count": 135,
      "outputs": [
        {
          "output_type": "stream",
          "text": [
            "torch.Size([60000, 784])\n"
          ],
          "name": "stdout"
        }
      ]
    },
    {
      "cell_type": "markdown",
      "metadata": {
        "id": "M1ggN37l1EzK",
        "colab_type": "text"
      },
      "source": [
        "Utilizar o -1 como parâmetro para redimensionalização, significa que ele ajusta automaticamente  o tamanho dessa dimensão.\n",
        "<br>\n",
        "Além disso, como já mostramos, não podemos fazer operações entre diferentes tipos, então apesar de ser um escalar, devemos converter o input da rede para float."
      ]
    },
    {
      "cell_type": "code",
      "metadata": {
        "id": "AUFrugGG1YBF",
        "colab_type": "code",
        "colab": {}
      },
      "source": [
        "formated_x = reshaped_x.float()"
      ],
      "execution_count": 0,
      "outputs": []
    },
    {
      "cell_type": "markdown",
      "metadata": {
        "id": "pyFMQJrj1bag",
        "colab_type": "text"
      },
      "source": [
        "#### Cross Entropy Loss"
      ]
    },
    {
      "cell_type": "code",
      "metadata": {
        "id": "Gdyykw1i1dbQ",
        "colab_type": "code",
        "colab": {}
      },
      "source": [
        "cross_entropy_loss = nn.CrossEntropyLoss()"
      ],
      "execution_count": 0,
      "outputs": []
    },
    {
      "cell_type": "code",
      "metadata": {
        "id": "BzLs6AzW1lrM",
        "colab_type": "code",
        "colab": {}
      },
      "source": [
        "mnist_mlp = nn.Sequential(\n",
        "    nn.Linear(28*28,4), # entrada e saída de neuronios\n",
        "    nn.Sigmoid(), # ativação\n",
        "    nn.Linear(4,5), # entrada e saída de neuronios\n",
        "    nn.Sigmoid(), # ativação\n",
        "    nn.Linear(5,4), # entrada e saída de neuronios\n",
        "    nn.Sigmoid(), # ativação\n",
        "    nn.Linear(4,10), # entrada e saída de neuronios\n",
        "    nn.Sigmoid() # ativação\n",
        ")\n",
        "\n",
        "optm = torch.optim.RMSprop(mnist_mlp.parameters(), lr=0.001)\n",
        "dataset = TensorDataset(formated_x, y)\n",
        "data_loader = DataLoader(dataset, batch_size=128)"
      ],
      "execution_count": 0,
      "outputs": []
    },
    {
      "cell_type": "code",
      "metadata": {
        "id": "hwqqo3bW2_uC",
        "colab_type": "code",
        "colab": {
          "base_uri": "https://localhost:8080/",
          "height": 286
        },
        "outputId": "f21077a3-9cac-4081-e0c8-f7891c28fb28"
      },
      "source": [
        "epochs=10\n",
        "\n",
        "mean_error = []\n",
        "for epoch in range(epochs):\n",
        "  mean_error.append(np.mean(errors))\n",
        "  errors = []\n",
        "  for batch_i, batch in enumerate(data_loader):\n",
        "    batch_x = batch[0] # features\n",
        "    batch_y = batch[1] # alvos\n",
        "    \n",
        "    y_hat = mnist_mlp(batch_x)\n",
        "    \n",
        "    loss = cross_entropy_loss(y_hat, batch_y)\n",
        "    \n",
        "    errors.append(loss.item())\n",
        "    \n",
        "    optm.zero_grad() # zerar para realizar o backprop.\n",
        "    loss.backward()\n",
        "    \n",
        "    optm.step()\n",
        "    \n",
        "\n",
        "#   print(\"\"\"\n",
        "#   Epoch: {}\n",
        "#     Mean Loss {}\"\"\".format(epoch, mean_error))\n",
        "  \n",
        "plt.plot(range(len(mean_error)), mean_error)"
      ],
      "execution_count": 195,
      "outputs": [
        {
          "output_type": "execute_result",
          "data": {
            "text/plain": [
              "[<matplotlib.lines.Line2D at 0x7fe0f87afb38>]"
            ]
          },
          "metadata": {
            "tags": []
          },
          "execution_count": 195
        },
        {
          "output_type": "display_data",
          "data": {
            "image/png": "[encoded data removed]",
            "text/plain": [
              "<Figure size 432x288 with 1 Axes>"
            ]
          },
          "metadata": {
            "tags": []
          }
        }
      ]
    },
    {
      "cell_type": "markdown",
      "metadata": {
        "id": "vz95IWOJ4rsY",
        "colab_type": "text"
      },
      "source": [
        "Por enquanto só conseguimos medir o quanto a rede esta se adequando o nosso dataset de treino"
      ]
    },
    {
      "cell_type": "code",
      "metadata": {
        "id": "o0lV1_RL4n-Z",
        "colab_type": "code",
        "colab": {}
      },
      "source": [
        "reshaped_test = test.data.view(-1,28*28).float()\n",
        "epoch_test_x = reshaped_test[:1000]\n",
        "epoch_test_y = test.targets[:1000]"
      ],
      "execution_count": 0,
      "outputs": []
    },
    {
      "cell_type": "code",
      "metadata": {
        "id": "KjUxkirP7cGS",
        "colab_type": "code",
        "colab": {
          "base_uri": "https://localhost:8080/",
          "height": 153
        },
        "outputId": "9b75ec94-b3b0-4eb1-880c-bd05108af0ca"
      },
      "source": [
        "y_hat_test = mnist_mlp(epoch_test_x)\n",
        "y_hat_test"
      ],
      "execution_count": 197,
      "outputs": [
        {
          "output_type": "execute_result",
          "data": {
            "text/plain": [
              "tensor([[0.0095, 0.0050, 0.0235,  ..., 0.9950, 0.0153, 0.9897],\n",
              "        [0.9908, 0.9932, 0.9930,  ..., 0.0060, 0.9936, 0.0016],\n",
              "        [0.9908, 0.9932, 0.9930,  ..., 0.0060, 0.9936, 0.0016],\n",
              "        ...,\n",
              "        [0.9908, 0.9932, 0.9930,  ..., 0.0060, 0.9936, 0.0016],\n",
              "        [0.0096, 0.0051, 0.0238,  ..., 0.9949, 0.0155, 0.9896],\n",
              "        [0.0086, 0.0045, 0.0216,  ..., 0.9955, 0.0139, 0.9908]],\n",
              "       grad_fn=<SigmoidBackward>)"
            ]
          },
          "metadata": {
            "tags": []
          },
          "execution_count": 197
        }
      ]
    },
    {
      "cell_type": "code",
      "metadata": {
        "id": "53zpD74a7jlY",
        "colab_type": "code",
        "colab": {
          "base_uri": "https://localhost:8080/",
          "height": 731
        },
        "outputId": "a631c5e1-f7f2-4555-ad9a-db09c70cd369"
      },
      "source": [
        "formated_y_hat_test = torch.argmax(y_hat_test, 1)\n",
        "formated_y_hat_test"
      ],
      "execution_count": 198,
      "outputs": [
        {
          "output_type": "execute_result",
          "data": {
            "text/plain": [
              "tensor([7, 8, 8, 8, 7, 8, 7, 7, 7, 7, 8, 8, 7, 8, 8, 8, 7, 7, 8, 7, 7, 7, 7, 8,\n",
              "        7, 8, 7, 7, 8, 8, 2, 8, 8, 8, 7, 8, 7, 8, 8, 8, 8, 7, 7, 8, 8, 8, 8, 2,\n",
              "        7, 7, 7, 8, 8, 8, 2, 8, 7, 8, 7, 8, 7, 8, 7, 8, 7, 7, 2, 7, 8, 8, 7, 8,\n",
              "        8, 7, 8, 7, 8, 2, 7, 7, 7, 7, 8, 7, 8, 7, 7, 8, 7, 8, 8, 7, 7, 8, 8, 7,\n",
              "        8, 7, 7, 7, 7, 8, 2, 7, 7, 7, 8, 8, 7, 7, 8, 6, 8, 7, 7, 7, 7, 7, 7, 2,\n",
              "        8, 7, 7, 7, 7, 7, 8, 8, 8, 8, 7, 7, 8, 7, 8, 8, 8, 8, 7, 7, 7, 7, 8, 8,\n",
              "        7, 8, 8, 8, 8, 8, 7, 8, 8, 8, 8, 8, 7, 8, 8, 7, 7, 7, 8, 7, 7, 8, 7, 8,\n",
              "        8, 7, 7, 7, 8, 8, 8, 8, 8, 8, 8, 8, 8, 8, 8, 8, 8, 7, 8, 8, 8, 8, 8, 8,\n",
              "        8, 7, 8, 6, 8, 7, 7, 8, 8, 7, 8, 8, 8, 8, 7, 8, 8, 7, 7, 8, 7, 8, 7, 8,\n",
              "        8, 8, 8, 8, 7, 8, 8, 7, 8, 8, 8, 7, 8, 7, 8, 8, 8, 7, 2, 7, 2, 8, 7, 8,\n",
              "        8, 8, 8, 7, 8, 7, 8, 7, 7, 8, 7, 8, 7, 8, 7, 2, 8, 8, 8, 8, 8, 8, 7, 7,\n",
              "        8, 8, 8, 8, 8, 8, 8, 8, 8, 7, 7, 7, 8, 2, 8, 8, 8, 7, 8, 8, 7, 8, 7, 7,\n",
              "        8, 8, 6, 8, 7, 8, 8, 7, 8, 8, 8, 8, 7, 7, 8, 7, 7, 8, 8, 7, 7, 8, 8, 8,\n",
              "        8, 8, 8, 7, 7, 8, 8, 8, 8, 8, 7, 8, 8, 7, 8, 8, 7, 8, 8, 8, 8, 8, 8, 8,\n",
              "        7, 7, 8, 7, 8, 7, 8, 8, 8, 8, 8, 8, 8, 2, 8, 8, 8, 7, 8, 8, 8, 8, 7, 7,\n",
              "        7, 7, 8, 8, 8, 8, 6, 8, 7, 8, 7, 8, 8, 8, 8, 8, 7, 8, 8, 7, 8, 7, 8, 7,\n",
              "        7, 8, 7, 2, 8, 7, 8, 8, 7, 8, 7, 8, 8, 8, 7, 7, 8, 8, 8, 2, 8, 7, 8, 8,\n",
              "        8, 8, 7, 7, 8, 7, 7, 7, 8, 7, 8, 8, 7, 8, 7, 8, 8, 7, 7, 8, 7, 8, 8, 8,\n",
              "        7, 8, 7, 2, 8, 8, 7, 7, 8, 8, 8, 8, 8, 8, 7, 7, 8, 8, 8, 8, 8, 8, 7, 8,\n",
              "        8, 6, 8, 8, 7, 7, 7, 7, 7, 8, 8, 8, 6, 8, 8, 7, 7, 8, 8, 7, 8, 8, 8, 8,\n",
              "        8, 7, 7, 8, 7, 8, 2, 7, 7, 8, 7, 8, 8, 8, 7, 8, 7, 7, 8, 7, 8, 7, 8, 8,\n",
              "        8, 8, 8, 8, 8, 8, 7, 7, 8, 8, 2, 8, 6, 7, 8, 7, 8, 7, 7, 8, 8, 8, 8, 8,\n",
              "        7, 8, 7, 8, 7, 7, 7, 7, 8, 8, 8, 8, 8, 7, 8, 8, 7, 8, 8, 8, 8, 8, 7, 8,\n",
              "        7, 8, 7, 7, 7, 7, 7, 7, 7, 8, 7, 8, 8, 7, 7, 8, 7, 8, 8, 7, 8, 8, 8, 7,\n",
              "        8, 8, 8, 7, 8, 8, 8, 8, 8, 7, 8, 7, 8, 7, 8, 8, 8, 7, 7, 8, 8, 7, 7, 7,\n",
              "        7, 8, 7, 8, 8, 7, 8, 7, 8, 8, 7, 8, 2, 8, 8, 8, 7, 7, 8, 2, 8, 8, 7, 7,\n",
              "        8, 7, 7, 7, 7, 7, 7, 8, 8, 8, 7, 8, 7, 8, 2, 7, 8, 8, 8, 8, 8, 2, 8, 8,\n",
              "        8, 7, 7, 7, 8, 8, 8, 8, 8, 8, 7, 2, 7, 6, 7, 8, 8, 7, 7, 8, 7, 8, 7, 7,\n",
              "        8, 7, 8, 8, 7, 8, 7, 7, 7, 7, 8, 8, 2, 8, 8, 8, 6, 7, 8, 7, 7, 8, 8, 8,\n",
              "        8, 7, 7, 8, 8, 8, 7, 7, 8, 7, 7, 7, 7, 8, 8, 8, 7, 8, 8, 8, 8, 7, 8, 7,\n",
              "        8, 8, 7, 7, 7, 8, 7, 8, 8, 7, 7, 8, 7, 7, 8, 8, 7, 7, 8, 8, 7, 8, 8, 7,\n",
              "        8, 8, 7, 8, 7, 8, 8, 8, 7, 8, 8, 8, 7, 7, 7, 7, 7, 8, 7, 8, 8, 7, 8, 8,\n",
              "        8, 7, 7, 7, 8, 7, 7, 8, 7, 8, 8, 8, 8, 8, 8, 8, 7, 8, 7, 8, 7, 7, 8, 7,\n",
              "        8, 8, 8, 2, 8, 8, 8, 8, 8, 8, 7, 7, 2, 8, 8, 8, 8, 8, 2, 8, 8, 7, 7, 8,\n",
              "        8, 7, 8, 8, 7, 8, 7, 8, 8, 7, 8, 7, 8, 8, 8, 8, 7, 7, 6, 8, 8, 8, 7, 8,\n",
              "        8, 7, 7, 7, 2, 8, 7, 8, 8, 8, 8, 8, 7, 7, 8, 8, 8, 8, 8, 7, 7, 7, 7, 8,\n",
              "        8, 8, 8, 8, 8, 8, 8, 8, 8, 8, 7, 8, 8, 8, 8, 8, 7, 7, 7, 8, 8, 7, 7, 8,\n",
              "        8, 8, 8, 8, 8, 7, 8, 8, 8, 8, 8, 8, 8, 7, 7, 7, 8, 8, 7, 8, 7, 7, 7, 7,\n",
              "        8, 7, 8, 8, 7, 7, 8, 8, 8, 8, 8, 8, 2, 8, 8, 8, 7, 8, 7, 7, 8, 8, 8, 8,\n",
              "        8, 7, 8, 8, 7, 7, 7, 7, 8, 8, 7, 2, 8, 8, 6, 7, 7, 7, 7, 2, 8, 8, 8, 7,\n",
              "        7, 8, 7, 8, 8, 8, 7, 8, 7, 7, 8, 7, 8, 7, 8, 8, 8, 6, 8, 8, 8, 8, 8, 8,\n",
              "        8, 8, 7, 7, 8, 7, 8, 8, 7, 8, 8, 8, 8, 8, 7, 7])"
            ]
          },
          "metadata": {
            "tags": []
          },
          "execution_count": 198
        }
      ]
    },
    {
      "cell_type": "code",
      "metadata": {
        "id": "9MVD2peB75dd",
        "colab_type": "code",
        "colab": {
          "base_uri": "https://localhost:8080/",
          "height": 34
        },
        "outputId": "1e77ab0d-1ea0-4585-8b6d-5e36d2bff07a"
      },
      "source": [
        "from sklearn.metrics import accuracy_score\n",
        "\n",
        "accuracy_score(epoch_test_y, formated_y_hat_test)"
      ],
      "execution_count": 199,
      "outputs": [
        {
          "output_type": "execute_result",
          "data": {
            "text/plain": [
              "0.178"
            ]
          },
          "metadata": {
            "tags": []
          },
          "execution_count": 199
        }
      ]
    },
    {
      "cell_type": "markdown",
      "metadata": {
        "id": "uBf0HddS9nNa",
        "colab_type": "text"
      },
      "source": [
        "## Normalizando e Redimensionando o input da Rede"
      ]
    },
    {
      "cell_type": "code",
      "metadata": {
        "id": "mnOEE3X49ms1",
        "colab_type": "code",
        "colab": {}
      },
      "source": [
        "def format_tensor_to_input(input_tensor):\n",
        "  normalized = normalize(input_tensor.float(), (0.5,), (0.5,))\n",
        "  return normalized.view(-1,28*28)"
      ],
      "execution_count": 0,
      "outputs": []
    },
    {
      "cell_type": "code",
      "metadata": {
        "id": "xLj2cn-u95Kc",
        "colab_type": "code",
        "colab": {}
      },
      "source": [
        "# Formatando dado de treinamento\n",
        "formated_x = format_tensor_to_input(x)"
      ],
      "execution_count": 0,
      "outputs": []
    },
    {
      "cell_type": "code",
      "metadata": {
        "id": "oGS62aHU99we",
        "colab_type": "code",
        "colab": {}
      },
      "source": [
        "# Formatando dado de teste\n",
        "formated_test_x = format_tensor_to_input(test.data)"
      ],
      "execution_count": 0,
      "outputs": []
    },
    {
      "cell_type": "code",
      "metadata": {
        "id": "LYTiso9J-D1d",
        "colab_type": "code",
        "colab": {
          "base_uri": "https://localhost:8080/",
          "height": 354
        },
        "outputId": "11da4932-3ea8-47c5-ab8c-a3d865cb88ca"
      },
      "source": [
        "better_mlp = nn.Sequential(\n",
        "    nn.Linear(28*28,28*28), # entrada e saída de neuronios\n",
        "    nn.ReLU(), # ativação\n",
        "    nn.Linear(28*28,10), # entrada e saída de neuronios\n",
        "    nn.Sigmoid(), # ativação\n",
        ")\n",
        "\n",
        "optm = torch.optim.RMSprop(better_mlp.parameters(), lr=0.001)\n",
        "dataset = TensorDataset(formated_x, y)\n",
        "data_loader = DataLoader(dataset, batch_size=128)\n",
        "\n",
        "\n",
        "epochs=20\n",
        "\n",
        "mean_error = []\n",
        "errors = []\n",
        "for epoch in range(epochs):\n",
        "  mean_error.append(np.mean(errors))\n",
        "  errors = []\n",
        "  for batch_i, batch in enumerate(data_loader):\n",
        "    batch_x = batch[0] # features\n",
        "    batch_y = batch[1] # alvos\n",
        "    \n",
        "    y_hat = better_mlp(batch_x)\n",
        "    \n",
        "    loss = cross_entropy_loss(y_hat, batch_y)\n",
        "    \n",
        "    errors.append(loss.item())\n",
        "    \n",
        "    optm.zero_grad() # zerar para realizar o backprop.\n",
        "    loss.backward()\n",
        "    \n",
        "    optm.step()\n",
        "    \n",
        "\n",
        "#   print(\"\"\"\n",
        "#   Epoch: {}\n",
        "#     Mean Loss {}\"\"\".format(epoch, mean_error))\n",
        "  \n",
        "plt.plot(range(len(mean_error)), mean_error)"
      ],
      "execution_count": 235,
      "outputs": [
        {
          "output_type": "stream",
          "text": [
            "/usr/local/lib/python3.6/dist-packages/numpy/core/fromnumeric.py:3118: RuntimeWarning: Mean of empty slice.\n",
            "  out=out, **kwargs)\n",
            "/usr/local/lib/python3.6/dist-packages/numpy/core/_methods.py:85: RuntimeWarning: invalid value encountered in double_scalars\n",
            "  ret = ret.dtype.type(ret / rcount)\n"
          ],
          "name": "stderr"
        },
        {
          "output_type": "execute_result",
          "data": {
            "text/plain": [
              "[<matplotlib.lines.Line2D at 0x7fe0f83038d0>]"
            ]
          },
          "metadata": {
            "tags": []
          },
          "execution_count": 235
        },
        {
          "output_type": "display_data",
          "data": {
            "image/png": "[encoded data removed]",
            "text/plain": [
              "<Figure size 432x288 with 1 Axes>"
            ]
          },
          "metadata": {
            "tags": []
          }
        }
      ]
    },
    {
      "cell_type": "code",
      "metadata": {
        "id": "0L2WfejsBCQP",
        "colab_type": "code",
        "colab": {
          "base_uri": "https://localhost:8080/",
          "height": 34
        },
        "outputId": "acb221e5-581e-4d98-a1d2-b4ca52176754"
      },
      "source": [
        "y_hat_test = better_mlp(formated_test_x)\n",
        "\n",
        "formated_y_hat_test = torch.argmax(y_hat_test, 1)\n",
        "\n",
        "\n",
        "accuracy_score(test.targets, formated_y_hat_test)"
      ],
      "execution_count": 236,
      "outputs": [
        {
          "output_type": "execute_result",
          "data": {
            "text/plain": [
              "0.1894"
            ]
          },
          "metadata": {
            "tags": []
          },
          "execution_count": 236
        }
      ]
    }
  ]
}