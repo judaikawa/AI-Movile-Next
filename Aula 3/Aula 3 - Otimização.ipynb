{
 "cells": [
  {
   "cell_type": "markdown",
   "metadata": {},
   "source": [
    "# Otimização de Algoritmos\n",
    "Ao otimizar um algoritmo, no final queremos otimizar uma função"
   ]
  },
  {
   "cell_type": "markdown",
   "metadata": {},
   "source": [
    "## Extremos (Máximos e Mínimos) das funções\n",
    "Os máximos e mínimos podem ser locais e globais. É sempre muito difícil garantir que você encontrará o global"
   ]
  },
  {
   "cell_type": "code",
   "execution_count": 1,
   "metadata": {},
   "outputs": [
    {
     "data": {
      "text/plain": [
       "<matplotlib.axes._subplots.AxesSubplot at 0x7f0d96939a90>"
      ]
     },
     "execution_count": 1,
     "metadata": {},
     "output_type": "execute_result"
    },
    {
     "data": {
      "image/png": "[encoded data removed]",
      "text/plain": [
       "<Figure size 432x288 with 1 Axes>"
      ]
     },
     "metadata": {
      "needs_background": "light"
     },
     "output_type": "display_data"
    }
   ],
   "source": [
    "% matplotlib inline\n",
    "\n",
    "import seaborn as sns\n",
    "import numpy as np\n",
    "\n",
    "x = np.linspace(-1,1,5000) # 5000 números consecutivos de -1 até 1\n",
    "y = np.sqrt(1-x**2) # computa o valor da função\n",
    "\n",
    "# plota resultado\n",
    "sns.lineplot(x,y)"
   ]
  },
  {
   "cell_type": "code",
   "execution_count": 4,
   "metadata": {},
   "outputs": [
    {
     "data": {
      "text/plain": [
       "<matplotlib.axes._subplots.AxesSubplot at 0x7f0d8af6cfd0>"
      ]
     },
     "execution_count": 4,
     "metadata": {},
     "output_type": "execute_result"
    },
    {
     "data": {
      "image/png": "[encoded data removed]",
      "text/plain": [
       "<Figure size 432x288 with 1 Axes>"
      ]
     },
     "metadata": {
      "needs_background": "light"
     },
     "output_type": "display_data"
    }
   ],
   "source": [
    "x = np.linspace(-2,2,5000) # 5000 números consecutivos de -1 até 1\n",
    "y = np.sqrt(4-x**2) # computa o valor da função\n",
    "\n",
    "# plota resultado\n",
    "sns.lineplot(x,y)"
   ]
  },
  {
   "cell_type": "markdown",
   "metadata": {},
   "source": [
    "## Então é fácil assim otimizar algoritmos de machine learning?\n",
    "Infelizemnte não.. São funçoões complexas e mal comportadas "
   ]
  },
  {
   "cell_type": "markdown",
   "metadata": {},
   "source": [
    "### Otimização de funções e Features de machine learning\n",
    "As Features são nossas dimensões se você for comparar seu modelo com uma função. Caso o seu modelo tenha 2 features então ele já vai ter 3 dimensões, sendo 2 features mais o label"
   ]
  },
  {
   "cell_type": "markdown",
   "metadata": {},
   "source": [
    "### Selecionando as melhores Features\n",
    "Existem algumas alternativas interessantes para se escolher features:\n",
    "- Features com alta correlação em relação ao Label provavelmente são boas\n",
    "- Features que tenham muita correlação entre si podem viciar o modelo\n",
    "- Através da importância de features aplicando modelos simples como o de árvore de decisão"
   ]
  },
  {
   "cell_type": "markdown",
   "metadata": {},
   "source": [
    "#### Vamos testar com o dataset do zoológico"
   ]
  },
  {
   "cell_type": "code",
   "execution_count": 10,
   "metadata": {},
   "outputs": [],
   "source": [
    "import pandas as pd \n",
    "zoo_df = pd.read_csv('zoo.csv')\n",
    "class_df = pd.read_csv('class.csv')\n",
    "\n",
    "zoo_class_df = zoo_df.merge(class_df, how='left', \n",
    "                            left_on='class_type', right_on='Class_Number')\n",
    "\n",
    "features_names = ['hair', 'feathers', 'eggs', 'milk', 'airborne',\n",
    "       'aquatic', 'predator', 'toothed', 'backbone', 'breathes', 'venomous',\n",
    "       'fins', 'legs', 'tail', 'domestic', 'catsize']\n",
    "\n",
    "X = zoo_class_df[features_names]\n",
    "y = zoo_class_df['Class_Type']"
   ]
  },
  {
   "cell_type": "markdown",
   "metadata": {},
   "source": [
    "#### Agora dividimos entre treino e teste"
   ]
  },
  {
   "cell_type": "code",
   "execution_count": 12,
   "metadata": {},
   "outputs": [],
   "source": [
    "from sklearn.model_selection import train_test_split\n",
    "X_train, X_test, y_train, y_test = train_test_split(X,y, train_size=0.7, test_size=0.3, random_state=42)"
   ]
  },
  {
   "cell_type": "code",
   "execution_count": 15,
   "metadata": {},
   "outputs": [
    {
     "data": {
      "text/plain": [
       "KNeighborsClassifier(algorithm='auto', leaf_size=30, metric='minkowski',\n",
       "           metric_params=None, n_jobs=None, n_neighbors=5, p=2,\n",
       "           weights='uniform')"
      ]
     },
     "execution_count": 15,
     "metadata": {},
     "output_type": "execute_result"
    }
   ],
   "source": [
    "from sklearn.neighbors import KNeighborsClassifier\n",
    "\n",
    "neigh = KNeighborsClassifier(n_neighbors=5, p=2)\n",
    "neigh.fit(X_train,y_train)"
   ]
  },
  {
   "cell_type": "markdown",
   "metadata": {},
   "source": [
    "#### Score"
   ]
  },
  {
   "cell_type": "code",
   "execution_count": 17,
   "metadata": {},
   "outputs": [
    {
     "data": {
      "text/plain": [
       "0.9032258064516129"
      ]
     },
     "execution_count": 17,
     "metadata": {},
     "output_type": "execute_result"
    }
   ],
   "source": [
    "neigh.score(X_test, y_test)"
   ]
  },
  {
   "cell_type": "markdown",
   "metadata": {},
   "source": [
    "### Features com maior correlação com o Label\n",
    "Vamos encontrar as melhores features baseado na técnica de correlação. No pandas podemos usar corr() para ver a correlação dos dados.\n",
    "<br>\n",
    "<br>\n",
    "Vamos analisar o conjunto inteiro:"
   ]
  },
  {
   "cell_type": "code",
   "execution_count": 25,
   "metadata": {},
   "outputs": [
    {
     "data": {
      "text/html": [
       "<div>\n",
       "<style scoped>\n",
       "    .dataframe tbody tr th:only-of-type {\n",
       "        vertical-align: middle;\n",
       "    }\n",
       "\n",
       "    .dataframe tbody tr th {\n",
       "        vertical-align: top;\n",
       "    }\n",
       "\n",
       "    .dataframe thead th {\n",
       "        text-align: right;\n",
       "    }\n",
       "</style>\n",
       "<table border=\"1\" class=\"dataframe\">\n",
       "  <thead>\n",
       "    <tr style=\"text-align: right;\">\n",
       "      <th></th>\n",
       "      <th>class_type</th>\n",
       "    </tr>\n",
       "  </thead>\n",
       "  <tbody>\n",
       "    <tr>\n",
       "      <th>hair</th>\n",
       "      <td>-0.562384</td>\n",
       "    </tr>\n",
       "    <tr>\n",
       "      <th>feathers</th>\n",
       "      <td>-0.197520</td>\n",
       "    </tr>\n",
       "    <tr>\n",
       "      <th>eggs</th>\n",
       "      <td>0.661825</td>\n",
       "    </tr>\n",
       "    <tr>\n",
       "      <th>milk</th>\n",
       "      <td>-0.723683</td>\n",
       "    </tr>\n",
       "    <tr>\n",
       "      <th>airborne</th>\n",
       "      <td>0.022677</td>\n",
       "    </tr>\n",
       "    <tr>\n",
       "      <th>aquatic</th>\n",
       "      <td>0.326639</td>\n",
       "    </tr>\n",
       "    <tr>\n",
       "      <th>predator</th>\n",
       "      <td>0.061179</td>\n",
       "    </tr>\n",
       "    <tr>\n",
       "      <th>toothed</th>\n",
       "      <td>-0.471527</td>\n",
       "    </tr>\n",
       "    <tr>\n",
       "      <th>backbone</th>\n",
       "      <td>-0.828845</td>\n",
       "    </tr>\n",
       "    <tr>\n",
       "      <th>breathes</th>\n",
       "      <td>-0.519308</td>\n",
       "    </tr>\n",
       "    <tr>\n",
       "      <th>venomous</th>\n",
       "      <td>0.321476</td>\n",
       "    </tr>\n",
       "    <tr>\n",
       "      <th>fins</th>\n",
       "      <td>0.099430</td>\n",
       "    </tr>\n",
       "    <tr>\n",
       "      <th>legs</th>\n",
       "      <td>0.131693</td>\n",
       "    </tr>\n",
       "    <tr>\n",
       "      <th>tail</th>\n",
       "      <td>-0.631830</td>\n",
       "    </tr>\n",
       "    <tr>\n",
       "      <th>domestic</th>\n",
       "      <td>-0.181043</td>\n",
       "    </tr>\n",
       "    <tr>\n",
       "      <th>catsize</th>\n",
       "      <td>-0.521030</td>\n",
       "    </tr>\n",
       "    <tr>\n",
       "      <th>class_type</th>\n",
       "      <td>1.000000</td>\n",
       "    </tr>\n",
       "    <tr>\n",
       "      <th>Class_Number</th>\n",
       "      <td>1.000000</td>\n",
       "    </tr>\n",
       "    <tr>\n",
       "      <th>Number_Of_Animal_Species_In_Class</th>\n",
       "      <td>-0.835864</td>\n",
       "    </tr>\n",
       "  </tbody>\n",
       "</table>\n",
       "</div>"
      ],
      "text/plain": [
       "                                   class_type\n",
       "hair                                -0.562384\n",
       "feathers                            -0.197520\n",
       "eggs                                 0.661825\n",
       "milk                                -0.723683\n",
       "airborne                             0.022677\n",
       "aquatic                              0.326639\n",
       "predator                             0.061179\n",
       "toothed                             -0.471527\n",
       "backbone                            -0.828845\n",
       "breathes                            -0.519308\n",
       "venomous                             0.321476\n",
       "fins                                 0.099430\n",
       "legs                                 0.131693\n",
       "tail                                -0.631830\n",
       "domestic                            -0.181043\n",
       "catsize                             -0.521030\n",
       "class_type                           1.000000\n",
       "Class_Number                         1.000000\n",
       "Number_Of_Animal_Species_In_Class   -0.835864"
      ]
     },
     "execution_count": 25,
     "metadata": {},
     "output_type": "execute_result"
    }
   ],
   "source": [
    "correlation_total = zoo_class_df.corr()[['class_type']]\n",
    "correlation_total"
   ]
  },
  {
   "cell_type": "markdown",
   "metadata": {},
   "source": [
    "### Podemos imprimir "
   ]
  },
  {
   "cell_type": "code",
   "execution_count": 28,
   "metadata": {},
   "outputs": [
    {
     "data": {
      "text/plain": [
       "<matplotlib.axes._subplots.AxesSubplot at 0x7f0df3169e80>"
      ]
     },
     "execution_count": 28,
     "metadata": {},
     "output_type": "execute_result"
    },
    {
     "data": {
      "image/png": "[encoded data removed]",
      "text/plain": [
       "<Figure size 432x288 with 2 Axes>"
      ]
     },
     "metadata": {
      "needs_background": "light"
     },
     "output_type": "display_data"
    }
   ],
   "source": [
    "%matplotlib inline\n",
    "import seaborn as sns\n",
    "sns.heatmap(abs(correlation_total), cmap=\"YlGnBu\")"
   ]
  },
  {
   "cell_type": "code",
   "execution_count": 35,
   "metadata": {},
   "outputs": [
    {
     "data": {
      "text/html": [
       "<div>\n",
       "<style scoped>\n",
       "    .dataframe tbody tr th:only-of-type {\n",
       "        vertical-align: middle;\n",
       "    }\n",
       "\n",
       "    .dataframe tbody tr th {\n",
       "        vertical-align: top;\n",
       "    }\n",
       "\n",
       "    .dataframe thead th {\n",
       "        text-align: right;\n",
       "    }\n",
       "</style>\n",
       "<table border=\"1\" class=\"dataframe\">\n",
       "  <thead>\n",
       "    <tr style=\"text-align: right;\">\n",
       "      <th></th>\n",
       "      <th>class_type</th>\n",
       "    </tr>\n",
       "  </thead>\n",
       "  <tbody>\n",
       "    <tr>\n",
       "      <th>hair</th>\n",
       "      <td>-0.562384</td>\n",
       "    </tr>\n",
       "    <tr>\n",
       "      <th>eggs</th>\n",
       "      <td>0.661825</td>\n",
       "    </tr>\n",
       "    <tr>\n",
       "      <th>milk</th>\n",
       "      <td>-0.723683</td>\n",
       "    </tr>\n",
       "    <tr>\n",
       "      <th>backbone</th>\n",
       "      <td>-0.828845</td>\n",
       "    </tr>\n",
       "    <tr>\n",
       "      <th>breathes</th>\n",
       "      <td>-0.519308</td>\n",
       "    </tr>\n",
       "    <tr>\n",
       "      <th>tail</th>\n",
       "      <td>-0.631830</td>\n",
       "    </tr>\n",
       "    <tr>\n",
       "      <th>catsize</th>\n",
       "      <td>-0.521030</td>\n",
       "    </tr>\n",
       "    <tr>\n",
       "      <th>class_type</th>\n",
       "      <td>1.000000</td>\n",
       "    </tr>\n",
       "    <tr>\n",
       "      <th>Class_Number</th>\n",
       "      <td>1.000000</td>\n",
       "    </tr>\n",
       "    <tr>\n",
       "      <th>Number_Of_Animal_Species_In_Class</th>\n",
       "      <td>-0.835864</td>\n",
       "    </tr>\n",
       "  </tbody>\n",
       "</table>\n",
       "</div>"
      ],
      "text/plain": [
       "                                   class_type\n",
       "hair                                -0.562384\n",
       "eggs                                 0.661825\n",
       "milk                                -0.723683\n",
       "backbone                            -0.828845\n",
       "breathes                            -0.519308\n",
       "tail                                -0.631830\n",
       "catsize                             -0.521030\n",
       "class_type                           1.000000\n",
       "Class_Number                         1.000000\n",
       "Number_Of_Animal_Species_In_Class   -0.835864"
      ]
     },
     "execution_count": 35,
     "metadata": {},
     "output_type": "execute_result"
    }
   ],
   "source": [
    "filter_correlatade = (abs(correlation_total.class_type)>0.5)\n",
    "correlation_total[filter_correlatade]"
   ]
  },
  {
   "cell_type": "code",
   "execution_count": 38,
   "metadata": {},
   "outputs": [],
   "source": [
    "features_names = ['hair', 'eggs', 'milk', 'backbone', 'breathes', 'tail', 'catsize']\n",
    "X = zoo_class_df[features_names]\n",
    "y = zoo_class_df['Class_Type']"
   ]
  },
  {
   "cell_type": "code",
   "execution_count": 39,
   "metadata": {},
   "outputs": [
    {
     "data": {
      "text/plain": [
       "0.8709677419354839"
      ]
     },
     "execution_count": 39,
     "metadata": {},
     "output_type": "execute_result"
    }
   ],
   "source": [
    "from sklearn.model_selection import train_test_split\n",
    "X_train, X_test, y_train, y_test = train_test_split(X,y, train_size=0.7, test_size=0.3, random_state=42)\n",
    "\n",
    "from sklearn.neighbors import KNeighborsClassifier\n",
    "\n",
    "neigh = KNeighborsClassifier(n_neighbors=5, p=2)\n",
    "neigh.fit(X_train,y_train)\n",
    "\n",
    "neigh.score(X_test, y_test)"
   ]
  },
  {
   "cell_type": "markdown",
   "metadata": {},
   "source": [
    "# One Hot Encoding"
   ]
  },
  {
   "cell_type": "code",
   "execution_count": 41,
   "metadata": {},
   "outputs": [
    {
     "data": {
      "text/html": [
       "<div>\n",
       "<style scoped>\n",
       "    .dataframe tbody tr th:only-of-type {\n",
       "        vertical-align: middle;\n",
       "    }\n",
       "\n",
       "    .dataframe tbody tr th {\n",
       "        vertical-align: top;\n",
       "    }\n",
       "\n",
       "    .dataframe thead th {\n",
       "        text-align: right;\n",
       "    }\n",
       "</style>\n",
       "<table border=\"1\" class=\"dataframe\">\n",
       "  <thead>\n",
       "    <tr style=\"text-align: right;\">\n",
       "      <th></th>\n",
       "      <th>Amphibian</th>\n",
       "      <th>Bird</th>\n",
       "      <th>Bug</th>\n",
       "      <th>Fish</th>\n",
       "      <th>Invertebrate</th>\n",
       "      <th>Mammal</th>\n",
       "      <th>Reptile</th>\n",
       "      <th>animal_name</th>\n",
       "      <th>hair</th>\n",
       "      <th>feathers</th>\n",
       "      <th>...</th>\n",
       "      <th>fins</th>\n",
       "      <th>legs</th>\n",
       "      <th>tail</th>\n",
       "      <th>domestic</th>\n",
       "      <th>catsize</th>\n",
       "      <th>class_type</th>\n",
       "      <th>Class_Number</th>\n",
       "      <th>Number_Of_Animal_Species_In_Class</th>\n",
       "      <th>Class_Type</th>\n",
       "      <th>Animal_Names</th>\n",
       "    </tr>\n",
       "  </thead>\n",
       "  <tbody>\n",
       "    <tr>\n",
       "      <th>0</th>\n",
       "      <td>0</td>\n",
       "      <td>0</td>\n",
       "      <td>0</td>\n",
       "      <td>0</td>\n",
       "      <td>0</td>\n",
       "      <td>1</td>\n",
       "      <td>0</td>\n",
       "      <td>aardvark</td>\n",
       "      <td>1</td>\n",
       "      <td>0</td>\n",
       "      <td>...</td>\n",
       "      <td>0</td>\n",
       "      <td>4</td>\n",
       "      <td>0</td>\n",
       "      <td>0</td>\n",
       "      <td>1</td>\n",
       "      <td>1</td>\n",
       "      <td>1</td>\n",
       "      <td>41</td>\n",
       "      <td>Mammal</td>\n",
       "      <td>aardvark, antelope, bear, boar, buffalo, calf,...</td>\n",
       "    </tr>\n",
       "    <tr>\n",
       "      <th>1</th>\n",
       "      <td>0</td>\n",
       "      <td>0</td>\n",
       "      <td>0</td>\n",
       "      <td>0</td>\n",
       "      <td>0</td>\n",
       "      <td>1</td>\n",
       "      <td>0</td>\n",
       "      <td>antelope</td>\n",
       "      <td>1</td>\n",
       "      <td>0</td>\n",
       "      <td>...</td>\n",
       "      <td>0</td>\n",
       "      <td>4</td>\n",
       "      <td>1</td>\n",
       "      <td>0</td>\n",
       "      <td>1</td>\n",
       "      <td>1</td>\n",
       "      <td>1</td>\n",
       "      <td>41</td>\n",
       "      <td>Mammal</td>\n",
       "      <td>aardvark, antelope, bear, boar, buffalo, calf,...</td>\n",
       "    </tr>\n",
       "    <tr>\n",
       "      <th>2</th>\n",
       "      <td>0</td>\n",
       "      <td>0</td>\n",
       "      <td>0</td>\n",
       "      <td>1</td>\n",
       "      <td>0</td>\n",
       "      <td>0</td>\n",
       "      <td>0</td>\n",
       "      <td>bass</td>\n",
       "      <td>0</td>\n",
       "      <td>0</td>\n",
       "      <td>...</td>\n",
       "      <td>1</td>\n",
       "      <td>0</td>\n",
       "      <td>1</td>\n",
       "      <td>0</td>\n",
       "      <td>0</td>\n",
       "      <td>4</td>\n",
       "      <td>4</td>\n",
       "      <td>13</td>\n",
       "      <td>Fish</td>\n",
       "      <td>bass, carp, catfish, chub, dogfish, haddock, h...</td>\n",
       "    </tr>\n",
       "    <tr>\n",
       "      <th>3</th>\n",
       "      <td>0</td>\n",
       "      <td>0</td>\n",
       "      <td>0</td>\n",
       "      <td>0</td>\n",
       "      <td>0</td>\n",
       "      <td>1</td>\n",
       "      <td>0</td>\n",
       "      <td>bear</td>\n",
       "      <td>1</td>\n",
       "      <td>0</td>\n",
       "      <td>...</td>\n",
       "      <td>0</td>\n",
       "      <td>4</td>\n",
       "      <td>0</td>\n",
       "      <td>0</td>\n",
       "      <td>1</td>\n",
       "      <td>1</td>\n",
       "      <td>1</td>\n",
       "      <td>41</td>\n",
       "      <td>Mammal</td>\n",
       "      <td>aardvark, antelope, bear, boar, buffalo, calf,...</td>\n",
       "    </tr>\n",
       "    <tr>\n",
       "      <th>4</th>\n",
       "      <td>0</td>\n",
       "      <td>0</td>\n",
       "      <td>0</td>\n",
       "      <td>0</td>\n",
       "      <td>0</td>\n",
       "      <td>1</td>\n",
       "      <td>0</td>\n",
       "      <td>boar</td>\n",
       "      <td>1</td>\n",
       "      <td>0</td>\n",
       "      <td>...</td>\n",
       "      <td>0</td>\n",
       "      <td>4</td>\n",
       "      <td>1</td>\n",
       "      <td>0</td>\n",
       "      <td>1</td>\n",
       "      <td>1</td>\n",
       "      <td>1</td>\n",
       "      <td>41</td>\n",
       "      <td>Mammal</td>\n",
       "      <td>aardvark, antelope, bear, boar, buffalo, calf,...</td>\n",
       "    </tr>\n",
       "  </tbody>\n",
       "</table>\n",
       "<p>5 rows × 29 columns</p>\n",
       "</div>"
      ],
      "text/plain": [
       "   Amphibian  Bird  Bug  Fish  Invertebrate  Mammal  Reptile animal_name  \\\n",
       "0          0     0    0     0             0       1        0    aardvark   \n",
       "1          0     0    0     0             0       1        0    antelope   \n",
       "2          0     0    0     1             0       0        0        bass   \n",
       "3          0     0    0     0             0       1        0        bear   \n",
       "4          0     0    0     0             0       1        0        boar   \n",
       "\n",
       "   hair  feathers                        ...                          fins  \\\n",
       "0     1         0                        ...                             0   \n",
       "1     1         0                        ...                             0   \n",
       "2     0         0                        ...                             1   \n",
       "3     1         0                        ...                             0   \n",
       "4     1         0                        ...                             0   \n",
       "\n",
       "   legs  tail  domestic  catsize  class_type  Class_Number  \\\n",
       "0     4     0         0        1           1             1   \n",
       "1     4     1         0        1           1             1   \n",
       "2     0     1         0        0           4             4   \n",
       "3     4     0         0        1           1             1   \n",
       "4     4     1         0        1           1             1   \n",
       "\n",
       "   Number_Of_Animal_Species_In_Class  Class_Type  \\\n",
       "0                                 41      Mammal   \n",
       "1                                 41      Mammal   \n",
       "2                                 13        Fish   \n",
       "3                                 41      Mammal   \n",
       "4                                 41      Mammal   \n",
       "\n",
       "                                        Animal_Names  \n",
       "0  aardvark, antelope, bear, boar, buffalo, calf,...  \n",
       "1  aardvark, antelope, bear, boar, buffalo, calf,...  \n",
       "2  bass, carp, catfish, chub, dogfish, haddock, h...  \n",
       "3  aardvark, antelope, bear, boar, buffalo, calf,...  \n",
       "4  aardvark, antelope, bear, boar, buffalo, calf,...  \n",
       "\n",
       "[5 rows x 29 columns]"
      ]
     },
     "execution_count": 41,
     "metadata": {},
     "output_type": "execute_result"
    }
   ],
   "source": [
    "class_dummies = pd.get_dummies(zoo_class_df.Class_Type)\n",
    "\n",
    "zoo_class_df_with_dummies = pd.concat([class_dummies, zoo_class_df], axis=1)\n",
    "\n",
    "zoo_class_df_with_dummies.head()"
   ]
  },
  {
   "cell_type": "markdown",
   "metadata": {},
   "source": [
    "#### Vamos fazer a correlação para cada classe separadamente"
   ]
  },
  {
   "cell_type": "code",
   "execution_count": 42,
   "metadata": {
    "scrolled": true
   },
   "outputs": [
    {
     "data": {
      "text/html": [
       "<div>\n",
       "<style scoped>\n",
       "    .dataframe tbody tr th:only-of-type {\n",
       "        vertical-align: middle;\n",
       "    }\n",
       "\n",
       "    .dataframe tbody tr th {\n",
       "        vertical-align: top;\n",
       "    }\n",
       "\n",
       "    .dataframe thead th {\n",
       "        text-align: right;\n",
       "    }\n",
       "</style>\n",
       "<table border=\"1\" class=\"dataframe\">\n",
       "  <thead>\n",
       "    <tr style=\"text-align: right;\">\n",
       "      <th></th>\n",
       "      <th>Amphibian</th>\n",
       "      <th>Bird</th>\n",
       "      <th>Bug</th>\n",
       "      <th>Fish</th>\n",
       "      <th>Invertebrate</th>\n",
       "      <th>Mammal</th>\n",
       "      <th>Reptile</th>\n",
       "    </tr>\n",
       "  </thead>\n",
       "  <tbody>\n",
       "    <tr>\n",
       "      <th>Amphibian</th>\n",
       "      <td>1.000000</td>\n",
       "      <td>-0.100906</td>\n",
       "      <td>-0.059559</td>\n",
       "      <td>-0.078050</td>\n",
       "      <td>-0.067317</td>\n",
       "      <td>-0.167865</td>\n",
       "      <td>-0.046344</td>\n",
       "    </tr>\n",
       "    <tr>\n",
       "      <th>Bird</th>\n",
       "      <td>-0.100906</td>\n",
       "      <td>1.000000</td>\n",
       "      <td>-0.145739</td>\n",
       "      <td>-0.190987</td>\n",
       "      <td>-0.164722</td>\n",
       "      <td>-0.410761</td>\n",
       "      <td>-0.113402</td>\n",
       "    </tr>\n",
       "    <tr>\n",
       "      <th>Bug</th>\n",
       "      <td>-0.059559</td>\n",
       "      <td>-0.145739</td>\n",
       "      <td>1.000000</td>\n",
       "      <td>-0.112729</td>\n",
       "      <td>-0.097226</td>\n",
       "      <td>-0.242449</td>\n",
       "      <td>-0.066935</td>\n",
       "    </tr>\n",
       "    <tr>\n",
       "      <th>Fish</th>\n",
       "      <td>-0.078050</td>\n",
       "      <td>-0.190987</td>\n",
       "      <td>-0.112729</td>\n",
       "      <td>1.000000</td>\n",
       "      <td>-0.127412</td>\n",
       "      <td>-0.317722</td>\n",
       "      <td>-0.087716</td>\n",
       "    </tr>\n",
       "    <tr>\n",
       "      <th>Invertebrate</th>\n",
       "      <td>-0.067317</td>\n",
       "      <td>-0.164722</td>\n",
       "      <td>-0.097226</td>\n",
       "      <td>-0.127412</td>\n",
       "      <td>1.000000</td>\n",
       "      <td>-0.274028</td>\n",
       "      <td>-0.075653</td>\n",
       "    </tr>\n",
       "    <tr>\n",
       "      <th>Mammal</th>\n",
       "      <td>-0.167865</td>\n",
       "      <td>-0.410761</td>\n",
       "      <td>-0.242449</td>\n",
       "      <td>-0.317722</td>\n",
       "      <td>-0.274028</td>\n",
       "      <td>1.000000</td>\n",
       "      <td>-0.188654</td>\n",
       "    </tr>\n",
       "    <tr>\n",
       "      <th>Reptile</th>\n",
       "      <td>-0.046344</td>\n",
       "      <td>-0.113402</td>\n",
       "      <td>-0.066935</td>\n",
       "      <td>-0.087716</td>\n",
       "      <td>-0.075653</td>\n",
       "      <td>-0.188654</td>\n",
       "      <td>1.000000</td>\n",
       "    </tr>\n",
       "    <tr>\n",
       "      <th>hair</th>\n",
       "      <td>-0.174849</td>\n",
       "      <td>-0.427851</td>\n",
       "      <td>0.044047</td>\n",
       "      <td>-0.330941</td>\n",
       "      <td>-0.285430</td>\n",
       "      <td>0.878503</td>\n",
       "      <td>-0.196503</td>\n",
       "    </tr>\n",
       "    <tr>\n",
       "      <th>feathers</th>\n",
       "      <td>-0.100906</td>\n",
       "      <td>1.000000</td>\n",
       "      <td>-0.145739</td>\n",
       "      <td>-0.190987</td>\n",
       "      <td>-0.164722</td>\n",
       "      <td>-0.410761</td>\n",
       "      <td>-0.113402</td>\n",
       "    </tr>\n",
       "    <tr>\n",
       "      <th>eggs</th>\n",
       "      <td>0.171334</td>\n",
       "      <td>0.419248</td>\n",
       "      <td>0.247458</td>\n",
       "      <td>0.324287</td>\n",
       "      <td>0.212432</td>\n",
       "      <td>-0.938848</td>\n",
       "      <td>0.099944</td>\n",
       "    </tr>\n",
       "    <tr>\n",
       "      <th>milk</th>\n",
       "      <td>-0.167865</td>\n",
       "      <td>-0.410761</td>\n",
       "      <td>-0.242449</td>\n",
       "      <td>-0.317722</td>\n",
       "      <td>-0.274028</td>\n",
       "      <td>1.000000</td>\n",
       "      <td>-0.188654</td>\n",
       "    </tr>\n",
       "    <tr>\n",
       "      <th>airborne</th>\n",
       "      <td>-0.113372</td>\n",
       "      <td>0.656553</td>\n",
       "      <td>0.353072</td>\n",
       "      <td>-0.214581</td>\n",
       "      <td>-0.185072</td>\n",
       "      <td>-0.366765</td>\n",
       "      <td>-0.127412</td>\n",
       "    </tr>\n",
       "    <tr>\n",
       "      <th>aquatic</th>\n",
       "      <td>0.272866</td>\n",
       "      <td>-0.058552</td>\n",
       "      <td>-0.218272</td>\n",
       "      <td>0.516459</td>\n",
       "      <td>0.168580</td>\n",
       "      <td>-0.362613</td>\n",
       "      <td>-0.074542</td>\n",
       "    </tr>\n",
       "    <tr>\n",
       "      <th>predator</th>\n",
       "      <td>0.079893</td>\n",
       "      <td>-0.104430</td>\n",
       "      <td>-0.253421</td>\n",
       "      <td>0.106602</td>\n",
       "      <td>0.163769</td>\n",
       "      <td>-0.029721</td>\n",
       "      <td>0.112746</td>\n",
       "    </tr>\n",
       "    <tr>\n",
       "      <th>toothed</th>\n",
       "      <td>0.164441</td>\n",
       "      <td>-0.613631</td>\n",
       "      <td>-0.362192</td>\n",
       "      <td>0.311240</td>\n",
       "      <td>-0.409368</td>\n",
       "      <td>0.628168</td>\n",
       "      <td>0.091479</td>\n",
       "    </tr>\n",
       "    <tr>\n",
       "      <th>backbone</th>\n",
       "      <td>0.094567</td>\n",
       "      <td>0.231403</td>\n",
       "      <td>-0.629805</td>\n",
       "      <td>0.178989</td>\n",
       "      <td>-0.711840</td>\n",
       "      <td>0.384958</td>\n",
       "      <td>0.106279</td>\n",
       "    </tr>\n",
       "    <tr>\n",
       "      <th>breathes</th>\n",
       "      <td>0.104042</td>\n",
       "      <td>0.254588</td>\n",
       "      <td>0.150269</td>\n",
       "      <td>-0.750180</td>\n",
       "      <td>-0.401958</td>\n",
       "      <td>0.423527</td>\n",
       "      <td>0.004454</td>\n",
       "    </tr>\n",
       "    <tr>\n",
       "      <th>venomous</th>\n",
       "      <td>0.128424</td>\n",
       "      <td>-0.145739</td>\n",
       "      <td>0.185484</td>\n",
       "      <td>-0.003252</td>\n",
       "      <td>0.148270</td>\n",
       "      <td>-0.242449</td>\n",
       "      <td>0.271087</td>\n",
       "    </tr>\n",
       "    <tr>\n",
       "      <th>fins</th>\n",
       "      <td>-0.091354</td>\n",
       "      <td>-0.223541</td>\n",
       "      <td>-0.131944</td>\n",
       "      <td>0.854369</td>\n",
       "      <td>-0.149130</td>\n",
       "      <td>-0.156328</td>\n",
       "      <td>-0.102668</td>\n",
       "    </tr>\n",
       "    <tr>\n",
       "      <th>legs</th>\n",
       "      <td>0.116265</td>\n",
       "      <td>-0.206686</td>\n",
       "      <td>0.457840</td>\n",
       "      <td>-0.539799</td>\n",
       "      <td>0.140643</td>\n",
       "      <td>0.214196</td>\n",
       "      <td>-0.140045</td>\n",
       "    </tr>\n",
       "    <tr>\n",
       "      <th>tail</th>\n",
       "      <td>-0.228781</td>\n",
       "      <td>0.292569</td>\n",
       "      <td>-0.498135</td>\n",
       "      <td>0.226301</td>\n",
       "      <td>-0.487199</td>\n",
       "      <td>0.210026</td>\n",
       "      <td>0.134371</td>\n",
       "    </tr>\n",
       "    <tr>\n",
       "      <th>domestic</th>\n",
       "      <td>-0.078050</td>\n",
       "      <td>0.031586</td>\n",
       "      <td>-0.003252</td>\n",
       "      <td>-0.059441</td>\n",
       "      <td>-0.127412</td>\n",
       "      <td>0.163928</td>\n",
       "      <td>-0.087716</td>\n",
       "    </tr>\n",
       "    <tr>\n",
       "      <th>catsize</th>\n",
       "      <td>-0.178416</td>\n",
       "      <td>-0.135934</td>\n",
       "      <td>-0.257687</td>\n",
       "      <td>-0.099182</td>\n",
       "      <td>-0.224396</td>\n",
       "      <td>0.574906</td>\n",
       "      <td>-0.108458</td>\n",
       "    </tr>\n",
       "    <tr>\n",
       "      <th>class_type</th>\n",
       "      <td>0.210450</td>\n",
       "      <td>-0.197520</td>\n",
       "      <td>0.444134</td>\n",
       "      <td>0.214621</td>\n",
       "      <td>0.660422</td>\n",
       "      <td>-0.723683</td>\n",
       "      <td>0.018359</td>\n",
       "    </tr>\n",
       "    <tr>\n",
       "      <th>Class_Number</th>\n",
       "      <td>0.210450</td>\n",
       "      <td>-0.197520</td>\n",
       "      <td>0.444134</td>\n",
       "      <td>0.214621</td>\n",
       "      <td>0.660422</td>\n",
       "      <td>-0.723683</td>\n",
       "      <td>0.018359</td>\n",
       "    </tr>\n",
       "    <tr>\n",
       "      <th>Number_Of_Animal_Species_In_Class</th>\n",
       "      <td>-0.284997</td>\n",
       "      <td>-0.147908</td>\n",
       "      <td>-0.330543</td>\n",
       "      <td>-0.300350</td>\n",
       "      <td>-0.327776</td>\n",
       "      <td>0.953684</td>\n",
       "      <td>-0.304519</td>\n",
       "    </tr>\n",
       "  </tbody>\n",
       "</table>\n",
       "</div>"
      ],
      "text/plain": [
       "                                   Amphibian      Bird       Bug      Fish  \\\n",
       "Amphibian                           1.000000 -0.100906 -0.059559 -0.078050   \n",
       "Bird                               -0.100906  1.000000 -0.145739 -0.190987   \n",
       "Bug                                -0.059559 -0.145739  1.000000 -0.112729   \n",
       "Fish                               -0.078050 -0.190987 -0.112729  1.000000   \n",
       "Invertebrate                       -0.067317 -0.164722 -0.097226 -0.127412   \n",
       "Mammal                             -0.167865 -0.410761 -0.242449 -0.317722   \n",
       "Reptile                            -0.046344 -0.113402 -0.066935 -0.087716   \n",
       "hair                               -0.174849 -0.427851  0.044047 -0.330941   \n",
       "feathers                           -0.100906  1.000000 -0.145739 -0.190987   \n",
       "eggs                                0.171334  0.419248  0.247458  0.324287   \n",
       "milk                               -0.167865 -0.410761 -0.242449 -0.317722   \n",
       "airborne                           -0.113372  0.656553  0.353072 -0.214581   \n",
       "aquatic                             0.272866 -0.058552 -0.218272  0.516459   \n",
       "predator                            0.079893 -0.104430 -0.253421  0.106602   \n",
       "toothed                             0.164441 -0.613631 -0.362192  0.311240   \n",
       "backbone                            0.094567  0.231403 -0.629805  0.178989   \n",
       "breathes                            0.104042  0.254588  0.150269 -0.750180   \n",
       "venomous                            0.128424 -0.145739  0.185484 -0.003252   \n",
       "fins                               -0.091354 -0.223541 -0.131944  0.854369   \n",
       "legs                                0.116265 -0.206686  0.457840 -0.539799   \n",
       "tail                               -0.228781  0.292569 -0.498135  0.226301   \n",
       "domestic                           -0.078050  0.031586 -0.003252 -0.059441   \n",
       "catsize                            -0.178416 -0.135934 -0.257687 -0.099182   \n",
       "class_type                          0.210450 -0.197520  0.444134  0.214621   \n",
       "Class_Number                        0.210450 -0.197520  0.444134  0.214621   \n",
       "Number_Of_Animal_Species_In_Class  -0.284997 -0.147908 -0.330543 -0.300350   \n",
       "\n",
       "                                   Invertebrate    Mammal   Reptile  \n",
       "Amphibian                             -0.067317 -0.167865 -0.046344  \n",
       "Bird                                  -0.164722 -0.410761 -0.113402  \n",
       "Bug                                   -0.097226 -0.242449 -0.066935  \n",
       "Fish                                  -0.127412 -0.317722 -0.087716  \n",
       "Invertebrate                           1.000000 -0.274028 -0.075653  \n",
       "Mammal                                -0.274028  1.000000 -0.188654  \n",
       "Reptile                               -0.075653 -0.188654  1.000000  \n",
       "hair                                  -0.285430  0.878503 -0.196503  \n",
       "feathers                              -0.164722 -0.410761 -0.113402  \n",
       "eggs                                   0.212432 -0.938848  0.099944  \n",
       "milk                                  -0.274028  1.000000 -0.188654  \n",
       "airborne                              -0.185072 -0.366765 -0.127412  \n",
       "aquatic                                0.168580 -0.362613 -0.074542  \n",
       "predator                               0.163769 -0.029721  0.112746  \n",
       "toothed                               -0.409368  0.628168  0.091479  \n",
       "backbone                              -0.711840  0.384958  0.106279  \n",
       "breathes                              -0.401958  0.423527  0.004454  \n",
       "venomous                               0.148270 -0.242449  0.271087  \n",
       "fins                                  -0.149130 -0.156328 -0.102668  \n",
       "legs                                   0.140643  0.214196 -0.140045  \n",
       "tail                                  -0.487199  0.210026  0.134371  \n",
       "domestic                              -0.127412  0.163928 -0.087716  \n",
       "catsize                               -0.224396  0.574906 -0.108458  \n",
       "class_type                             0.660422 -0.723683  0.018359  \n",
       "Class_Number                           0.660422 -0.723683  0.018359  \n",
       "Number_Of_Animal_Species_In_Class     -0.327776  0.953684 -0.304519  "
      ]
     },
     "execution_count": 42,
     "metadata": {},
     "output_type": "execute_result"
    }
   ],
   "source": [
    "correlation_class = (zoo_class_df_with_dummies.corr()[class_dummies.columns])\n",
    "correlation_class"
   ]
  },
  {
   "cell_type": "code",
   "execution_count": 43,
   "metadata": {
    "scrolled": true
   },
   "outputs": [
    {
     "data": {
      "text/html": [
       "<div>\n",
       "<style scoped>\n",
       "    .dataframe tbody tr th:only-of-type {\n",
       "        vertical-align: middle;\n",
       "    }\n",
       "\n",
       "    .dataframe tbody tr th {\n",
       "        vertical-align: top;\n",
       "    }\n",
       "\n",
       "    .dataframe thead th {\n",
       "        text-align: right;\n",
       "    }\n",
       "</style>\n",
       "<table border=\"1\" class=\"dataframe\">\n",
       "  <thead>\n",
       "    <tr style=\"text-align: right;\">\n",
       "      <th></th>\n",
       "      <th>Amphibian</th>\n",
       "      <th>Bird</th>\n",
       "      <th>Bug</th>\n",
       "      <th>Fish</th>\n",
       "      <th>Invertebrate</th>\n",
       "      <th>Mammal</th>\n",
       "      <th>Reptile</th>\n",
       "    </tr>\n",
       "  </thead>\n",
       "  <tbody>\n",
       "    <tr>\n",
       "      <th>Amphibian</th>\n",
       "      <td>1.0</td>\n",
       "      <td>NaN</td>\n",
       "      <td>NaN</td>\n",
       "      <td>NaN</td>\n",
       "      <td>NaN</td>\n",
       "      <td>NaN</td>\n",
       "      <td>NaN</td>\n",
       "    </tr>\n",
       "    <tr>\n",
       "      <th>Bird</th>\n",
       "      <td>NaN</td>\n",
       "      <td>1.000000</td>\n",
       "      <td>NaN</td>\n",
       "      <td>NaN</td>\n",
       "      <td>NaN</td>\n",
       "      <td>NaN</td>\n",
       "      <td>NaN</td>\n",
       "    </tr>\n",
       "    <tr>\n",
       "      <th>Bug</th>\n",
       "      <td>NaN</td>\n",
       "      <td>NaN</td>\n",
       "      <td>1.000000</td>\n",
       "      <td>NaN</td>\n",
       "      <td>NaN</td>\n",
       "      <td>NaN</td>\n",
       "      <td>NaN</td>\n",
       "    </tr>\n",
       "    <tr>\n",
       "      <th>Fish</th>\n",
       "      <td>NaN</td>\n",
       "      <td>NaN</td>\n",
       "      <td>NaN</td>\n",
       "      <td>1.000000</td>\n",
       "      <td>NaN</td>\n",
       "      <td>NaN</td>\n",
       "      <td>NaN</td>\n",
       "    </tr>\n",
       "    <tr>\n",
       "      <th>Invertebrate</th>\n",
       "      <td>NaN</td>\n",
       "      <td>NaN</td>\n",
       "      <td>NaN</td>\n",
       "      <td>NaN</td>\n",
       "      <td>1.000000</td>\n",
       "      <td>NaN</td>\n",
       "      <td>NaN</td>\n",
       "    </tr>\n",
       "    <tr>\n",
       "      <th>Mammal</th>\n",
       "      <td>NaN</td>\n",
       "      <td>NaN</td>\n",
       "      <td>NaN</td>\n",
       "      <td>NaN</td>\n",
       "      <td>NaN</td>\n",
       "      <td>1.000000</td>\n",
       "      <td>NaN</td>\n",
       "    </tr>\n",
       "    <tr>\n",
       "      <th>Reptile</th>\n",
       "      <td>NaN</td>\n",
       "      <td>NaN</td>\n",
       "      <td>NaN</td>\n",
       "      <td>NaN</td>\n",
       "      <td>NaN</td>\n",
       "      <td>NaN</td>\n",
       "      <td>1.0</td>\n",
       "    </tr>\n",
       "    <tr>\n",
       "      <th>hair</th>\n",
       "      <td>NaN</td>\n",
       "      <td>NaN</td>\n",
       "      <td>NaN</td>\n",
       "      <td>NaN</td>\n",
       "      <td>NaN</td>\n",
       "      <td>0.878503</td>\n",
       "      <td>NaN</td>\n",
       "    </tr>\n",
       "    <tr>\n",
       "      <th>feathers</th>\n",
       "      <td>NaN</td>\n",
       "      <td>1.000000</td>\n",
       "      <td>NaN</td>\n",
       "      <td>NaN</td>\n",
       "      <td>NaN</td>\n",
       "      <td>NaN</td>\n",
       "      <td>NaN</td>\n",
       "    </tr>\n",
       "    <tr>\n",
       "      <th>eggs</th>\n",
       "      <td>NaN</td>\n",
       "      <td>NaN</td>\n",
       "      <td>NaN</td>\n",
       "      <td>NaN</td>\n",
       "      <td>NaN</td>\n",
       "      <td>-0.938848</td>\n",
       "      <td>NaN</td>\n",
       "    </tr>\n",
       "    <tr>\n",
       "      <th>milk</th>\n",
       "      <td>NaN</td>\n",
       "      <td>NaN</td>\n",
       "      <td>NaN</td>\n",
       "      <td>NaN</td>\n",
       "      <td>NaN</td>\n",
       "      <td>1.000000</td>\n",
       "      <td>NaN</td>\n",
       "    </tr>\n",
       "    <tr>\n",
       "      <th>airborne</th>\n",
       "      <td>NaN</td>\n",
       "      <td>0.656553</td>\n",
       "      <td>NaN</td>\n",
       "      <td>NaN</td>\n",
       "      <td>NaN</td>\n",
       "      <td>NaN</td>\n",
       "      <td>NaN</td>\n",
       "    </tr>\n",
       "    <tr>\n",
       "      <th>aquatic</th>\n",
       "      <td>NaN</td>\n",
       "      <td>NaN</td>\n",
       "      <td>NaN</td>\n",
       "      <td>0.516459</td>\n",
       "      <td>NaN</td>\n",
       "      <td>NaN</td>\n",
       "      <td>NaN</td>\n",
       "    </tr>\n",
       "    <tr>\n",
       "      <th>predator</th>\n",
       "      <td>NaN</td>\n",
       "      <td>NaN</td>\n",
       "      <td>NaN</td>\n",
       "      <td>NaN</td>\n",
       "      <td>NaN</td>\n",
       "      <td>NaN</td>\n",
       "      <td>NaN</td>\n",
       "    </tr>\n",
       "    <tr>\n",
       "      <th>toothed</th>\n",
       "      <td>NaN</td>\n",
       "      <td>-0.613631</td>\n",
       "      <td>NaN</td>\n",
       "      <td>NaN</td>\n",
       "      <td>NaN</td>\n",
       "      <td>0.628168</td>\n",
       "      <td>NaN</td>\n",
       "    </tr>\n",
       "    <tr>\n",
       "      <th>backbone</th>\n",
       "      <td>NaN</td>\n",
       "      <td>NaN</td>\n",
       "      <td>-0.629805</td>\n",
       "      <td>NaN</td>\n",
       "      <td>-0.711840</td>\n",
       "      <td>NaN</td>\n",
       "      <td>NaN</td>\n",
       "    </tr>\n",
       "    <tr>\n",
       "      <th>breathes</th>\n",
       "      <td>NaN</td>\n",
       "      <td>NaN</td>\n",
       "      <td>NaN</td>\n",
       "      <td>-0.750180</td>\n",
       "      <td>NaN</td>\n",
       "      <td>NaN</td>\n",
       "      <td>NaN</td>\n",
       "    </tr>\n",
       "    <tr>\n",
       "      <th>venomous</th>\n",
       "      <td>NaN</td>\n",
       "      <td>NaN</td>\n",
       "      <td>NaN</td>\n",
       "      <td>NaN</td>\n",
       "      <td>NaN</td>\n",
       "      <td>NaN</td>\n",
       "      <td>NaN</td>\n",
       "    </tr>\n",
       "    <tr>\n",
       "      <th>fins</th>\n",
       "      <td>NaN</td>\n",
       "      <td>NaN</td>\n",
       "      <td>NaN</td>\n",
       "      <td>0.854369</td>\n",
       "      <td>NaN</td>\n",
       "      <td>NaN</td>\n",
       "      <td>NaN</td>\n",
       "    </tr>\n",
       "    <tr>\n",
       "      <th>legs</th>\n",
       "      <td>NaN</td>\n",
       "      <td>NaN</td>\n",
       "      <td>NaN</td>\n",
       "      <td>-0.539799</td>\n",
       "      <td>NaN</td>\n",
       "      <td>NaN</td>\n",
       "      <td>NaN</td>\n",
       "    </tr>\n",
       "    <tr>\n",
       "      <th>tail</th>\n",
       "      <td>NaN</td>\n",
       "      <td>NaN</td>\n",
       "      <td>NaN</td>\n",
       "      <td>NaN</td>\n",
       "      <td>NaN</td>\n",
       "      <td>NaN</td>\n",
       "      <td>NaN</td>\n",
       "    </tr>\n",
       "    <tr>\n",
       "      <th>domestic</th>\n",
       "      <td>NaN</td>\n",
       "      <td>NaN</td>\n",
       "      <td>NaN</td>\n",
       "      <td>NaN</td>\n",
       "      <td>NaN</td>\n",
       "      <td>NaN</td>\n",
       "      <td>NaN</td>\n",
       "    </tr>\n",
       "    <tr>\n",
       "      <th>catsize</th>\n",
       "      <td>NaN</td>\n",
       "      <td>NaN</td>\n",
       "      <td>NaN</td>\n",
       "      <td>NaN</td>\n",
       "      <td>NaN</td>\n",
       "      <td>0.574906</td>\n",
       "      <td>NaN</td>\n",
       "    </tr>\n",
       "    <tr>\n",
       "      <th>class_type</th>\n",
       "      <td>NaN</td>\n",
       "      <td>NaN</td>\n",
       "      <td>NaN</td>\n",
       "      <td>NaN</td>\n",
       "      <td>0.660422</td>\n",
       "      <td>-0.723683</td>\n",
       "      <td>NaN</td>\n",
       "    </tr>\n",
       "    <tr>\n",
       "      <th>Class_Number</th>\n",
       "      <td>NaN</td>\n",
       "      <td>NaN</td>\n",
       "      <td>NaN</td>\n",
       "      <td>NaN</td>\n",
       "      <td>0.660422</td>\n",
       "      <td>-0.723683</td>\n",
       "      <td>NaN</td>\n",
       "    </tr>\n",
       "    <tr>\n",
       "      <th>Number_Of_Animal_Species_In_Class</th>\n",
       "      <td>NaN</td>\n",
       "      <td>NaN</td>\n",
       "      <td>NaN</td>\n",
       "      <td>NaN</td>\n",
       "      <td>NaN</td>\n",
       "      <td>0.953684</td>\n",
       "      <td>NaN</td>\n",
       "    </tr>\n",
       "  </tbody>\n",
       "</table>\n",
       "</div>"
      ],
      "text/plain": [
       "                                   Amphibian      Bird       Bug      Fish  \\\n",
       "Amphibian                                1.0       NaN       NaN       NaN   \n",
       "Bird                                     NaN  1.000000       NaN       NaN   \n",
       "Bug                                      NaN       NaN  1.000000       NaN   \n",
       "Fish                                     NaN       NaN       NaN  1.000000   \n",
       "Invertebrate                             NaN       NaN       NaN       NaN   \n",
       "Mammal                                   NaN       NaN       NaN       NaN   \n",
       "Reptile                                  NaN       NaN       NaN       NaN   \n",
       "hair                                     NaN       NaN       NaN       NaN   \n",
       "feathers                                 NaN  1.000000       NaN       NaN   \n",
       "eggs                                     NaN       NaN       NaN       NaN   \n",
       "milk                                     NaN       NaN       NaN       NaN   \n",
       "airborne                                 NaN  0.656553       NaN       NaN   \n",
       "aquatic                                  NaN       NaN       NaN  0.516459   \n",
       "predator                                 NaN       NaN       NaN       NaN   \n",
       "toothed                                  NaN -0.613631       NaN       NaN   \n",
       "backbone                                 NaN       NaN -0.629805       NaN   \n",
       "breathes                                 NaN       NaN       NaN -0.750180   \n",
       "venomous                                 NaN       NaN       NaN       NaN   \n",
       "fins                                     NaN       NaN       NaN  0.854369   \n",
       "legs                                     NaN       NaN       NaN -0.539799   \n",
       "tail                                     NaN       NaN       NaN       NaN   \n",
       "domestic                                 NaN       NaN       NaN       NaN   \n",
       "catsize                                  NaN       NaN       NaN       NaN   \n",
       "class_type                               NaN       NaN       NaN       NaN   \n",
       "Class_Number                             NaN       NaN       NaN       NaN   \n",
       "Number_Of_Animal_Species_In_Class        NaN       NaN       NaN       NaN   \n",
       "\n",
       "                                   Invertebrate    Mammal  Reptile  \n",
       "Amphibian                                   NaN       NaN      NaN  \n",
       "Bird                                        NaN       NaN      NaN  \n",
       "Bug                                         NaN       NaN      NaN  \n",
       "Fish                                        NaN       NaN      NaN  \n",
       "Invertebrate                           1.000000       NaN      NaN  \n",
       "Mammal                                      NaN  1.000000      NaN  \n",
       "Reptile                                     NaN       NaN      1.0  \n",
       "hair                                        NaN  0.878503      NaN  \n",
       "feathers                                    NaN       NaN      NaN  \n",
       "eggs                                        NaN -0.938848      NaN  \n",
       "milk                                        NaN  1.000000      NaN  \n",
       "airborne                                    NaN       NaN      NaN  \n",
       "aquatic                                     NaN       NaN      NaN  \n",
       "predator                                    NaN       NaN      NaN  \n",
       "toothed                                     NaN  0.628168      NaN  \n",
       "backbone                              -0.711840       NaN      NaN  \n",
       "breathes                                    NaN       NaN      NaN  \n",
       "venomous                                    NaN       NaN      NaN  \n",
       "fins                                        NaN       NaN      NaN  \n",
       "legs                                        NaN       NaN      NaN  \n",
       "tail                                        NaN       NaN      NaN  \n",
       "domestic                                    NaN       NaN      NaN  \n",
       "catsize                                     NaN  0.574906      NaN  \n",
       "class_type                             0.660422 -0.723683      NaN  \n",
       "Class_Number                           0.660422 -0.723683      NaN  \n",
       "Number_Of_Animal_Species_In_Class           NaN  0.953684      NaN  "
      ]
     },
     "execution_count": 43,
     "metadata": {},
     "output_type": "execute_result"
    }
   ],
   "source": [
    "filter_correlatade = (abs(correlation_class)>0.5)\n",
    "correlation_class[filter_correlatade]"
   ]
  },
  {
   "cell_type": "code",
   "execution_count": 45,
   "metadata": {
    "scrolled": true
   },
   "outputs": [
    {
     "data": {
      "text/plain": [
       "Amphibian                          Amphibian       1.000000\n",
       "Bird                               Bird            1.000000\n",
       "Bug                                Bug             1.000000\n",
       "Fish                               Fish            1.000000\n",
       "Invertebrate                       Invertebrate    1.000000\n",
       "Mammal                             Mammal          1.000000\n",
       "Reptile                            Reptile         1.000000\n",
       "hair                               Mammal          0.878503\n",
       "feathers                           Bird            1.000000\n",
       "eggs                               Mammal         -0.938848\n",
       "milk                               Mammal          1.000000\n",
       "airborne                           Bird            0.656553\n",
       "aquatic                            Fish            0.516459\n",
       "toothed                            Bird           -0.613631\n",
       "                                   Mammal          0.628168\n",
       "backbone                           Bug            -0.629805\n",
       "                                   Invertebrate   -0.711840\n",
       "breathes                           Fish           -0.750180\n",
       "fins                               Fish            0.854369\n",
       "legs                               Fish           -0.539799\n",
       "catsize                            Mammal          0.574906\n",
       "class_type                         Invertebrate    0.660422\n",
       "                                   Mammal         -0.723683\n",
       "Class_Number                       Invertebrate    0.660422\n",
       "                                   Mammal         -0.723683\n",
       "Number_Of_Animal_Species_In_Class  Mammal          0.953684\n",
       "dtype: float64"
      ]
     },
     "execution_count": 45,
     "metadata": {},
     "output_type": "execute_result"
    }
   ],
   "source": [
    "correlation_class[filter_correlatade].stack()"
   ]
  },
  {
   "cell_type": "markdown",
   "metadata": {},
   "source": [
    "## Falando agora de método de seleção automática de features"
   ]
  },
  {
   "cell_type": "code",
   "execution_count": 46,
   "metadata": {},
   "outputs": [
    {
     "data": {
      "text/plain": [
       "[<matplotlib.lines.Line2D at 0x7f0deb256940>]"
      ]
     },
     "execution_count": 46,
     "metadata": {},
     "output_type": "execute_result"
    },
    {
     "data": {
      "image/png": "[encoded data removed]",
      "text/plain": [
       "<Figure size 432x288 with 1 Axes>"
      ]
     },
     "metadata": {
      "needs_background": "light"
     },
     "output_type": "display_data"
    }
   ],
   "source": [
    "%matplotlib inline\n",
    "import matplotlib.pyplot as plt\n",
    "from sklearn.feature_selection import RFECV\n",
    "from sklearn.ensemble import RandomForestClassifier\n",
    "\n",
    "features_names = ['hair', 'feathers', 'eggs', 'milk', 'airborne',\n",
    "       'aquatic', 'predator', 'toothed', 'backbone', 'breathes', 'venomous',\n",
    "       'fins', 'legs', 'tail', 'domestic', 'catsize']\n",
    "\n",
    "X = zoo_class_df[features_names]\n",
    "y = zoo_class_df['Class_Type']\n",
    "\n",
    "X_train, X_test, y_train, y_test = train_test_split(X,y, train_size=0.7, test_size=0.3, random_state=42)\n",
    "\n",
    "rf = RandomForestClassifier(n_estimators = 100, random_state=42)\n",
    "\n",
    "rfecv = RFECV(estimator = rf, step = 1, cv = 2, scoring = 'accuracy')\n",
    "rfecv.fit(X_train, y_train)\n",
    "\n",
    "plt.figure()\n",
    "plt.xlabel(\"Number of features selected\")\n",
    "plt.ylabel(\"Cross validation score (nb of correct classifications)\")\n",
    "plt.plot(range(1, len(rfecv.grid_scores_) + 1), rfecv.grid_scores_)"
   ]
  },
  {
   "cell_type": "code",
   "execution_count": 47,
   "metadata": {},
   "outputs": [
    {
     "data": {
      "text/plain": [
       "array([0.09862617, 0.14490939, 0.11826339, 0.12351468, 0.03315119,\n",
       "       0.04860346, 0.08582568, 0.05145752, 0.09184516, 0.06572127,\n",
       "       0.08449957, 0.05358252])"
      ]
     },
     "execution_count": 47,
     "metadata": {},
     "output_type": "execute_result"
    }
   ],
   "source": [
    "rfecv.estimator_.feature_importances_"
   ]
  },
  {
   "cell_type": "code",
   "execution_count": 49,
   "metadata": {},
   "outputs": [
    {
     "data": {
      "text/plain": [
       "0.9354838709677419"
      ]
     },
     "execution_count": 49,
     "metadata": {},
     "output_type": "execute_result"
    }
   ],
   "source": [
    "rfecv.score(X_test, y_test)"
   ]
  },
  {
   "cell_type": "markdown",
   "metadata": {},
   "source": [
    "### Mudando o Algoritmo e o método de seleção conseguimos resultados bem melhores! No caso, nosso algoritmo era o KNN, instance based e mudamos para o Random Forest que é model based"
   ]
  },
  {
   "cell_type": "markdown",
   "metadata": {},
   "source": [
    "### Instance Based ou Memory Based\n",
    "O algoritmo utiliza sempre o valor das outras instâncias para predizer uma nova instância. O treino é bem rápido mas a predição de novas instâncias costuma ser sempre mais custosa\n",
    "### Model Based \n"
   ]
  },
  {
   "cell_type": "markdown",
   "metadata": {},
   "source": [
    "## Otimização de Hiperparâmetros do modelo\n",
    "### Mas qual a diferença entre hiperparâmetros e pesos?"
   ]
  },
  {
   "cell_type": "code",
   "execution_count": 50,
   "metadata": {},
   "outputs": [
    {
     "data": {
      "text/plain": [
       "{'bootstrap': True,\n",
       " 'class_weight': None,\n",
       " 'criterion': 'gini',\n",
       " 'max_depth': None,\n",
       " 'max_features': 'auto',\n",
       " 'max_leaf_nodes': None,\n",
       " 'min_impurity_decrease': 0.0,\n",
       " 'min_impurity_split': None,\n",
       " 'min_samples_leaf': 1,\n",
       " 'min_samples_split': 2,\n",
       " 'min_weight_fraction_leaf': 0.0,\n",
       " 'n_estimators': 100,\n",
       " 'n_jobs': None,\n",
       " 'oob_score': False,\n",
       " 'random_state': 42,\n",
       " 'verbose': 0,\n",
       " 'warm_start': False}"
      ]
     },
     "execution_count": 50,
     "metadata": {},
     "output_type": "execute_result"
    }
   ],
   "source": [
    "rf = rfecv.estimator\n",
    "rf.get_params()"
   ]
  },
  {
   "cell_type": "markdown",
   "metadata": {},
   "source": [
    "#### Parâmetros do KNN que usamos anteriormente"
   ]
  },
  {
   "cell_type": "code",
   "execution_count": 51,
   "metadata": {},
   "outputs": [
    {
     "data": {
      "text/plain": [
       "{'algorithm': 'auto',\n",
       " 'leaf_size': 30,\n",
       " 'metric': 'minkowski',\n",
       " 'metric_params': None,\n",
       " 'n_jobs': None,\n",
       " 'n_neighbors': 5,\n",
       " 'p': 2,\n",
       " 'weights': 'uniform'}"
      ]
     },
     "execution_count": 51,
     "metadata": {},
     "output_type": "execute_result"
    }
   ],
   "source": [
    "neigh.get_params()"
   ]
  },
  {
   "cell_type": "markdown",
   "metadata": {},
   "source": [
    "## Grid Search\n",
    "Lembram quando vocês fizeram teste para vários valores de K no KNN para descorbir o melhor?"
   ]
  },
  {
   "cell_type": "code",
   "execution_count": 52,
   "metadata": {},
   "outputs": [],
   "source": [
    "from sklearn.model_selection import GridSearchCV"
   ]
  },
  {
   "cell_type": "code",
   "execution_count": 54,
   "metadata": {},
   "outputs": [],
   "source": [
    "features_names = ['hair', 'feathers', 'eggs', 'milk',\n",
    "       'aquatic', 'toothed', 'breathes', \n",
    "       'fins', 'tail']\n",
    "\n",
    "X = zoo_class_df[features_names]\n",
    "y = zoo_class_df['Class_Type']\n",
    "\n",
    "X_train, X_test, y_train, y_test = train_test_split(X,y, train_size=0.7, test_size=0.3, random_state=42)"
   ]
  },
  {
   "cell_type": "code",
   "execution_count": 55,
   "metadata": {},
   "outputs": [],
   "source": [
    "neigh = KNeighborsClassifier()\n",
    "\n",
    "parameters = {\n",
    "    'n_neighbors': [1,2,3,4,5,6,7,8,9,10],\n",
    "    'weights': ['uniform', 'distance'],\n",
    "    'p': [1,2]\n",
    "}\n",
    "\n",
    "grid = GridSearchCV(neigh, parameters, cv=3)"
   ]
  },
  {
   "cell_type": "code",
   "execution_count": 56,
   "metadata": {},
   "outputs": [
    {
     "name": "stderr",
     "output_type": "stream",
     "text": [
      "/usr/local/lib/python3.6/dist-packages/sklearn/model_selection/_split.py:652: Warning: The least populated class in y has only 2 members, which is too few. The minimum number of members in any class cannot be less than n_splits=3.\n",
      "  % (min_groups, self.n_splits)), Warning)\n"
     ]
    }
   ],
   "source": [
    "grid_fitted = grid.fit(X_train, y_train)"
   ]
  },
  {
   "cell_type": "code",
   "execution_count": 61,
   "metadata": {},
   "outputs": [
    {
     "data": {
      "text/plain": [
       "{'n_neighbors': 2, 'p': 1, 'weights': 'uniform'}"
      ]
     },
     "execution_count": 61,
     "metadata": {},
     "output_type": "execute_result"
    }
   ],
   "source": [
    "grid_fitted.best_params_"
   ]
  },
  {
   "cell_type": "code",
   "execution_count": 62,
   "metadata": {},
   "outputs": [
    {
     "data": {
      "text/plain": [
       "0.9354838709677419"
      ]
     },
     "execution_count": 62,
     "metadata": {},
     "output_type": "execute_result"
    }
   ],
   "source": [
    "neigh = KNeighborsClassifier(n_neighbors=2, p=1, weights='uniform')\n",
    "neigh.fit(X_train,y_train)\n",
    "\n",
    "neigh.score(X_test, y_test)"
   ]
  },
  {
   "cell_type": "markdown",
   "metadata": {},
   "source": [
    "## RF"
   ]
  },
  {
   "cell_type": "code",
   "execution_count": null,
   "metadata": {},
   "outputs": [],
   "source": [
    "features_names = ['hair', 'feathers', 'eggs', 'milk',\n",
    "       'aquatic', 'toothed', 'breathes', \n",
    "       'fins', 'tail']\n",
    "\n",
    "X = zoo_class_df[features_names]\n",
    "y = zoo_class_df['Class_Type']\n",
    "\n",
    "X_train, X_test, y_train, y_test = train_test_split(X,y, train_size=0.7, test_size=0.3, random_state=42)"
   ]
  },
  {
   "cell_type": "code",
   "execution_count": 75,
   "metadata": {},
   "outputs": [],
   "source": [
    "rf = RandomForestClassifier()\n",
    "\n",
    "parameters = {\n",
    "    'criterion': ['entropy','gini'],\n",
    "    'n_estimators': [10,50,100,200,500],\n",
    "    'max_features': ['auto', 'sqrt'],\n",
    "    'max_depth': [int(x) for x in np.linspace(10, 110, num = 11)] + [None],\n",
    "    'min_samples_split': [2, 5, 10],\n",
    "    'min_samples_leaf': [1, 2, 4],\n",
    "    'bootstrap': [True, False],\n",
    "    'random_state': [10]\n",
    "}\n",
    "\n",
    "grid = GridSearchCV(rf, parameters, cv=3)"
   ]
  },
  {
   "cell_type": "code",
   "execution_count": 76,
   "metadata": {},
   "outputs": [
    {
     "name": "stderr",
     "output_type": "stream",
     "text": [
      "/usr/local/lib/python3.6/dist-packages/sklearn/model_selection/_split.py:652: Warning: The least populated class in y has only 2 members, which is too few. The minimum number of members in any class cannot be less than n_splits=3.\n",
      "  % (min_groups, self.n_splits)), Warning)\n"
     ]
    },
    {
     "data": {
      "text/plain": [
       "{'bootstrap': True,\n",
       " 'criterion': 'gini',\n",
       " 'max_depth': 10,\n",
       " 'max_features': 'auto',\n",
       " 'min_samples_leaf': 1,\n",
       " 'min_samples_split': 2,\n",
       " 'n_estimators': 50,\n",
       " 'random_state': 10}"
      ]
     },
     "execution_count": 76,
     "metadata": {},
     "output_type": "execute_result"
    }
   ],
   "source": [
    "grid_fitted = grid.fit(X_train, y_train)\n",
    "grid_fitted.best_params_"
   ]
  },
  {
   "cell_type": "code",
   "execution_count": 77,
   "metadata": {},
   "outputs": [
    {
     "data": {
      "text/plain": [
       "0.9354838709677419"
      ]
     },
     "execution_count": 77,
     "metadata": {},
     "output_type": "execute_result"
    }
   ],
   "source": [
    "rf = RandomForestClassifier(bootstrap=True, criterion='gini', max_depth=10, n_estimators=50,\n",
    "                           max_features='auto', min_samples_leaf=1, min_samples_split=2, random_state=10)\n",
    "rf.fit(X_train,y_train)\n",
    "\n",
    "rf.score(X_test, y_test)"
   ]
  },
  {
   "cell_type": "markdown",
   "metadata": {},
   "source": [
    "# AutoML\n",
    "Como temos todos esse passos bem estruturados, já existem propostas para encontrar o melhor algoritmo, com melhores pesos, com os melhores hiperparâmetros e as melhores features para seus dados de forma simple"
   ]
  },
  {
   "cell_type": "markdown",
   "metadata": {},
   "source": [
    "## Auto Sklearn\n",
    "Utiliza Meta Learning e algoritmos bem legais para otimizar features. Ele também consegue construir Ensembles de modelos, mas ainda é muito recente e complicado de instalar"
   ]
  },
  {
   "cell_type": "markdown",
   "metadata": {},
   "source": [
    "### Meta Learning\n",
    "É a aprendizagem através de Meta Features para ter uma ideia de como funciona o seu dataset e qual pode ser o melhor algoritmo a ser usado.\n",
    "<br>\n",
    "<br>\n",
    "Para conseguir essas Meta Features são utilizados:\n",
    "- algoritmos rápidos\n",
    "- dados exploratórios como: desvio padrão da amostra, número de features, quantidade de instâncias, etc"
   ]
  },
  {
   "cell_type": "markdown",
   "metadata": {},
   "source": [
    "Essas Meta Features são salvas e classificadas com outras bases de um banco de dados para saber quais algoritmos podem performar melhor contra esse dataset\n",
    "\n",
    "### Ensembles\n",
    "São conjuntos de modelos que podem ser aplicados em um dataset e o resultado usado pode ser de qualquer um dos modelos ou de somente um deles.\n",
    "<br>\n",
    "<br>\n",
    "Ex: Temos 3 modelos de classificação, 2 predizeram a classe A e 1 predizeu a classe B para uma instância"
   ]
  }
 ],
 "metadata": {
  "kernelspec": {
   "display_name": "Python 3",
   "language": "python",
   "name": "python3"
  },
  "language_info": {
   "codemirror_mode": {
    "name": "ipython",
    "version": 3
   },
   "file_extension": ".py",
   "mimetype": "text/x-python",
   "name": "python",
   "nbconvert_exporter": "python",
   "pygments_lexer": "ipython3",
   "version": "3.6.6"
  }
 },
 "nbformat": 4,
 "nbformat_minor": 2
}
