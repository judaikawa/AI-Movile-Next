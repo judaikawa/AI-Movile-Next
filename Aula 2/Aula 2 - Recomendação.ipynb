{
 "cells": [
  {
   "cell_type": "markdown",
   "metadata": {},
   "source": [
    "# Recomendação\n",
    "### Como saber o mais interessante para um usuário?\n",
    "#### Para recomendar um conteúdo você precisa conhecer sobre aquele conteúdo e sobre o usuário que quer impressionar. Nada melhor que encarar ambos como vetores e comparar distâncias!"
   ]
  },
  {
   "cell_type": "code",
   "execution_count": 1,
   "metadata": {},
   "outputs": [],
   "source": [
    "import pandas as pd\n",
    "from matplotlib import pyplot as plt\n",
    "import requests"
   ]
  },
  {
   "cell_type": "markdown",
   "metadata": {},
   "source": [
    "# Distância e similaridade de dados\n",
    "O que é distância? (Já vimos distância da aula anterior, para o algoritmo KNN) \n",
    "<br>\n",
    "Uma medida de distância entre dois pontos de dimensão n (dados com n colunas; vetor com n posições), é uma função"
   ]
  },
  {
   "cell_type": "markdown",
   "metadata": {},
   "source": [
    "### Distância Euclidiana"
   ]
  },
  {
   "cell_type": "code",
   "execution_count": 2,
   "metadata": {},
   "outputs": [],
   "source": [
    "def euclidean(a,b):\n",
    "    s = 0\n",
    "    n = len(a)\n",
    "    for i in range(n):\n",
    "        s = s + (a[i] - b[i])**2\n",
    "        # elevar a 0.5 e igual a fazer a raiz quadrada\n",
    "    return s**0.5"
   ]
  },
  {
   "cell_type": "markdown",
   "metadata": {},
   "source": [
    "### Distância de Manhattan\n",
    "Diferente da distância euclidiana, a distância de Manhattan não mede como distância a reta que liga os pontos.\n",
    "- Sempre maior que a euclidiana"
   ]
  },
  {
   "cell_type": "code",
   "execution_count": 3,
   "metadata": {},
   "outputs": [],
   "source": [
    "def manhattan(a,b):\n",
    "    s = 0\n",
    "    n = len(a)\n",
    "    for i in range(n):\n",
    "        s = s + abs(a[i]-b[i])\n",
    "    return s"
   ]
  },
  {
   "cell_type": "markdown",
   "metadata": {},
   "source": [
    "### Distância/Similaridade de cosseno\n",
    "Cada linha do dataset é um vetor.\n",
    "Um vetor é um artefato matemático com sentido, direção e magnitude.\n",
    "- Similaridade de cosseno: cos(a)\n",
    "- Distância de cosseno: 1 - | cos(a) |"
   ]
  },
  {
   "cell_type": "code",
   "execution_count": 4,
   "metadata": {},
   "outputs": [],
   "source": [
    "def cosine(a,b):\n",
    "    mod_a = 0\n",
    "    mod_b = 0\n",
    "    a_dot_b = 0\n",
    "    \n",
    "    n = len(a)\n",
    "    for i in range(n):\n",
    "        mod_a += + a[i]**2\n",
    "        mod_b += + b[i]**2\n",
    "        \n",
    "        a_dot_b += a[i]*b[i]\n",
    "      \n",
    "    mod_a = mod_a**0.5\n",
    "    mod_b = mod_b**0.5\n",
    "\n",
    "    return abs(a_dot_b/(mod_a*mod_b))"
   ]
  },
  {
   "cell_type": "markdown",
   "metadata": {},
   "source": [
    "# Recomendação baseada em conteúdo\n",
    "Existem duas abordagens comuns para recomendar conteúdo:\n",
    "- Baseada em conteúdo (**Content-Based**): Recomendação baseada em atributos do conteúdo\n",
    "- Baseada no usuário (**User-Based**): Recomendação baseada em informações do usuário e seu consumo\n",
    "<br>\n",
    "<br>\n",
    "Como nosso dataset é de artigos, podemos produzir um sistema de recomendação baseado na similaridade dos conteúdos"
   ]
  },
  {
   "cell_type": "markdown",
   "metadata": {},
   "source": [
    "### Preparando os dados"
   ]
  },
  {
   "cell_type": "code",
   "execution_count": 43,
   "metadata": {},
   "outputs": [
    {
     "data": {
      "text/html": [
       "<div>\n",
       "<style scoped>\n",
       "    .dataframe tbody tr th:only-of-type {\n",
       "        vertical-align: middle;\n",
       "    }\n",
       "\n",
       "    .dataframe tbody tr th {\n",
       "        vertical-align: top;\n",
       "    }\n",
       "\n",
       "    .dataframe thead th {\n",
       "        text-align: right;\n",
       "    }\n",
       "</style>\n",
       "<table border=\"1\" class=\"dataframe\">\n",
       "  <thead>\n",
       "    <tr style=\"text-align: right;\">\n",
       "      <th></th>\n",
       "      <th>title</th>\n",
       "      <th>text</th>\n",
       "      <th>date</th>\n",
       "      <th>category</th>\n",
       "      <th>subcategory</th>\n",
       "      <th>link</th>\n",
       "    </tr>\n",
       "  </thead>\n",
       "  <tbody>\n",
       "    <tr>\n",
       "      <th>0</th>\n",
       "      <td>Lula diz que está 'lascado', mas que ainda tem...</td>\n",
       "      <td>Com a possibilidade de uma condenação impedir ...</td>\n",
       "      <td>2017-09-10</td>\n",
       "      <td>poder</td>\n",
       "      <td>NaN</td>\n",
       "      <td>http://www1.folha.uol.com.br/poder/2017/10/192...</td>\n",
       "    </tr>\n",
       "    <tr>\n",
       "      <th>1</th>\n",
       "      <td>'Decidi ser escrava das mulheres que sofrem', ...</td>\n",
       "      <td>Para Oumou Sangaré, cantora e ativista malines...</td>\n",
       "      <td>2017-09-10</td>\n",
       "      <td>ilustrada</td>\n",
       "      <td>NaN</td>\n",
       "      <td>http://www1.folha.uol.com.br/ilustrada/2017/10...</td>\n",
       "    </tr>\n",
       "    <tr>\n",
       "      <th>2</th>\n",
       "      <td>Três reportagens da Folha ganham Prêmio Petrob...</td>\n",
       "      <td>Três reportagens da Folha foram vencedoras do ...</td>\n",
       "      <td>2017-09-10</td>\n",
       "      <td>poder</td>\n",
       "      <td>NaN</td>\n",
       "      <td>http://www1.folha.uol.com.br/poder/2017/10/192...</td>\n",
       "    </tr>\n",
       "    <tr>\n",
       "      <th>3</th>\n",
       "      <td>Filme 'Star Wars: Os Últimos Jedi' ganha trail...</td>\n",
       "      <td>A Disney divulgou na noite desta segunda-feira...</td>\n",
       "      <td>2017-09-10</td>\n",
       "      <td>ilustrada</td>\n",
       "      <td>NaN</td>\n",
       "      <td>http://www1.folha.uol.com.br/ilustrada/2017/10...</td>\n",
       "    </tr>\n",
       "    <tr>\n",
       "      <th>4</th>\n",
       "      <td>CBSS inicia acordos com fintechs e quer 30% do...</td>\n",
       "      <td>O CBSS, banco da holding Elopar dos sócios Bra...</td>\n",
       "      <td>2017-09-10</td>\n",
       "      <td>mercado</td>\n",
       "      <td>NaN</td>\n",
       "      <td>http://www1.folha.uol.com.br/mercado/2017/10/1...</td>\n",
       "    </tr>\n",
       "  </tbody>\n",
       "</table>\n",
       "</div>"
      ],
      "text/plain": [
       "                                               title  \\\n",
       "0  Lula diz que está 'lascado', mas que ainda tem...   \n",
       "1  'Decidi ser escrava das mulheres que sofrem', ...   \n",
       "2  Três reportagens da Folha ganham Prêmio Petrob...   \n",
       "3  Filme 'Star Wars: Os Últimos Jedi' ganha trail...   \n",
       "4  CBSS inicia acordos com fintechs e quer 30% do...   \n",
       "\n",
       "                                                text        date   category  \\\n",
       "0  Com a possibilidade de uma condenação impedir ...  2017-09-10      poder   \n",
       "1  Para Oumou Sangaré, cantora e ativista malines...  2017-09-10  ilustrada   \n",
       "2  Três reportagens da Folha foram vencedoras do ...  2017-09-10      poder   \n",
       "3  A Disney divulgou na noite desta segunda-feira...  2017-09-10  ilustrada   \n",
       "4  O CBSS, banco da holding Elopar dos sócios Bra...  2017-09-10    mercado   \n",
       "\n",
       "  subcategory                                               link  \n",
       "0         NaN  http://www1.folha.uol.com.br/poder/2017/10/192...  \n",
       "1         NaN  http://www1.folha.uol.com.br/ilustrada/2017/10...  \n",
       "2         NaN  http://www1.folha.uol.com.br/poder/2017/10/192...  \n",
       "3         NaN  http://www1.folha.uol.com.br/ilustrada/2017/10...  \n",
       "4         NaN  http://www1.folha.uol.com.br/mercado/2017/10/1...  "
      ]
     },
     "execution_count": 43,
     "metadata": {},
     "output_type": "execute_result"
    }
   ],
   "source": [
    "import pandas as pd\n",
    "news_load = pd.read_csv('articles_1000.csv')\n",
    "news_df = news_load[pd.notnull(news_load['text'])]\n",
    "news_df.head()"
   ]
  },
  {
   "cell_type": "code",
   "execution_count": 6,
   "metadata": {},
   "outputs": [],
   "source": [
    "stopwords_df = pd.read_csv('stopwords.txt', header=None, names=['stop'], sep='\\n') # USP\n",
    "stopwords = stopwords_df['stop'].str.strip().values"
   ]
  },
  {
   "cell_type": "code",
   "execution_count": 7,
   "metadata": {},
   "outputs": [],
   "source": [
    "import spacy # https://spacy.io/\n",
    "nlp = spacy.load('pt_core_news_sm')"
   ]
  },
  {
   "cell_type": "code",
   "execution_count": 8,
   "metadata": {},
   "outputs": [
    {
     "data": {
      "text/html": [
       "<div>\n",
       "<style scoped>\n",
       "    .dataframe tbody tr th:only-of-type {\n",
       "        vertical-align: middle;\n",
       "    }\n",
       "\n",
       "    .dataframe tbody tr th {\n",
       "        vertical-align: top;\n",
       "    }\n",
       "\n",
       "    .dataframe thead th {\n",
       "        text-align: right;\n",
       "    }\n",
       "</style>\n",
       "<table border=\"1\" class=\"dataframe\">\n",
       "  <thead>\n",
       "    <tr style=\"text-align: right;\">\n",
       "      <th></th>\n",
       "      <th>$</th>\n",
       "      <th>'s</th>\n",
       "      <th>+</th>\n",
       "      <th>-\"single</th>\n",
       "      <th>-\"você</th>\n",
       "      <th>-0,12</th>\n",
       "      <th>-0,41</th>\n",
       "      <th>-0,6</th>\n",
       "      <th>-1</th>\n",
       "      <th>-1,75</th>\n",
       "      <th>...</th>\n",
       "      <th>—uma</th>\n",
       "      <th>—valorização</th>\n",
       "      <th>—vejam</th>\n",
       "      <th>—à</th>\n",
       "      <th>—às</th>\n",
       "      <th>—é</th>\n",
       "      <th>€</th>\n",
       "      <th>─</th>\n",
       "      <th>▶</th>\n",
       "      <th>★</th>\n",
       "    </tr>\n",
       "  </thead>\n",
       "  <tbody>\n",
       "    <tr>\n",
       "      <th>News0</th>\n",
       "      <td>0.0</td>\n",
       "      <td>0.0</td>\n",
       "      <td>0.0</td>\n",
       "      <td>0.0</td>\n",
       "      <td>0.0</td>\n",
       "      <td>0.0</td>\n",
       "      <td>0.0</td>\n",
       "      <td>0.0</td>\n",
       "      <td>0.0</td>\n",
       "      <td>0.0</td>\n",
       "      <td>...</td>\n",
       "      <td>0.0</td>\n",
       "      <td>0.0</td>\n",
       "      <td>0.0</td>\n",
       "      <td>0.0</td>\n",
       "      <td>0.0</td>\n",
       "      <td>0.0</td>\n",
       "      <td>0.0</td>\n",
       "      <td>0.0</td>\n",
       "      <td>0.0</td>\n",
       "      <td>0.0</td>\n",
       "    </tr>\n",
       "    <tr>\n",
       "      <th>News1</th>\n",
       "      <td>0.0</td>\n",
       "      <td>0.0</td>\n",
       "      <td>0.0</td>\n",
       "      <td>0.0</td>\n",
       "      <td>0.0</td>\n",
       "      <td>0.0</td>\n",
       "      <td>0.0</td>\n",
       "      <td>0.0</td>\n",
       "      <td>0.0</td>\n",
       "      <td>0.0</td>\n",
       "      <td>...</td>\n",
       "      <td>0.0</td>\n",
       "      <td>0.0</td>\n",
       "      <td>0.0</td>\n",
       "      <td>0.0</td>\n",
       "      <td>0.0</td>\n",
       "      <td>0.0</td>\n",
       "      <td>0.0</td>\n",
       "      <td>0.0</td>\n",
       "      <td>0.0</td>\n",
       "      <td>0.0</td>\n",
       "    </tr>\n",
       "    <tr>\n",
       "      <th>News2</th>\n",
       "      <td>0.0</td>\n",
       "      <td>0.0</td>\n",
       "      <td>0.0</td>\n",
       "      <td>0.0</td>\n",
       "      <td>0.0</td>\n",
       "      <td>0.0</td>\n",
       "      <td>0.0</td>\n",
       "      <td>0.0</td>\n",
       "      <td>0.0</td>\n",
       "      <td>0.0</td>\n",
       "      <td>...</td>\n",
       "      <td>0.0</td>\n",
       "      <td>0.0</td>\n",
       "      <td>0.0</td>\n",
       "      <td>0.0</td>\n",
       "      <td>0.0</td>\n",
       "      <td>0.0</td>\n",
       "      <td>0.0</td>\n",
       "      <td>0.0</td>\n",
       "      <td>0.0</td>\n",
       "      <td>0.0</td>\n",
       "    </tr>\n",
       "    <tr>\n",
       "      <th>News3</th>\n",
       "      <td>0.0</td>\n",
       "      <td>0.0</td>\n",
       "      <td>0.0</td>\n",
       "      <td>0.0</td>\n",
       "      <td>0.0</td>\n",
       "      <td>0.0</td>\n",
       "      <td>0.0</td>\n",
       "      <td>0.0</td>\n",
       "      <td>0.0</td>\n",
       "      <td>0.0</td>\n",
       "      <td>...</td>\n",
       "      <td>0.0</td>\n",
       "      <td>0.0</td>\n",
       "      <td>0.0</td>\n",
       "      <td>0.0</td>\n",
       "      <td>0.0</td>\n",
       "      <td>0.0</td>\n",
       "      <td>0.0</td>\n",
       "      <td>0.0</td>\n",
       "      <td>0.0</td>\n",
       "      <td>0.0</td>\n",
       "    </tr>\n",
       "    <tr>\n",
       "      <th>News4</th>\n",
       "      <td>0.0</td>\n",
       "      <td>0.0</td>\n",
       "      <td>0.0</td>\n",
       "      <td>0.0</td>\n",
       "      <td>0.0</td>\n",
       "      <td>0.0</td>\n",
       "      <td>0.0</td>\n",
       "      <td>0.0</td>\n",
       "      <td>0.0</td>\n",
       "      <td>0.0</td>\n",
       "      <td>...</td>\n",
       "      <td>0.0</td>\n",
       "      <td>0.0</td>\n",
       "      <td>0.0</td>\n",
       "      <td>0.0</td>\n",
       "      <td>0.0</td>\n",
       "      <td>0.0</td>\n",
       "      <td>0.0</td>\n",
       "      <td>0.0</td>\n",
       "      <td>0.0</td>\n",
       "      <td>0.0</td>\n",
       "    </tr>\n",
       "    <tr>\n",
       "      <th>News5</th>\n",
       "      <td>0.0</td>\n",
       "      <td>0.0</td>\n",
       "      <td>0.0</td>\n",
       "      <td>0.0</td>\n",
       "      <td>0.0</td>\n",
       "      <td>0.0</td>\n",
       "      <td>0.0</td>\n",
       "      <td>0.0</td>\n",
       "      <td>0.0</td>\n",
       "      <td>0.0</td>\n",
       "      <td>...</td>\n",
       "      <td>0.0</td>\n",
       "      <td>0.0</td>\n",
       "      <td>0.0</td>\n",
       "      <td>0.0</td>\n",
       "      <td>0.0</td>\n",
       "      <td>0.0</td>\n",
       "      <td>0.0</td>\n",
       "      <td>0.0</td>\n",
       "      <td>0.0</td>\n",
       "      <td>0.0</td>\n",
       "    </tr>\n",
       "    <tr>\n",
       "      <th>News6</th>\n",
       "      <td>0.0</td>\n",
       "      <td>0.0</td>\n",
       "      <td>0.0</td>\n",
       "      <td>0.0</td>\n",
       "      <td>0.0</td>\n",
       "      <td>0.0</td>\n",
       "      <td>0.0</td>\n",
       "      <td>0.0</td>\n",
       "      <td>0.0</td>\n",
       "      <td>0.0</td>\n",
       "      <td>...</td>\n",
       "      <td>0.0</td>\n",
       "      <td>0.0</td>\n",
       "      <td>0.0</td>\n",
       "      <td>0.0</td>\n",
       "      <td>0.0</td>\n",
       "      <td>0.0</td>\n",
       "      <td>0.0</td>\n",
       "      <td>0.0</td>\n",
       "      <td>0.0</td>\n",
       "      <td>0.0</td>\n",
       "    </tr>\n",
       "    <tr>\n",
       "      <th>News7</th>\n",
       "      <td>0.0</td>\n",
       "      <td>0.0</td>\n",
       "      <td>0.0</td>\n",
       "      <td>0.0</td>\n",
       "      <td>0.0</td>\n",
       "      <td>0.0</td>\n",
       "      <td>0.0</td>\n",
       "      <td>0.0</td>\n",
       "      <td>0.0</td>\n",
       "      <td>0.0</td>\n",
       "      <td>...</td>\n",
       "      <td>0.0</td>\n",
       "      <td>0.0</td>\n",
       "      <td>0.0</td>\n",
       "      <td>0.0</td>\n",
       "      <td>0.0</td>\n",
       "      <td>0.0</td>\n",
       "      <td>0.0</td>\n",
       "      <td>0.0</td>\n",
       "      <td>0.0</td>\n",
       "      <td>0.0</td>\n",
       "    </tr>\n",
       "    <tr>\n",
       "      <th>News8</th>\n",
       "      <td>0.0</td>\n",
       "      <td>0.0</td>\n",
       "      <td>0.0</td>\n",
       "      <td>0.0</td>\n",
       "      <td>0.0</td>\n",
       "      <td>0.0</td>\n",
       "      <td>0.0</td>\n",
       "      <td>0.0</td>\n",
       "      <td>0.0</td>\n",
       "      <td>0.0</td>\n",
       "      <td>...</td>\n",
       "      <td>0.0</td>\n",
       "      <td>0.0</td>\n",
       "      <td>0.0</td>\n",
       "      <td>0.0</td>\n",
       "      <td>0.0</td>\n",
       "      <td>0.0</td>\n",
       "      <td>0.0</td>\n",
       "      <td>0.0</td>\n",
       "      <td>0.0</td>\n",
       "      <td>0.0</td>\n",
       "    </tr>\n",
       "    <tr>\n",
       "      <th>News9</th>\n",
       "      <td>0.0</td>\n",
       "      <td>0.0</td>\n",
       "      <td>0.0</td>\n",
       "      <td>0.0</td>\n",
       "      <td>0.0</td>\n",
       "      <td>0.0</td>\n",
       "      <td>0.0</td>\n",
       "      <td>0.0</td>\n",
       "      <td>0.0</td>\n",
       "      <td>0.0</td>\n",
       "      <td>...</td>\n",
       "      <td>0.0</td>\n",
       "      <td>0.0</td>\n",
       "      <td>0.0</td>\n",
       "      <td>0.0</td>\n",
       "      <td>0.0</td>\n",
       "      <td>0.0</td>\n",
       "      <td>0.0</td>\n",
       "      <td>0.0</td>\n",
       "      <td>0.0</td>\n",
       "      <td>0.0</td>\n",
       "    </tr>\n",
       "  </tbody>\n",
       "</table>\n",
       "<p>10 rows × 28056 columns</p>\n",
       "</div>"
      ],
      "text/plain": [
       "         $   's    +  -\"single  -\"você  -0,12  -0,41  -0,6   -1  -1,75 ...   \\\n",
       "News0  0.0  0.0  0.0       0.0     0.0    0.0    0.0   0.0  0.0    0.0 ...    \n",
       "News1  0.0  0.0  0.0       0.0     0.0    0.0    0.0   0.0  0.0    0.0 ...    \n",
       "News2  0.0  0.0  0.0       0.0     0.0    0.0    0.0   0.0  0.0    0.0 ...    \n",
       "News3  0.0  0.0  0.0       0.0     0.0    0.0    0.0   0.0  0.0    0.0 ...    \n",
       "News4  0.0  0.0  0.0       0.0     0.0    0.0    0.0   0.0  0.0    0.0 ...    \n",
       "News5  0.0  0.0  0.0       0.0     0.0    0.0    0.0   0.0  0.0    0.0 ...    \n",
       "News6  0.0  0.0  0.0       0.0     0.0    0.0    0.0   0.0  0.0    0.0 ...    \n",
       "News7  0.0  0.0  0.0       0.0     0.0    0.0    0.0   0.0  0.0    0.0 ...    \n",
       "News8  0.0  0.0  0.0       0.0     0.0    0.0    0.0   0.0  0.0    0.0 ...    \n",
       "News9  0.0  0.0  0.0       0.0     0.0    0.0    0.0   0.0  0.0    0.0 ...    \n",
       "\n",
       "       —uma  —valorização  —vejam   —à  —às   —é    €    ─    ▶    ★  \n",
       "News0   0.0           0.0     0.0  0.0  0.0  0.0  0.0  0.0  0.0  0.0  \n",
       "News1   0.0           0.0     0.0  0.0  0.0  0.0  0.0  0.0  0.0  0.0  \n",
       "News2   0.0           0.0     0.0  0.0  0.0  0.0  0.0  0.0  0.0  0.0  \n",
       "News3   0.0           0.0     0.0  0.0  0.0  0.0  0.0  0.0  0.0  0.0  \n",
       "News4   0.0           0.0     0.0  0.0  0.0  0.0  0.0  0.0  0.0  0.0  \n",
       "News5   0.0           0.0     0.0  0.0  0.0  0.0  0.0  0.0  0.0  0.0  \n",
       "News6   0.0           0.0     0.0  0.0  0.0  0.0  0.0  0.0  0.0  0.0  \n",
       "News7   0.0           0.0     0.0  0.0  0.0  0.0  0.0  0.0  0.0  0.0  \n",
       "News8   0.0           0.0     0.0  0.0  0.0  0.0  0.0  0.0  0.0  0.0  \n",
       "News9   0.0           0.0     0.0  0.0  0.0  0.0  0.0  0.0  0.0  0.0  \n",
       "\n",
       "[10 rows x 28056 columns]"
      ]
     },
     "execution_count": 8,
     "metadata": {},
     "output_type": "execute_result"
    }
   ],
   "source": [
    "from sklearn.feature_extraction.text import TfidfVectorizer\n",
    "\n",
    "def wm2df(wm, feat_names):\n",
    "    doc_names = ['News{:d}'.format(idx) for idx, _ in enumerate(wm)]\n",
    "\n",
    "    df = pd.DataFrame(data=wm.toarray(), index=doc_names,\n",
    "                      columns=feat_names)\n",
    "    return(df)\n",
    "\n",
    "def tokenizer_without_stopwords(docs):\n",
    "    doc = nlp(docs)\n",
    "    return [token.lemma_.lower() for token in doc if not (token.is_punct or token.is_space or (token.text.lower() in stopwords))]\n",
    "\n",
    "\n",
    "def my_preprocessor(list_):\n",
    "    return str(list_)\n",
    "\n",
    "custom_vec = TfidfVectorizer(preprocessor=my_preprocessor, tokenizer=tokenizer_without_stopwords)\n",
    "cwm = custom_vec.fit_transform(news_df.text)\n",
    "corpus_tfidf = wm2df(cwm, custom_vec.get_feature_names())\n",
    "\n",
    "corpus_tfidf.head(10)"
   ]
  },
  {
   "cell_type": "code",
   "execution_count": 9,
   "metadata": {},
   "outputs": [
    {
     "data": {
      "text/plain": [
       "$           0.0\n",
       "'s          0.0\n",
       "+           0.0\n",
       "-\"single    0.0\n",
       "-\"você      0.0\n",
       "-0,12       0.0\n",
       "-0,41       0.0\n",
       "-0,6        0.0\n",
       "-1          0.0\n",
       "-1,75       0.0\n",
       "Name: News12, dtype: float64"
      ]
     },
     "execution_count": 9,
     "metadata": {},
     "output_type": "execute_result"
    }
   ],
   "source": [
    "doc = \"News12\"\n",
    "\n",
    "words_vec = corpus_tfidf.loc[doc]\n",
    "words_vec.head(10)"
   ]
  },
  {
   "cell_type": "markdown",
   "metadata": {},
   "source": [
    "## Aplicando distância entre documentos\n",
    "- Euclidiana: quando você se preocupa com a magnitude da distância\n",
    "- Manhattan:"
   ]
  },
  {
   "cell_type": "code",
   "execution_count": 10,
   "metadata": {},
   "outputs": [],
   "source": [
    "words_vec_a = corpus_tfidf.loc[\"News26\"]\n",
    "words_vec_b = corpus_tfidf.loc[\"News48\"]"
   ]
  },
  {
   "cell_type": "code",
   "execution_count": 11,
   "metadata": {},
   "outputs": [
    {
     "data": {
      "text/plain": [
       "'Rivais franceses da Uber intensificam esforços para roubar fatia de mercado'"
      ]
     },
     "execution_count": 11,
     "metadata": {},
     "output_type": "execute_result"
    }
   ],
   "source": [
    "news_df.title[26]"
   ]
  },
  {
   "cell_type": "code",
   "execution_count": 12,
   "metadata": {},
   "outputs": [
    {
     "data": {
      "text/plain": [
       "'Uber muda tática e suspende serviço mais barato sem licença na Noruega'"
      ]
     },
     "execution_count": 12,
     "metadata": {},
     "output_type": "execute_result"
    }
   ],
   "source": [
    "news_df.title[48]"
   ]
  },
  {
   "cell_type": "code",
   "execution_count": 13,
   "metadata": {},
   "outputs": [
    {
     "name": "stdout",
     "output_type": "stream",
     "text": [
      "A similaridade de cosseno entre os dois documentos é 0.26018714614461536\n"
     ]
    }
   ],
   "source": [
    "from sklearn.metrics.pairwise import cosine_similarity\n",
    "\n",
    "s_c = cosine_similarity([words_vec_a.values], [words_vec_b.values])\n",
    "print(\"A similaridade de cosseno entre os dois documentos é {}\".format(s_c[0][0]))"
   ]
  },
  {
   "cell_type": "markdown",
   "metadata": {},
   "source": [
    "## Exercício: Vamos montar um sistema de recomendação\n",
    "Existe mais de uma abordagem para recomendar conteúdo, uma delas é utilizar o documento que está sendo consumido para teronar documentos semelhantes. Esse tipo de abordagem se chama **Content-based**.\n",
    "### 1. Faça uma função que recebe 2 docId, e retorne a similaridade de cosseno entre eles"
   ]
  },
  {
   "cell_type": "code",
   "execution_count": 14,
   "metadata": {},
   "outputs": [],
   "source": [
    "def similaridade(doc_a, doc_b, matriz):\n",
    "    return cosine_similarity([matriz.loc[doc_a].values], [matriz.loc[doc_b].values])[0][0]"
   ]
  },
  {
   "cell_type": "code",
   "execution_count": 15,
   "metadata": {},
   "outputs": [
    {
     "data": {
      "text/plain": [
       "0.26018714614461536"
      ]
     },
     "execution_count": 15,
     "metadata": {},
     "output_type": "execute_result"
    }
   ],
   "source": [
    "similaridade(\"News26\", \"News48\", corpus_tfidf)"
   ]
  },
  {
   "cell_type": "markdown",
   "metadata": {},
   "source": [
    "### 2. Faça uma função que recebe um docId, e calcule a similaridade entre o documento passado para a função e todos os outros.\n",
    "Retorne uma lista com (docId, similaridade)"
   ]
  },
  {
   "cell_type": "code",
   "execution_count": 16,
   "metadata": {},
   "outputs": [],
   "source": [
    "def recomendacao(doc_a, matriz):\n",
    "    return [(doc_,similaridade(doc_a, doc_, matriz)) for doc_ in matriz.index.values]"
   ]
  },
  {
   "cell_type": "code",
   "execution_count": 44,
   "metadata": {},
   "outputs": [
    {
     "data": {
      "text/plain": [
       "[('News0', 0.02910351244756649),\n",
       " ('News1', 0.018446770050393343),\n",
       " ('News2', 0.017980790343034826),\n",
       " ('News3', 0.026609379642142817),\n",
       " ('News4', 0.022483753473278207),\n",
       " ('News5', 0.017334235870466463),\n",
       " ('News6', 0.019438468677169335),\n",
       " ('News7', 0.009898725407404396),\n",
       " ('News8', 0.014621510060637184),\n",
       " ('News9', 0.16834441580271203)]"
      ]
     },
     "execution_count": 44,
     "metadata": {},
     "output_type": "execute_result"
    }
   ],
   "source": [
    "recomendacao(\"News48\", corpus_tfidf)[:10]"
   ]
  },
  {
   "cell_type": "markdown",
   "metadata": {},
   "source": [
    "#### Ordenando"
   ]
  },
  {
   "cell_type": "code",
   "execution_count": 45,
   "metadata": {},
   "outputs": [
    {
     "data": {
      "text/plain": [
       "[('News48', 1.0),\n",
       " ('News829', 0.41550841542641725),\n",
       " ('News26', 0.26018714614461536),\n",
       " ('News9', 0.16834441580271203),\n",
       " ('News558', 0.10224009429540874),\n",
       " ('News532', 0.10052504887068697),\n",
       " ('News866', 0.09644368393524447),\n",
       " ('News439', 0.0955784416262829),\n",
       " ('News28', 0.08974075713124824),\n",
       " ('News869', 0.08068252846812078)]"
      ]
     },
     "execution_count": 45,
     "metadata": {},
     "output_type": "execute_result"
    }
   ],
   "source": [
    "sorted(recomendacao(\"News48\", corpus_tfidf), key=lambda x: x[1], reverse=True)[:10]"
   ]
  },
  {
   "cell_type": "code",
   "execution_count": 19,
   "metadata": {},
   "outputs": [
    {
     "data": {
      "text/plain": [
       "'Fachin nega pedido de Aécio para devolver o mandato'"
      ]
     },
     "execution_count": 19,
     "metadata": {},
     "output_type": "execute_result"
    }
   ],
   "source": [
    "news_df.title[829]"
   ]
  },
  {
   "cell_type": "code",
   "execution_count": 20,
   "metadata": {},
   "outputs": [
    {
     "data": {
      "text/plain": [
       "'Uber muda tática e suspende serviço mais barato sem licença na Noruega'"
      ]
     },
     "execution_count": 20,
     "metadata": {},
     "output_type": "execute_result"
    }
   ],
   "source": [
    "news_df.title[48]"
   ]
  },
  {
   "cell_type": "markdown",
   "metadata": {},
   "source": [
    "# Filtro Colaborativo\n",
    "#### Usando o acesso de alguns usuários para recomendar itens para outros usuários.\n",
    "No caso, vamos recomendar palavras para outras matérias. Palavras que talvez os jornalistas tenham esquecido de mencionar em uma matéria."
   ]
  },
  {
   "cell_type": "code",
   "execution_count": 21,
   "metadata": {},
   "outputs": [
    {
     "name": "stdout",
     "output_type": "stream",
     "text": [
      "document    207918\n",
      "word        207918\n",
      "score       207918\n",
      "dtype: int64\n"
     ]
    },
    {
     "data": {
      "text/html": [
       "<div>\n",
       "<style scoped>\n",
       "    .dataframe tbody tr th:only-of-type {\n",
       "        vertical-align: middle;\n",
       "    }\n",
       "\n",
       "    .dataframe tbody tr th {\n",
       "        vertical-align: top;\n",
       "    }\n",
       "\n",
       "    .dataframe thead th {\n",
       "        text-align: right;\n",
       "    }\n",
       "</style>\n",
       "<table border=\"1\" class=\"dataframe\">\n",
       "  <thead>\n",
       "    <tr style=\"text-align: right;\">\n",
       "      <th></th>\n",
       "      <th>document</th>\n",
       "      <th>word</th>\n",
       "      <th>score</th>\n",
       "    </tr>\n",
       "  </thead>\n",
       "  <tbody>\n",
       "    <tr>\n",
       "      <th>298</th>\n",
       "      <td>News298</td>\n",
       "      <td>$</td>\n",
       "      <td>0.031385</td>\n",
       "    </tr>\n",
       "    <tr>\n",
       "      <th>809</th>\n",
       "      <td>News809</td>\n",
       "      <td>$</td>\n",
       "      <td>0.048620</td>\n",
       "    </tr>\n",
       "    <tr>\n",
       "      <th>1019</th>\n",
       "      <td>News80</td>\n",
       "      <td>'s</td>\n",
       "      <td>0.052006</td>\n",
       "    </tr>\n",
       "    <tr>\n",
       "      <th>1091</th>\n",
       "      <td>News152</td>\n",
       "      <td>'s</td>\n",
       "      <td>0.042241</td>\n",
       "    </tr>\n",
       "    <tr>\n",
       "      <th>1156</th>\n",
       "      <td>News217</td>\n",
       "      <td>'s</td>\n",
       "      <td>0.054083</td>\n",
       "    </tr>\n",
       "  </tbody>\n",
       "</table>\n",
       "</div>"
      ],
      "text/plain": [
       "     document word     score\n",
       "298   News298    $  0.031385\n",
       "809   News809    $  0.048620\n",
       "1019   News80   's  0.052006\n",
       "1091  News152   's  0.042241\n",
       "1156  News217   's  0.054083"
      ]
     },
     "execution_count": 21,
     "metadata": {},
     "output_type": "execute_result"
    }
   ],
   "source": [
    "unstack = corpus_tfidf.unstack()\n",
    "df = pd.DataFrame(unstack)\n",
    "\n",
    "word_df = df.reset_index()\n",
    "word_df.columns=[\"word\", \"document\", \"score\"]\n",
    "\n",
    "word_df = word_df[[\"document\", \"word\", \"score\"]]\n",
    "word_df = word_df[word_df.score > 0]\n",
    "print(word_df.count())\n",
    "word_df.head()"
   ]
  },
  {
   "cell_type": "markdown",
   "metadata": {},
   "source": [
    "## SVD (Singular Value Decomposition)\n",
    "A matriz de usuários-itens é decomposta conseguindo um autovetor que representa a \"força\" de cada elemento da matriz"
   ]
  },
  {
   "cell_type": "markdown",
   "metadata": {},
   "source": [
    "Um exemplo do uso de SVD em matrizes esparsas"
   ]
  },
  {
   "cell_type": "code",
   "execution_count": 22,
   "metadata": {},
   "outputs": [
    {
     "data": {
      "text/plain": [
       "(4, 3)"
      ]
     },
     "execution_count": 22,
     "metadata": {},
     "output_type": "execute_result"
    }
   ],
   "source": [
    "from scipy.sparse import csc_matrix\n",
    "from scipy.sparse.linalg import svds\n",
    "\n",
    "A = csc_matrix([[1,0,0],[5,0,2],[0,2,0],[0,0,3]], dtype=float)\n",
    "A.shape"
   ]
  },
  {
   "cell_type": "code",
   "execution_count": 23,
   "metadata": {},
   "outputs": [
    {
     "name": "stdout",
     "output_type": "stream",
     "text": [
      "s [2.75193379 5.6059665 ]\n",
      "u [[-1.73323831e-01  1.56782328e-01]\n",
      " [-2.27856346e-01  9.54078802e-01]\n",
      " [-1.04795289e-18  1.90587647e-19]\n",
      " [ 9.58144214e-01  2.55250744e-01]]\n",
      "vt [[-4.76975707e-01 -1.44194848e-18  8.78916478e-01]\n",
      " [ 8.78916478e-01  5.34213982e-19  4.76975707e-01]]\n"
     ]
    }
   ],
   "source": [
    "u, s, vt = svds(A, k=2) # k é o número de fatores\n",
    "print(\"s\",s)\n",
    "print(\"u\",u)\n",
    "print(\"vt\",vt)"
   ]
  },
  {
   "cell_type": "code",
   "execution_count": 24,
   "metadata": {},
   "outputs": [],
   "source": [
    "import numpy as np\n",
    "\n",
    "sigma = np.zeros((len(s), len(s)))\n",
    "for i in range(len(s)):\n",
    "    sigma[i,i] = s[i]"
   ]
  },
  {
   "cell_type": "code",
   "execution_count": 25,
   "metadata": {},
   "outputs": [
    {
     "data": {
      "text/plain": [
       "array([[ 1.00000000e+00,  1.15730387e-18, -1.66533454e-16],\n",
       "       [ 5.00000000e+00,  3.76142896e-18,  2.00000000e+00],\n",
       "       [ 2.31460773e-18,  4.72919999e-36, -2.02509038e-18],\n",
       "       [-6.66133815e-16, -3.03763556e-18,  3.00000000e+00]])"
      ]
     },
     "execution_count": 25,
     "metadata": {},
     "output_type": "execute_result"
    }
   ],
   "source": [
    "result = np.dot(u, np.dot(sigma, vt))\n",
    "result"
   ]
  },
  {
   "cell_type": "code",
   "execution_count": 26,
   "metadata": {},
   "outputs": [
    {
     "data": {
      "text/plain": [
       "matrix([[1., 0., 0.],\n",
       "        [5., 0., 2.],\n",
       "        [0., 2., 0.],\n",
       "        [0., 0., 3.]])"
      ]
     },
     "execution_count": 26,
     "metadata": {},
     "output_type": "execute_result"
    }
   ],
   "source": [
    "A.todense()"
   ]
  },
  {
   "cell_type": "markdown",
   "metadata": {},
   "source": [
    "### Existem alguns pacotes prontos para recomendação"
   ]
  },
  {
   "cell_type": "code",
   "execution_count": 36,
   "metadata": {},
   "outputs": [
    {
     "data": {
      "text/plain": [
       "{'fit_time': (29.431864976882935,\n",
       "  16.924479007720947,\n",
       "  17.809990167617798,\n",
       "  23.95526099205017,\n",
       "  18.561808824539185),\n",
       " 'test_mae': array([0.03920984, 0.03939817, 0.03889182, 0.03931086, 0.0393398 ]),\n",
       " 'test_rmse': array([0.05598938, 0.05584189, 0.05514933, 0.05589311, 0.05589038]),\n",
       " 'test_time': (0.7760980129241943,\n",
       "  0.4907360076904297,\n",
       "  0.5302860736846924,\n",
       "  0.5542788505554199,\n",
       "  0.6796102523803711)}"
      ]
     },
     "execution_count": 36,
     "metadata": {},
     "output_type": "execute_result"
    }
   ],
   "source": [
    "from surprise import SVD, Dataset\n",
    "from surprise.reader import Reader\n",
    "from surprise.model_selection import cross_validate\n",
    "\n",
    "reader = Reader(rating_scale=(0,1))\n",
    "data = Dataset.load_from_df(word_df, reader)\n",
    "\n",
    "algo = SVD()\n",
    "\n",
    "cross_validate(algo, data, measures=['RMSE', 'MAE'])\n",
    "\n",
    "# Ou Ndcg"
   ]
  },
  {
   "cell_type": "code",
   "execution_count": 37,
   "metadata": {},
   "outputs": [
    {
     "data": {
      "text/html": [
       "<div>\n",
       "<style scoped>\n",
       "    .dataframe tbody tr th:only-of-type {\n",
       "        vertical-align: middle;\n",
       "    }\n",
       "\n",
       "    .dataframe tbody tr th {\n",
       "        vertical-align: top;\n",
       "    }\n",
       "\n",
       "    .dataframe thead th {\n",
       "        text-align: right;\n",
       "    }\n",
       "</style>\n",
       "<table border=\"1\" class=\"dataframe\">\n",
       "  <thead>\n",
       "    <tr style=\"text-align: right;\">\n",
       "      <th></th>\n",
       "      <th>document</th>\n",
       "      <th>word</th>\n",
       "      <th>score</th>\n",
       "    </tr>\n",
       "  </thead>\n",
       "  <tbody>\n",
       "    <tr>\n",
       "      <th>4016955</th>\n",
       "      <td>News852</td>\n",
       "      <td>ba</td>\n",
       "      <td>0.075410</td>\n",
       "    </tr>\n",
       "    <tr>\n",
       "      <th>21660197</th>\n",
       "      <td>News284</td>\n",
       "      <td>roma</td>\n",
       "      <td>0.036379</td>\n",
       "    </tr>\n",
       "    <tr>\n",
       "      <th>16702755</th>\n",
       "      <td>News762</td>\n",
       "      <td>moda</td>\n",
       "      <td>0.050668</td>\n",
       "    </tr>\n",
       "    <tr>\n",
       "      <th>3158215</th>\n",
       "      <td>News358</td>\n",
       "      <td>apenas</td>\n",
       "      <td>0.019929</td>\n",
       "    </tr>\n",
       "    <tr>\n",
       "      <th>13436336</th>\n",
       "      <td>News185</td>\n",
       "      <td>incorporadora</td>\n",
       "      <td>0.055041</td>\n",
       "    </tr>\n",
       "    <tr>\n",
       "      <th>13933756</th>\n",
       "      <td>News874</td>\n",
       "      <td>internacional</td>\n",
       "      <td>0.016037</td>\n",
       "    </tr>\n",
       "    <tr>\n",
       "      <th>11024699</th>\n",
       "      <td>News839</td>\n",
       "      <td>federal</td>\n",
       "      <td>0.021501</td>\n",
       "    </tr>\n",
       "    <tr>\n",
       "      <th>7442635</th>\n",
       "      <td>News121</td>\n",
       "      <td>credibilidade</td>\n",
       "      <td>0.060174</td>\n",
       "    </tr>\n",
       "    <tr>\n",
       "      <th>2702393</th>\n",
       "      <td>News890</td>\n",
       "      <td>além</td>\n",
       "      <td>0.013888</td>\n",
       "    </tr>\n",
       "    <tr>\n",
       "      <th>4728512</th>\n",
       "      <td>News647</td>\n",
       "      <td>bolsar</td>\n",
       "      <td>0.043653</td>\n",
       "    </tr>\n",
       "  </tbody>\n",
       "</table>\n",
       "</div>"
      ],
      "text/plain": [
       "         document           word     score\n",
       "4016955   News852             ba  0.075410\n",
       "21660197  News284           roma  0.036379\n",
       "16702755  News762           moda  0.050668\n",
       "3158215   News358         apenas  0.019929\n",
       "13436336  News185  incorporadora  0.055041\n",
       "13933756  News874  internacional  0.016037\n",
       "11024699  News839        federal  0.021501\n",
       "7442635   News121  credibilidade  0.060174\n",
       "2702393   News890           além  0.013888\n",
       "4728512   News647         bolsar  0.043653"
      ]
     },
     "execution_count": 37,
     "metadata": {},
     "output_type": "execute_result"
    }
   ],
   "source": [
    "word_df[word_df.score > 0].sample(10)"
   ]
  },
  {
   "cell_type": "code",
   "execution_count": 38,
   "metadata": {},
   "outputs": [
    {
     "data": {
      "text/html": [
       "<div>\n",
       "<style scoped>\n",
       "    .dataframe tbody tr th:only-of-type {\n",
       "        vertical-align: middle;\n",
       "    }\n",
       "\n",
       "    .dataframe tbody tr th {\n",
       "        vertical-align: top;\n",
       "    }\n",
       "\n",
       "    .dataframe thead th {\n",
       "        text-align: right;\n",
       "    }\n",
       "</style>\n",
       "<table border=\"1\" class=\"dataframe\">\n",
       "  <thead>\n",
       "    <tr style=\"text-align: right;\">\n",
       "      <th></th>\n",
       "      <th>document</th>\n",
       "      <th>word</th>\n",
       "      <th>score</th>\n",
       "    </tr>\n",
       "  </thead>\n",
       "  <tbody>\n",
       "  </tbody>\n",
       "</table>\n",
       "</div>"
      ],
      "text/plain": [
       "Empty DataFrame\n",
       "Columns: [document, word, score]\n",
       "Index: []"
      ]
     },
     "execution_count": 38,
     "metadata": {},
     "output_type": "execute_result"
    }
   ],
   "source": [
    "word_df[(word_df.document=='News195') & (word_df.word=='alfabetizar')]"
   ]
  },
  {
   "cell_type": "code",
   "execution_count": 39,
   "metadata": {},
   "outputs": [
    {
     "data": {
      "text/plain": [
       "Prediction(uid='News195', iid='alfabetizar', r_ui=None, est=0.005901088637397578, details={'was_impossible': False})"
      ]
     },
     "execution_count": 39,
     "metadata": {},
     "output_type": "execute_result"
    }
   ],
   "source": [
    "algo.predict('News195','alfabetizar')"
   ]
  },
  {
   "cell_type": "markdown",
   "metadata": {},
   "source": [
    "## Exercício: Faça uma função que dê as melhores recomendações de palavras para uma matéria que eu passe\n",
    "Retorne uma lista com (word, score) ordenada"
   ]
  },
  {
   "cell_type": "code",
   "execution_count": 40,
   "metadata": {},
   "outputs": [],
   "source": [
    "def algo_word(doc, word):\n",
    "    return algo.predict(doc, word).est\n",
    "\n",
    "def recomend_words(doc):\n",
    "    lista = [(word, algo_word(doc, word)) for word in word_df.word.unique()]\n",
    "    \n",
    "    return sorted(lista, key=lambda x: x[1], reverse=True)"
   ]
  },
  {
   "cell_type": "code",
   "execution_count": 46,
   "metadata": {},
   "outputs": [
    {
     "data": {
      "text/plain": [
       "[('confeitar', 0.4765386168340888),\n",
       " ('1ª', 0.4470087856477225),\n",
       " ('battisti', 0.44484290753722733),\n",
       " ('iniciativa', 0.4373300203568129),\n",
       " ('emocional', 0.41594914459167676),\n",
       " ('italiano', 0.40823132162358466),\n",
       " ('juizado', 0.4026649641187814),\n",
       " ('creche', 0.39724832203321014),\n",
       " ('descobri', 0.3953178780292994),\n",
       " ('pet', 0.3935480474933952)]"
      ]
     },
     "execution_count": 46,
     "metadata": {},
     "output_type": "execute_result"
    }
   ],
   "source": [
    "recomend_words('News3')[:10]"
   ]
  },
  {
   "cell_type": "code",
   "execution_count": 42,
   "metadata": {},
   "outputs": [
    {
     "data": {
      "text/plain": [
       "\"Filme 'Star Wars: Os Últimos Jedi' ganha trailer definitivo; assista\""
      ]
     },
     "execution_count": 42,
     "metadata": {},
     "output_type": "execute_result"
    }
   ],
   "source": [
    "news_df.title[3]"
   ]
  }
 ],
 "metadata": {
  "kernelspec": {
   "display_name": "Python 3",
   "language": "python",
   "name": "python3"
  },
  "language_info": {
   "codemirror_mode": {
    "name": "ipython",
    "version": 3
   },
   "file_extension": ".py",
   "mimetype": "text/x-python",
   "name": "python",
   "nbconvert_exporter": "python",
   "pygments_lexer": "ipython3",
   "version": "3.6.4"
  }
 },
 "nbformat": 4,
 "nbformat_minor": 2
}
