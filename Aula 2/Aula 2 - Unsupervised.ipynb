{
 "cells": [
  {
   "cell_type": "markdown",
   "metadata": {},
   "source": [
    "# Não Supervisionado"
   ]
  },
  {
   "cell_type": "markdown",
   "metadata": {},
   "source": [
    "### Exemplos de tarefas de aprendizado não supervisionado:\n",
    "- Dado um conjunto de usuários de um site, queremos agrupá-los pelo padrão de consumo\n",
    "- Dado um conjunto de 100 variáveis que representam um dado, queremos plotar os dados usando apenas duas componentes"
   ]
  },
  {
   "cell_type": "code",
   "execution_count": 1,
   "metadata": {},
   "outputs": [],
   "source": [
    "import pandas as pd\n",
    "from matplotlib import pyplot as plt\n",
    "import requests"
   ]
  },
  {
   "cell_type": "markdown",
   "metadata": {},
   "source": [
    "# Algoritmo de clusterização\n",
    "O objetivo dos algoritmos de clusterização é agrupar os dados.\n",
    "<br>\n",
    "<br>\n",
    "Não há labels"
   ]
  },
  {
   "cell_type": "markdown",
   "metadata": {},
   "source": [
    "# K-means\n",
    "Antes de aplicarmos o K-means"
   ]
  },
  {
   "cell_type": "code",
   "execution_count": 2,
   "metadata": {},
   "outputs": [
    {
     "data": {
      "text/plain": [
       "[<matplotlib.lines.Line2D at 0x108dad9b0>]"
      ]
     },
     "execution_count": 2,
     "metadata": {},
     "output_type": "execute_result"
    },
    {
     "data": {
      "image/png": "[encoded data removed]",
      "text/plain": [
       "<matplotlib.figure.Figure at 0x108cd7cf8>"
      ]
     },
     "metadata": {},
     "output_type": "display_data"
    }
   ],
   "source": [
    "df_exemple = pd.read_csv(\"https://bit.ly/2NvBUdq\")\n",
    "plt.plot(df_exemple[\"x\"],df_exemple[\"y\"],\"*b\")"
   ]
  },
  {
   "cell_type": "markdown",
   "metadata": {},
   "source": [
    "## Centróid de um grupo\n",
    "Centróid é um ponto calculado que representa o centro do conjunto\n",
    "<br>\n",
    "<br>\n",
    "Um cálculo normal de centróid é a média dos atributos"
   ]
  },
  {
   "cell_type": "code",
   "execution_count": null,
   "metadata": {},
   "outputs": [],
   "source": [
    "def centroid(df):\n",
    "    result = {}\n",
    "    cols = list(df.columns)\n",
    "    for c in cols:\n",
    "        result[c] = "
   ]
  },
  {
   "cell_type": "markdown",
   "metadata": {},
   "source": [
    "O centróid é um cálculo baseado na média das coordenadas. **A média é um valor muito influenciado pelos outliers.**"
   ]
  },
  {
   "cell_type": "code",
   "execution_count": null,
   "metadata": {},
   "outputs": [],
   "source": [
    "from sklearn.cluster import KMeans\n",
    "\n",
    "km_model = KMeans()"
   ]
  }
 ],
 "metadata": {
  "kernelspec": {
   "display_name": "Python 3",
   "language": "python",
   "name": "python3"
  },
  "language_info": {
   "codemirror_mode": {
    "name": "ipython",
    "version": 3
   },
   "file_extension": ".py",
   "mimetype": "text/x-python",
   "name": "python",
   "nbconvert_exporter": "python",
   "pygments_lexer": "ipython3",
   "version": "3.6.4"
  }
 },
 "nbformat": 4,
 "nbformat_minor": 2
}
